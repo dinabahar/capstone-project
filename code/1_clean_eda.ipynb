{
 "cells": [
  {
   "cell_type": "markdown",
   "metadata": {
    "colab_type": "text",
    "id": "NLkQ1fszbk0x"
   },
   "source": [
    "<img src=\"https://i.imgur.com/qlmILqC.png\" style=\"center; margin: 20px;\">\n",
    "\n",
    "# Data Cleaning\n",
    "In this notebook I am cleaning the `RAW_recipes.csv` data. Though I ran this cleaning notebook on Jupyter, the codes are easily adjustable to be run on Google Colab. Simply mount your Google Drive (see [1. Import Libraries](#import)) and edit the file paths.\n",
    "\n",
    "---\n",
    "## DIRECTORY\n",
    "1. [Import Libraries](#import)\n",
    "2. [Read Data](#read)\n",
    "3. [Drop Irrelevant Columns](#drop)\n",
    "4. [Missing Values](#null)\n",
    "5. [Data Types](#type)\n",
    "6. [Duplicates](#duplicate)\n",
    "7. [Outliers](#outlier)\n",
    "8. [Exploratory Data Analysis: `tags`](#tags)\n",
    "9. [Save Cleaned Data](#save)"
   ]
  },
  {
   "cell_type": "markdown",
   "metadata": {
    "colab_type": "text",
    "id": "PHfrvgvDbk0y"
   },
   "source": [
    "---\n",
    "<a id='import'></a>\n",
    "## 1. Import Libraries\n",
    "Along with the customary libraries, Pandas, Numpy and Matplotlib, I will need,\n",
    "- `MultiLabelBinarizer` from Scikit-learn to binarize the `tags` to build the recipe recommender upon,\n",
    "- `os` module to interface with the underlying operating system that Python is running on, and\n",
    "- The python file, `functions`, in the assets directory."
   ]
  },
  {
   "cell_type": "code",
   "execution_count": 31,
   "metadata": {
    "colab": {
     "base_uri": "https://localhost:8080/",
     "height": 34
    },
    "colab_type": "code",
    "id": "0Bka5jmibk0y",
    "outputId": "e9c96821-b6fd-4bd5-bc1f-c7c410dccd7a"
   },
   "outputs": [],
   "source": [
    "import pandas as pd\n",
    "import numpy as np\n",
    "import matplotlib.pyplot as plt\n",
    "\n",
    "from sklearn.preprocessing import MultiLabelBinarizer\n",
    "\n",
    "import os\n",
    "os.chdir('../assets')\n",
    "import functions as f\n",
    "os.chdir('../code')"
   ]
  },
  {
   "cell_type": "markdown",
   "metadata": {},
   "source": [
    "When using Google Colab, save your [data](https://www.kaggle.com/shuyangli94/food-com-recipes-and-user-interactions) data to your Google Drive and read it by importing the `drive` method. Simply follow the instructions to authorize your Google account."
   ]
  },
  {
   "cell_type": "code",
   "execution_count": 2,
   "metadata": {},
   "outputs": [],
   "source": [
    "# from google.colab import drive\n",
    "# drive.mount('/content/drive')"
   ]
  },
  {
   "cell_type": "markdown",
   "metadata": {
    "colab_type": "text",
    "id": "o4j6Ge14bk03"
   },
   "source": [
    "<a id='read'></a>\n",
    "## 2. Read Data\n",
    "The [Kaggle data](https://www.kaggle.com/shuyangli94/food-com-recipes-and-user-interactions) has 200K+ recipes. Yet, due to limited computer storage, I'm only using approx. 15% of the available data. This brings my data set to 30,000 recipes. To keep the sample as accurate as possible, I'm randomly sampling the original data."
   ]
  },
  {
   "cell_type": "code",
   "execution_count": 3,
   "metadata": {
    "colab": {},
    "colab_type": "code",
    "id": "maGrgsPybk04",
    "outputId": "319d7451-d3eb-4b5a-9edf-27d7396aaa73"
   },
   "outputs": [
    {
     "data": {
      "text/html": [
       "<div>\n",
       "<style scoped>\n",
       "    .dataframe tbody tr th:only-of-type {\n",
       "        vertical-align: middle;\n",
       "    }\n",
       "\n",
       "    .dataframe tbody tr th {\n",
       "        vertical-align: top;\n",
       "    }\n",
       "\n",
       "    .dataframe thead th {\n",
       "        text-align: right;\n",
       "    }\n",
       "</style>\n",
       "<table border=\"1\" class=\"dataframe\">\n",
       "  <thead>\n",
       "    <tr style=\"text-align: right;\">\n",
       "      <th></th>\n",
       "      <th>name</th>\n",
       "      <th>id</th>\n",
       "      <th>minutes</th>\n",
       "      <th>contributor_id</th>\n",
       "      <th>submitted</th>\n",
       "      <th>tags</th>\n",
       "      <th>nutrition</th>\n",
       "      <th>n_steps</th>\n",
       "      <th>steps</th>\n",
       "      <th>description</th>\n",
       "      <th>ingredients</th>\n",
       "      <th>n_ingredients</th>\n",
       "    </tr>\n",
       "  </thead>\n",
       "  <tbody>\n",
       "    <tr>\n",
       "      <th>59957</th>\n",
       "      <td>crab filled crescent snacks</td>\n",
       "      <td>94947</td>\n",
       "      <td>70</td>\n",
       "      <td>111448</td>\n",
       "      <td>2004-07-03</td>\n",
       "      <td>['time-to-make', 'course', 'main-ingredient', ...</td>\n",
       "      <td>[69.2, 3.0, 9.0, 6.0, 5.0, 4.0, 3.0]</td>\n",
       "      <td>16</td>\n",
       "      <td>['heat over to 375 degrees', 'spray large cook...</td>\n",
       "      <td>found in a crescent roll recipe magazine.</td>\n",
       "      <td>['crabmeat', 'cream cheese', 'green onions', '...</td>\n",
       "      <td>9</td>\n",
       "    </tr>\n",
       "  </tbody>\n",
       "</table>\n",
       "</div>"
      ],
      "text/plain": [
       "                              name     id  minutes  contributor_id  \\\n",
       "59957  crab filled crescent snacks  94947       70          111448   \n",
       "\n",
       "        submitted                                               tags  \\\n",
       "59957  2004-07-03  ['time-to-make', 'course', 'main-ingredient', ...   \n",
       "\n",
       "                                  nutrition  n_steps  \\\n",
       "59957  [69.2, 3.0, 9.0, 6.0, 5.0, 4.0, 3.0]       16   \n",
       "\n",
       "                                                   steps  \\\n",
       "59957  ['heat over to 375 degrees', 'spray large cook...   \n",
       "\n",
       "                                     description  \\\n",
       "59957  found in a crescent roll recipe magazine.   \n",
       "\n",
       "                                             ingredients  n_ingredients  \n",
       "59957  ['crabmeat', 'cream cheese', 'green onions', '...              9  "
      ]
     },
     "execution_count": 3,
     "metadata": {},
     "output_type": "execute_result"
    }
   ],
   "source": [
    "df = pd.read_csv('../data/RAW_recipes.csv')\n",
    "df = df.sample(30_000, random_state = 42)\n",
    "df.head(1)"
   ]
  },
  {
   "cell_type": "markdown",
   "metadata": {
    "colab_type": "text",
    "id": "nX-4KSS_cdgM"
   },
   "source": [
    "<a id='drop'></a>\n",
    "## 3. Drop Irrelevant Columns\n",
    "\n",
    "For the purpose of my recommender system, I only need the `name` and `tags` columns. However, I need the following columns to perform data cleaning and exploration:\n",
    "```\n",
    "['name','id','minutes', 'tags', 'steps','ingredients']\n",
    "```\n",
    "In the interest of efficiency, I am dropping the irrelevant columns from my data."
   ]
  },
  {
   "cell_type": "code",
   "execution_count": 4,
   "metadata": {
    "colab": {
     "base_uri": "https://localhost:8080/",
     "height": 80
    },
    "colab_type": "code",
    "id": "qvbBU3ktcbtH",
    "outputId": "71508935-3171-4aa5-b23e-f11217c2ba57"
   },
   "outputs": [
    {
     "data": {
      "text/html": [
       "<div>\n",
       "<style scoped>\n",
       "    .dataframe tbody tr th:only-of-type {\n",
       "        vertical-align: middle;\n",
       "    }\n",
       "\n",
       "    .dataframe tbody tr th {\n",
       "        vertical-align: top;\n",
       "    }\n",
       "\n",
       "    .dataframe thead th {\n",
       "        text-align: right;\n",
       "    }\n",
       "</style>\n",
       "<table border=\"1\" class=\"dataframe\">\n",
       "  <thead>\n",
       "    <tr style=\"text-align: right;\">\n",
       "      <th></th>\n",
       "      <th>name</th>\n",
       "      <th>id</th>\n",
       "      <th>minutes</th>\n",
       "      <th>tags</th>\n",
       "      <th>steps</th>\n",
       "      <th>ingredients</th>\n",
       "    </tr>\n",
       "  </thead>\n",
       "  <tbody>\n",
       "    <tr>\n",
       "      <th>59957</th>\n",
       "      <td>crab filled crescent snacks</td>\n",
       "      <td>94947</td>\n",
       "      <td>70</td>\n",
       "      <td>['time-to-make', 'course', 'main-ingredient', ...</td>\n",
       "      <td>['heat over to 375 degrees', 'spray large cook...</td>\n",
       "      <td>['crabmeat', 'cream cheese', 'green onions', '...</td>\n",
       "    </tr>\n",
       "  </tbody>\n",
       "</table>\n",
       "</div>"
      ],
      "text/plain": [
       "                              name     id  minutes  \\\n",
       "59957  crab filled crescent snacks  94947       70   \n",
       "\n",
       "                                                    tags  \\\n",
       "59957  ['time-to-make', 'course', 'main-ingredient', ...   \n",
       "\n",
       "                                                   steps  \\\n",
       "59957  ['heat over to 375 degrees', 'spray large cook...   \n",
       "\n",
       "                                             ingredients  \n",
       "59957  ['crabmeat', 'cream cheese', 'green onions', '...  "
      ]
     },
     "execution_count": 4,
     "metadata": {},
     "output_type": "execute_result"
    }
   ],
   "source": [
    "df = df[['name','id','minutes', 'tags', 'steps','ingredients']]\n",
    "\n",
    "df.head(1)"
   ]
  },
  {
   "cell_type": "markdown",
   "metadata": {
    "colab_type": "text",
    "id": "EGw-iakNbk0-"
   },
   "source": [
    "<a id='null'></a>\n",
    "## 4. Missing Values\n",
    "\n",
    "No missing values found."
   ]
  },
  {
   "cell_type": "code",
   "execution_count": 5,
   "metadata": {
    "colab": {
     "base_uri": "https://localhost:8080/",
     "height": 102
    },
    "colab_type": "code",
    "id": "tiKxVrWXbk0_",
    "outputId": "57538f21-97cf-43c7-b360-f31b1afda247"
   },
   "outputs": [
    {
     "data": {
      "text/plain": [
       "name           0\n",
       "id             0\n",
       "minutes        0\n",
       "tags           0\n",
       "steps          0\n",
       "ingredients    0\n",
       "dtype: int64"
      ]
     },
     "execution_count": 5,
     "metadata": {},
     "output_type": "execute_result"
    }
   ],
   "source": [
    "df.isna().sum()"
   ]
  },
  {
   "cell_type": "markdown",
   "metadata": {
    "colab_type": "text",
    "id": "My_M8NZZbk1P"
   },
   "source": [
    "<a id='type'></a>\n",
    "## 5. Data types\n",
    "All data types are correct."
   ]
  },
  {
   "cell_type": "code",
   "execution_count": 6,
   "metadata": {
    "colab": {
     "base_uri": "https://localhost:8080/",
     "height": 102
    },
    "colab_type": "code",
    "id": "PHaI_73obk1Q",
    "outputId": "7d8fda04-2eac-4698-a80b-ac53f7f08740"
   },
   "outputs": [
    {
     "data": {
      "text/plain": [
       "name           object\n",
       "id              int64\n",
       "minutes         int64\n",
       "tags           object\n",
       "steps          object\n",
       "ingredients    object\n",
       "dtype: object"
      ]
     },
     "execution_count": 6,
     "metadata": {},
     "output_type": "execute_result"
    }
   ],
   "source": [
    "df.dtypes"
   ]
  },
  {
   "cell_type": "markdown",
   "metadata": {
    "colab_type": "text",
    "id": "m74MbtU2bk1T"
   },
   "source": [
    "<a id='duplicate'></a>\n",
    "## 6. Duplicates\n",
    "No ducplicate recipes found."
   ]
  },
  {
   "cell_type": "code",
   "execution_count": 7,
   "metadata": {
    "colab": {
     "base_uri": "https://localhost:8080/",
     "height": 49
    },
    "colab_type": "code",
    "id": "55EjOP-Rbk1T",
    "outputId": "eb1baa7e-90db-4692-b4da-88dbe9b3f6ab"
   },
   "outputs": [
    {
     "data": {
      "text/html": [
       "<div>\n",
       "<style scoped>\n",
       "    .dataframe tbody tr th:only-of-type {\n",
       "        vertical-align: middle;\n",
       "    }\n",
       "\n",
       "    .dataframe tbody tr th {\n",
       "        vertical-align: top;\n",
       "    }\n",
       "\n",
       "    .dataframe thead th {\n",
       "        text-align: right;\n",
       "    }\n",
       "</style>\n",
       "<table border=\"1\" class=\"dataframe\">\n",
       "  <thead>\n",
       "    <tr style=\"text-align: right;\">\n",
       "      <th></th>\n",
       "      <th>name</th>\n",
       "      <th>id</th>\n",
       "      <th>minutes</th>\n",
       "      <th>tags</th>\n",
       "      <th>steps</th>\n",
       "      <th>ingredients</th>\n",
       "    </tr>\n",
       "  </thead>\n",
       "  <tbody>\n",
       "  </tbody>\n",
       "</table>\n",
       "</div>"
      ],
      "text/plain": [
       "Empty DataFrame\n",
       "Columns: [name, id, minutes, tags, steps, ingredients]\n",
       "Index: []"
      ]
     },
     "execution_count": 7,
     "metadata": {},
     "output_type": "execute_result"
    }
   ],
   "source": [
    "df[df.duplicated()]"
   ]
  },
  {
   "cell_type": "markdown",
   "metadata": {
    "colab_type": "text",
    "id": "BuXBEJi8bk1Y"
   },
   "source": [
    "<a id='outlier'></a>\n",
    "## 7. Outliers\n",
    "I'm using a boxplot to check the distribution of `minutes` (cooking time), to see if there are outliers. To interpret the boxplot below, it is important to understand that,\n",
    ">The upper and lower whiskers represent scores outside the middle 50%. Whiskers often (but not always) stretch over a wider range of scores than the middle quartile (box) groups.\" \n",
    "\n",
    "Source: [Wellbeing@School](https://www.wellbeingatschool.org.nz/information-sheet/understanding-and-interpreting-box-plots#:~:text=The%20upper%20and%20lower%20whiskers,than%20the%20middle%20quartile%20groups.)\n",
    "\n",
    "With that in mind, recipes that require more than 2 hours (rounded up) to cook are considered outliers because they are beyond the upper extremes (upper whisker). These outliers amount to 11% of the 30,000 data.\n",
    "\n",
    "<img src='../plots/boxplot_minutes.png' alt=\"boxplot_minutes\" width=\"45%\" height=\"45%\">\n",
    "I will investigate further the recipes that takes longer than 2 hours to find an explaination and handle them appropriately."
   ]
  },
  {
   "cell_type": "code",
   "execution_count": 8,
   "metadata": {
    "colab": {
     "base_uri": "https://localhost:8080/",
     "height": 512
    },
    "colab_type": "code",
    "id": "N0Pr4t0Vbk1Z",
    "outputId": "d2d47e0b-7af4-42b3-cff2-e1bc6bbb982f"
   },
   "outputs": [
    {
     "data": {
      "image/png": "[encoded data removed]",
      "text/plain": [
       "<Figure size 432x288 with 1 Axes>"
      ]
     },
     "metadata": {
      "needs_background": "light"
     },
     "output_type": "display_data"
    }
   ],
   "source": [
    "plt.figure(figsize=(6, 4))\n",
    "\n",
    "df[df.minutes < 120]['minutes'].plot(kind='box', vert=False)\n",
    "\n",
    "plt.title('Boxplot of Cooking Time (minutes)\\n', fontsize=24)\n",
    "plt.xlabel('', fontsize=14)\n",
    "plt.yticks(fontsize=14)\n",
    "\n",
    "plt.savefig('../plots/boxplot_minutes.png', dpi=235, bbox_inches='tight');"
   ]
  },
  {
   "cell_type": "code",
   "execution_count": 9,
   "metadata": {
    "colab": {},
    "colab_type": "code",
    "id": "2vp0saflbk1b",
    "outputId": "200294ee-4e1f-4cac-941f-078a9a25315e"
   },
   "outputs": [
    {
     "name": "stdout",
     "output_type": "stream",
     "text": [
      "0.11 out of the 30,000 recipe data are considered outliers.\n"
     ]
    }
   ],
   "source": [
    "print(f\"{round(df[df.minutes > 120].shape[0]/df.shape[0],2)} out of the 30,000 recipe data are considered outliers.\")"
   ]
  },
  {
   "cell_type": "markdown",
   "metadata": {
    "colab_type": "text",
    "id": "bkFtkBfibk1d"
   },
   "source": [
    "#### Investigating Outliers\n",
    "My assumption is that the outliers are justified because recipes that involves braising, fermenting, smoking, or freezing will be time-consuming. To investigate, I dug into recipe samples that takes (approx.) 4 different cooking time(s): \n",
    "- 12 hours\n",
    "- 1 day\n",
    "- 1 month\n",
    "- 3 months"
   ]
  },
  {
   "cell_type": "markdown",
   "metadata": {
    "colab_type": "text",
    "id": "R5mugPlGbk1e"
   },
   "source": [
    "**Define a function that fetches time-consuming recipe details**"
   ]
  },
  {
   "cell_type": "code",
   "execution_count": 10,
   "metadata": {
    "colab": {},
    "colab_type": "code",
    "id": "icccO44tbk1e"
   },
   "outputs": [],
   "source": [
    "def get_deets(index, unit):\n",
    "    \"\"\"\n",
    "    index = index of recipe in DataFrame\n",
    "    unit  = desired time unit\n",
    "    \"\"\"\n",
    "    unit_conversions = {'hour': 60,\n",
    "                        'day':1440,\n",
    "                        'month':43800}\n",
    "    \n",
    "    name = df.loc[index]['name']\n",
    "    time = df.loc[index]['minutes']\n",
    "    recipe = df.loc[index]['steps'][2:-2].split(\"', '\")\n",
    "    \n",
    "    print(f'Name: {name.title() }')\n",
    "    print('Cooking Time: '+str(round(time/unit_conversions[unit]))+' '+ unit)\n",
    "    print(f'Recipe Steps: {recipe}')"
   ]
  },
  {
   "cell_type": "markdown",
   "metadata": {
    "colab_type": "text",
    "id": "8ZW7eLOkbk1g"
   },
   "source": [
    "**Recipe that requires 12 hours**"
   ]
  },
  {
   "cell_type": "code",
   "execution_count": 11,
   "metadata": {
    "colab": {},
    "colab_type": "code",
    "id": "Rlr0eWN1bk1h",
    "outputId": "7c2a077f-d9c3-4a65-8e84-65c48a4c11d6"
   },
   "outputs": [
    {
     "name": "stdout",
     "output_type": "stream",
     "text": [
      "Name: Garden Minestrone\n",
      "Cooking Time: 12.0 hour\n",
      "Recipe Steps: ['microwave onion , garlic , oil , oregano , and red pepper flakes in bowl , stirring occasionally , until onion is softened , about 5 minutes', 'transfer to slow cooker', 'stir broth , tomato sauce , soaked beans , and carrots into slow cooker', 'cover and cook until beans are tender , 9-11 hours on low or 5-7 hours on high', 'stir in zucchini , chard , and pasta', 'cover and cook on high until vegetables and pasta are tender , 20-30 minutes', 'stir in basil', 'season with salt and pepper to taste', 'serve with parmesan cheese and additional olive oil']\n"
     ]
    }
   ],
   "source": [
    "get_deets(89734, 'hour')"
   ]
  },
  {
   "cell_type": "markdown",
   "metadata": {
    "colab_type": "text",
    "id": "7WpKkkZHbk1p"
   },
   "source": [
    "**Recipe that requires 1 day**"
   ]
  },
  {
   "cell_type": "code",
   "execution_count": 12,
   "metadata": {
    "colab": {},
    "colab_type": "code",
    "id": "ofar6xvibk1q",
    "outputId": "af442e4c-6b12-4c6b-b700-e9f8b13b5000"
   },
   "outputs": [
    {
     "name": "stdout",
     "output_type": "stream",
     "text": [
      "Name: Salad Bar Antipasto\n",
      "Cooking Time: 1.0 day\n",
      "Recipe Steps: ['combine and seal all ingredients in a large heavy plastic bag , except for the parmesan cheese', 'seal the bag and refrigerate for 24 hours , turning bag occasionally', 'turn out into a large serving bowl', 'top with the parmesan cheese , if desired']\n"
     ]
    }
   ],
   "source": [
    "get_deets(178579, 'day')"
   ]
  },
  {
   "cell_type": "markdown",
   "metadata": {
    "colab_type": "text",
    "id": "NX7l5FV_bk1t"
   },
   "source": [
    "**Recipe that requires 1 month**"
   ]
  },
  {
   "cell_type": "code",
   "execution_count": 13,
   "metadata": {
    "colab": {},
    "colab_type": "code",
    "id": "9Mb_eEzXbk1t",
    "outputId": "f777546c-fea0-476a-f90a-bd112eb69be6"
   },
   "outputs": [
    {
     "name": "stdout",
     "output_type": "stream",
     "text": [
      "Name: Homemade Creme De Menthe\n",
      "Cooking Time: 1.0 month\n",
      "Recipe Steps: ['boil sugar and water together', 'let cool', 'combine all other ingredients in a large pitcher', 'add sugar syrup , stirring to combine , and pour into clean sterilized bottles for storage', 'age for a month']\n"
     ]
    }
   ],
   "source": [
    "get_deets(106494, 'month')"
   ]
  },
  {
   "cell_type": "markdown",
   "metadata": {
    "colab_type": "text",
    "id": "7HiarIOdbk1v"
   },
   "source": [
    "**Recipe that requires more than 3 months**\n",
    "\n",
    "The masked DataFrame below shows that there is only 1 recipe that takes more than 3 months to make, so all outliers are accounted for. "
   ]
  },
  {
   "cell_type": "code",
   "execution_count": 14,
   "metadata": {},
   "outputs": [
    {
     "data": {
      "text/html": [
       "<div>\n",
       "<style scoped>\n",
       "    .dataframe tbody tr th:only-of-type {\n",
       "        vertical-align: middle;\n",
       "    }\n",
       "\n",
       "    .dataframe tbody tr th {\n",
       "        vertical-align: top;\n",
       "    }\n",
       "\n",
       "    .dataframe thead th {\n",
       "        text-align: right;\n",
       "    }\n",
       "</style>\n",
       "<table border=\"1\" class=\"dataframe\">\n",
       "  <thead>\n",
       "    <tr style=\"text-align: right;\">\n",
       "      <th></th>\n",
       "      <th>name</th>\n",
       "      <th>id</th>\n",
       "      <th>minutes</th>\n",
       "      <th>tags</th>\n",
       "      <th>steps</th>\n",
       "      <th>ingredients</th>\n",
       "    </tr>\n",
       "  </thead>\n",
       "  <tbody>\n",
       "    <tr>\n",
       "      <th>145524</th>\n",
       "      <td>nut wine</td>\n",
       "      <td>242032</td>\n",
       "      <td>132495</td>\n",
       "      <td>['time-to-make', 'course', 'cuisine', 'prepara...</td>\n",
       "      <td>['make a mixture of the nuts and alcohol and h...</td>\n",
       "      <td>['walnuts', 'everclear alcohol', 'sugar']</td>\n",
       "    </tr>\n",
       "  </tbody>\n",
       "</table>\n",
       "</div>"
      ],
      "text/plain": [
       "            name      id  minutes  \\\n",
       "145524  nut wine  242032   132495   \n",
       "\n",
       "                                                     tags  \\\n",
       "145524  ['time-to-make', 'course', 'cuisine', 'prepara...   \n",
       "\n",
       "                                                    steps  \\\n",
       "145524  ['make a mixture of the nuts and alcohol and h...   \n",
       "\n",
       "                                      ingredients  \n",
       "145524  ['walnuts', 'everclear alcohol', 'sugar']  "
      ]
     },
     "execution_count": 14,
     "metadata": {},
     "output_type": "execute_result"
    }
   ],
   "source": [
    "df[df['minutes']>131400].sort_values('minutes').head(1)"
   ]
  },
  {
   "cell_type": "code",
   "execution_count": 15,
   "metadata": {},
   "outputs": [
    {
     "name": "stdout",
     "output_type": "stream",
     "text": [
      "Name: Nut Wine\n",
      "Cooking Time: 3.0 month\n",
      "Recipe Steps: ['make a mixture of the nuts and alcohol and have it sit for 3 months', 'filter out the nuts', 'add the sugar', 'let mixture settle for another 2 to 3 days']\n"
     ]
    }
   ],
   "source": [
    "get_deets(145524, 'month')"
   ]
  },
  {
   "cell_type": "markdown",
   "metadata": {},
   "source": [
    "#### Investigating Outliers: Findings\n",
    "My assumption was correct, all time-consuming recipes are justified. The following are a quotes from recipe instructions (`steps`) to support,\n",
    "\n",
    "| Justified | Name                     | Cooking Time | Quote                                                                         |\n",
    "|-----------|--------------------------|--------------|-------------------------------------------------------------------------------|\n",
    "|    YES    | Garden Minestrone        | 12.0 hour    | Cover and cook until beans are tender , 9-11 hours on low or 5-7 hours on high|\n",
    "|    YES    | Salad Bar Antipasto      | 1.0 day      | Seal the bag and refrigerate for 24 hours , turning bag occasionally.         |\n",
    "|    YES    | Homemade Creme De Menthe | 1.0 month    | Age for a month.                                                              |\n",
    "|    YES    | Nut Wine                 | 3.0 month    | Make a mixture of the nuts and alcohol and have it sit for 3 months           |"
   ]
  },
  {
   "cell_type": "markdown",
   "metadata": {},
   "source": [
    "<a id='tags'></a>\n",
    "## 8. Exploratory Data Analysis: `tags`\n",
    "For my recommender system, I'm only using `tags` as my variables. In order to do so, I convert the data from `strings` into `list` structures and then binarize them using `MultiLabelBinarizer`. Using this method, I succesfully keep each tag unaltered.\n",
    "\n",
    "**Convert `tags` column into `list` structure**"
   ]
  },
  {
   "cell_type": "code",
   "execution_count": 16,
   "metadata": {},
   "outputs": [
    {
     "data": {
      "text/plain": [
       "59957     [time-to-make, course, main-ingredient, prepar...\n",
       "68281     [curries, 30-minutes-or-less, time-to-make, co...\n",
       "71122     [lactose, 30-minutes-or-less, time-to-make, co...\n",
       "163767    [15-minutes-or-less, time-to-make, course, mai...\n",
       "136941    [15-minutes-or-less, time-to-make, course, mai...\n",
       "                                ...                        \n",
       "82308     [time-to-make, course, main-ingredient, cuisin...\n",
       "137997    [60-minutes-or-less, time-to-make, course, pre...\n",
       "158674    [weeknight, 15-minutes-or-less, time-to-make, ...\n",
       "132795    [60-minutes-or-less, time-to-make, course, mai...\n",
       "40347     [15-minutes-or-less, time-to-make, course, mai...\n",
       "Name: tags, Length: 30000, dtype: object"
      ]
     },
     "execution_count": 16,
     "metadata": {},
     "output_type": "execute_result"
    }
   ],
   "source": [
    "f.make_lists(df, 'tags')"
   ]
  },
  {
   "cell_type": "markdown",
   "metadata": {},
   "source": [
    "**Vectorize `tags`**"
   ]
  },
  {
   "cell_type": "code",
   "execution_count": 17,
   "metadata": {},
   "outputs": [
    {
     "data": {
      "text/html": [
       "<div>\n",
       "<style scoped>\n",
       "    .dataframe tbody tr th:only-of-type {\n",
       "        vertical-align: middle;\n",
       "    }\n",
       "\n",
       "    .dataframe tbody tr th {\n",
       "        vertical-align: top;\n",
       "    }\n",
       "\n",
       "    .dataframe thead th {\n",
       "        text-align: right;\n",
       "    }\n",
       "</style>\n",
       "<table border=\"1\" class=\"dataframe\">\n",
       "  <thead>\n",
       "    <tr style=\"text-align: right;\">\n",
       "      <th></th>\n",
       "      <th></th>\n",
       "      <th>1-day-or-more</th>\n",
       "      <th>15-minutes-or-less</th>\n",
       "      <th>3-steps-or-less</th>\n",
       "      <th>30-minutes-or-less</th>\n",
       "      <th>4-hours-or-less</th>\n",
       "      <th>5-ingredients-or-less</th>\n",
       "      <th>60-minutes-or-less</th>\n",
       "      <th>a1-sauce</th>\n",
       "      <th>african</th>\n",
       "      <th>...</th>\n",
       "      <th>whitefish</th>\n",
       "      <th>whole-chicken</th>\n",
       "      <th>whole-duck</th>\n",
       "      <th>whole-turkey</th>\n",
       "      <th>wild-game</th>\n",
       "      <th>wings</th>\n",
       "      <th>winter</th>\n",
       "      <th>yams-sweet-potatoes</th>\n",
       "      <th>yeast</th>\n",
       "      <th>zucchini</th>\n",
       "    </tr>\n",
       "  </thead>\n",
       "  <tbody>\n",
       "    <tr>\n",
       "      <th>59957</th>\n",
       "      <td>0</td>\n",
       "      <td>0</td>\n",
       "      <td>0</td>\n",
       "      <td>0</td>\n",
       "      <td>0</td>\n",
       "      <td>1</td>\n",
       "      <td>0</td>\n",
       "      <td>0</td>\n",
       "      <td>0</td>\n",
       "      <td>0</td>\n",
       "      <td>...</td>\n",
       "      <td>0</td>\n",
       "      <td>0</td>\n",
       "      <td>0</td>\n",
       "      <td>0</td>\n",
       "      <td>0</td>\n",
       "      <td>0</td>\n",
       "      <td>0</td>\n",
       "      <td>0</td>\n",
       "      <td>0</td>\n",
       "      <td>0</td>\n",
       "    </tr>\n",
       "    <tr>\n",
       "      <th>68281</th>\n",
       "      <td>0</td>\n",
       "      <td>0</td>\n",
       "      <td>0</td>\n",
       "      <td>0</td>\n",
       "      <td>1</td>\n",
       "      <td>0</td>\n",
       "      <td>0</td>\n",
       "      <td>0</td>\n",
       "      <td>0</td>\n",
       "      <td>0</td>\n",
       "      <td>...</td>\n",
       "      <td>0</td>\n",
       "      <td>0</td>\n",
       "      <td>0</td>\n",
       "      <td>0</td>\n",
       "      <td>0</td>\n",
       "      <td>0</td>\n",
       "      <td>0</td>\n",
       "      <td>0</td>\n",
       "      <td>0</td>\n",
       "      <td>0</td>\n",
       "    </tr>\n",
       "    <tr>\n",
       "      <th>71122</th>\n",
       "      <td>0</td>\n",
       "      <td>0</td>\n",
       "      <td>0</td>\n",
       "      <td>0</td>\n",
       "      <td>1</td>\n",
       "      <td>0</td>\n",
       "      <td>0</td>\n",
       "      <td>0</td>\n",
       "      <td>0</td>\n",
       "      <td>0</td>\n",
       "      <td>...</td>\n",
       "      <td>0</td>\n",
       "      <td>0</td>\n",
       "      <td>0</td>\n",
       "      <td>0</td>\n",
       "      <td>0</td>\n",
       "      <td>0</td>\n",
       "      <td>0</td>\n",
       "      <td>0</td>\n",
       "      <td>0</td>\n",
       "      <td>0</td>\n",
       "    </tr>\n",
       "    <tr>\n",
       "      <th>163767</th>\n",
       "      <td>0</td>\n",
       "      <td>0</td>\n",
       "      <td>1</td>\n",
       "      <td>0</td>\n",
       "      <td>0</td>\n",
       "      <td>0</td>\n",
       "      <td>0</td>\n",
       "      <td>0</td>\n",
       "      <td>0</td>\n",
       "      <td>0</td>\n",
       "      <td>...</td>\n",
       "      <td>0</td>\n",
       "      <td>0</td>\n",
       "      <td>0</td>\n",
       "      <td>0</td>\n",
       "      <td>0</td>\n",
       "      <td>0</td>\n",
       "      <td>0</td>\n",
       "      <td>0</td>\n",
       "      <td>0</td>\n",
       "      <td>0</td>\n",
       "    </tr>\n",
       "    <tr>\n",
       "      <th>136941</th>\n",
       "      <td>0</td>\n",
       "      <td>0</td>\n",
       "      <td>1</td>\n",
       "      <td>1</td>\n",
       "      <td>0</td>\n",
       "      <td>0</td>\n",
       "      <td>0</td>\n",
       "      <td>0</td>\n",
       "      <td>0</td>\n",
       "      <td>0</td>\n",
       "      <td>...</td>\n",
       "      <td>0</td>\n",
       "      <td>0</td>\n",
       "      <td>0</td>\n",
       "      <td>0</td>\n",
       "      <td>0</td>\n",
       "      <td>0</td>\n",
       "      <td>0</td>\n",
       "      <td>0</td>\n",
       "      <td>0</td>\n",
       "      <td>0</td>\n",
       "    </tr>\n",
       "  </tbody>\n",
       "</table>\n",
       "<p>5 rows × 497 columns</p>\n",
       "</div>"
      ],
      "text/plain": [
       "           1-day-or-more  15-minutes-or-less  3-steps-or-less  \\\n",
       "59957   0              0                   0                0   \n",
       "68281   0              0                   0                0   \n",
       "71122   0              0                   0                0   \n",
       "163767  0              0                   1                0   \n",
       "136941  0              0                   1                1   \n",
       "\n",
       "        30-minutes-or-less  4-hours-or-less  5-ingredients-or-less  \\\n",
       "59957                    0                1                      0   \n",
       "68281                    1                0                      0   \n",
       "71122                    1                0                      0   \n",
       "163767                   0                0                      0   \n",
       "136941                   0                0                      0   \n",
       "\n",
       "        60-minutes-or-less  a1-sauce  african  ...  whitefish  whole-chicken  \\\n",
       "59957                    0         0        0  ...          0              0   \n",
       "68281                    0         0        0  ...          0              0   \n",
       "71122                    0         0        0  ...          0              0   \n",
       "163767                   0         0        0  ...          0              0   \n",
       "136941                   0         0        0  ...          0              0   \n",
       "\n",
       "        whole-duck  whole-turkey  wild-game  wings  winter  \\\n",
       "59957            0             0          0      0       0   \n",
       "68281            0             0          0      0       0   \n",
       "71122            0             0          0      0       0   \n",
       "163767           0             0          0      0       0   \n",
       "136941           0             0          0      0       0   \n",
       "\n",
       "        yams-sweet-potatoes  yeast  zucchini  \n",
       "59957                     0      0         0  \n",
       "68281                     0      0         0  \n",
       "71122                     0      0         0  \n",
       "163767                    0      0         0  \n",
       "136941                    0      0         0  \n",
       "\n",
       "[5 rows x 497 columns]"
      ]
     },
     "execution_count": 17,
     "metadata": {},
     "output_type": "execute_result"
    }
   ],
   "source": [
    "mlb = MultiLabelBinarizer()\n",
    "\n",
    "tags_df = pd.DataFrame(mlb.fit_transform(df['tags']), columns=mlb.classes_, index=df['tags'].index)\n",
    "tags_df.head()"
   ]
  },
  {
   "cell_type": "markdown",
   "metadata": {},
   "source": [
    "#### Quick Glance\n",
    "There are 497 unique tags from binarizing raw `tags` list. However, there's a bit of cleaning to do to handle the blank tag, `''`, and duplicate tags 'healthy' and 'healthy-2'."
   ]
  },
  {
   "cell_type": "markdown",
   "metadata": {},
   "source": [
    "#### Clean `tags`"
   ]
  },
  {
   "cell_type": "code",
   "execution_count": 18,
   "metadata": {},
   "outputs": [],
   "source": [
    "# drop\n",
    "\n",
    "tags_df.drop(columns=[\"\"], inplace=True)"
   ]
  },
  {
   "cell_type": "code",
   "execution_count": 19,
   "metadata": {},
   "outputs": [
    {
     "data": {
      "text/html": [
       "<div>\n",
       "<style scoped>\n",
       "    .dataframe tbody tr th:only-of-type {\n",
       "        vertical-align: middle;\n",
       "    }\n",
       "\n",
       "    .dataframe tbody tr th {\n",
       "        vertical-align: top;\n",
       "    }\n",
       "\n",
       "    .dataframe thead th {\n",
       "        text-align: right;\n",
       "    }\n",
       "</style>\n",
       "<table border=\"1\" class=\"dataframe\">\n",
       "  <thead>\n",
       "    <tr style=\"text-align: right;\">\n",
       "      <th></th>\n",
       "      <th>1-day-or-more</th>\n",
       "      <th>15-minutes-or-less</th>\n",
       "      <th>3-steps-or-less</th>\n",
       "      <th>30-minutes-or-less</th>\n",
       "      <th>4-hours-or-less</th>\n",
       "      <th>5-ingredients-or-less</th>\n",
       "      <th>60-minutes-or-less</th>\n",
       "      <th>a1-sauce</th>\n",
       "      <th>african</th>\n",
       "      <th>american</th>\n",
       "      <th>...</th>\n",
       "      <th>whitefish</th>\n",
       "      <th>whole-chicken</th>\n",
       "      <th>whole-duck</th>\n",
       "      <th>whole-turkey</th>\n",
       "      <th>wild-game</th>\n",
       "      <th>wings</th>\n",
       "      <th>winter</th>\n",
       "      <th>yams-sweet-potatoes</th>\n",
       "      <th>yeast</th>\n",
       "      <th>zucchini</th>\n",
       "    </tr>\n",
       "  </thead>\n",
       "  <tbody>\n",
       "    <tr>\n",
       "      <th>59957</th>\n",
       "      <td>0</td>\n",
       "      <td>0</td>\n",
       "      <td>0</td>\n",
       "      <td>0</td>\n",
       "      <td>1</td>\n",
       "      <td>0</td>\n",
       "      <td>0</td>\n",
       "      <td>0</td>\n",
       "      <td>0</td>\n",
       "      <td>0</td>\n",
       "      <td>...</td>\n",
       "      <td>0</td>\n",
       "      <td>0</td>\n",
       "      <td>0</td>\n",
       "      <td>0</td>\n",
       "      <td>0</td>\n",
       "      <td>0</td>\n",
       "      <td>0</td>\n",
       "      <td>0</td>\n",
       "      <td>0</td>\n",
       "      <td>0</td>\n",
       "    </tr>\n",
       "    <tr>\n",
       "      <th>68281</th>\n",
       "      <td>0</td>\n",
       "      <td>0</td>\n",
       "      <td>0</td>\n",
       "      <td>1</td>\n",
       "      <td>0</td>\n",
       "      <td>0</td>\n",
       "      <td>0</td>\n",
       "      <td>0</td>\n",
       "      <td>0</td>\n",
       "      <td>0</td>\n",
       "      <td>...</td>\n",
       "      <td>0</td>\n",
       "      <td>0</td>\n",
       "      <td>0</td>\n",
       "      <td>0</td>\n",
       "      <td>0</td>\n",
       "      <td>0</td>\n",
       "      <td>0</td>\n",
       "      <td>0</td>\n",
       "      <td>0</td>\n",
       "      <td>0</td>\n",
       "    </tr>\n",
       "    <tr>\n",
       "      <th>71122</th>\n",
       "      <td>0</td>\n",
       "      <td>0</td>\n",
       "      <td>0</td>\n",
       "      <td>1</td>\n",
       "      <td>0</td>\n",
       "      <td>0</td>\n",
       "      <td>0</td>\n",
       "      <td>0</td>\n",
       "      <td>0</td>\n",
       "      <td>0</td>\n",
       "      <td>...</td>\n",
       "      <td>0</td>\n",
       "      <td>0</td>\n",
       "      <td>0</td>\n",
       "      <td>0</td>\n",
       "      <td>0</td>\n",
       "      <td>0</td>\n",
       "      <td>0</td>\n",
       "      <td>0</td>\n",
       "      <td>0</td>\n",
       "      <td>0</td>\n",
       "    </tr>\n",
       "    <tr>\n",
       "      <th>163767</th>\n",
       "      <td>0</td>\n",
       "      <td>1</td>\n",
       "      <td>0</td>\n",
       "      <td>0</td>\n",
       "      <td>0</td>\n",
       "      <td>0</td>\n",
       "      <td>0</td>\n",
       "      <td>0</td>\n",
       "      <td>0</td>\n",
       "      <td>0</td>\n",
       "      <td>...</td>\n",
       "      <td>0</td>\n",
       "      <td>0</td>\n",
       "      <td>0</td>\n",
       "      <td>0</td>\n",
       "      <td>0</td>\n",
       "      <td>0</td>\n",
       "      <td>0</td>\n",
       "      <td>0</td>\n",
       "      <td>0</td>\n",
       "      <td>0</td>\n",
       "    </tr>\n",
       "    <tr>\n",
       "      <th>136941</th>\n",
       "      <td>0</td>\n",
       "      <td>1</td>\n",
       "      <td>1</td>\n",
       "      <td>0</td>\n",
       "      <td>0</td>\n",
       "      <td>0</td>\n",
       "      <td>0</td>\n",
       "      <td>0</td>\n",
       "      <td>0</td>\n",
       "      <td>0</td>\n",
       "      <td>...</td>\n",
       "      <td>0</td>\n",
       "      <td>0</td>\n",
       "      <td>0</td>\n",
       "      <td>0</td>\n",
       "      <td>0</td>\n",
       "      <td>0</td>\n",
       "      <td>0</td>\n",
       "      <td>0</td>\n",
       "      <td>0</td>\n",
       "      <td>0</td>\n",
       "    </tr>\n",
       "  </tbody>\n",
       "</table>\n",
       "<p>5 rows × 495 columns</p>\n",
       "</div>"
      ],
      "text/plain": [
       "        1-day-or-more  15-minutes-or-less  3-steps-or-less  \\\n",
       "59957               0                   0                0   \n",
       "68281               0                   0                0   \n",
       "71122               0                   0                0   \n",
       "163767              0                   1                0   \n",
       "136941              0                   1                1   \n",
       "\n",
       "        30-minutes-or-less  4-hours-or-less  5-ingredients-or-less  \\\n",
       "59957                    0                1                      0   \n",
       "68281                    1                0                      0   \n",
       "71122                    1                0                      0   \n",
       "163767                   0                0                      0   \n",
       "136941                   0                0                      0   \n",
       "\n",
       "        60-minutes-or-less  a1-sauce  african  american  ...  whitefish  \\\n",
       "59957                    0         0        0         0  ...          0   \n",
       "68281                    0         0        0         0  ...          0   \n",
       "71122                    0         0        0         0  ...          0   \n",
       "163767                   0         0        0         0  ...          0   \n",
       "136941                   0         0        0         0  ...          0   \n",
       "\n",
       "        whole-chicken  whole-duck  whole-turkey  wild-game  wings  winter  \\\n",
       "59957               0           0             0          0      0       0   \n",
       "68281               0           0             0          0      0       0   \n",
       "71122               0           0             0          0      0       0   \n",
       "163767              0           0             0          0      0       0   \n",
       "136941              0           0             0          0      0       0   \n",
       "\n",
       "        yams-sweet-potatoes  yeast  zucchini  \n",
       "59957                     0      0         0  \n",
       "68281                     0      0         0  \n",
       "71122                     0      0         0  \n",
       "163767                    0      0         0  \n",
       "136941                    0      0         0  \n",
       "\n",
       "[5 rows x 495 columns]"
      ]
     },
     "execution_count": 19,
     "metadata": {},
     "output_type": "execute_result"
    }
   ],
   "source": [
    "# combine\n",
    "\n",
    "for i in list(tags_df.index):\n",
    "    if tags_df.loc[i, 'healthy-2'] == 1:\n",
    "        tags_df.loc[i, 'healthy'] = 1\n",
    "        \n",
    "tags_df.drop(columns = 'healthy-2', inplace=True)\n",
    "\n",
    "tags_df.head()"
   ]
  },
  {
   "cell_type": "markdown",
   "metadata": {},
   "source": [
    "#### Plot the Distribution of `tags`\n",
    "There are 495 tags after cleaning. Shown on the boxplot below, tags that occur more than approx. 400 times (beyond the upper whisker) are extremely popular tags."
   ]
  },
  {
   "cell_type": "code",
   "execution_count": 20,
   "metadata": {},
   "outputs": [],
   "source": [
    "# Find sum of each tags\n",
    "\n",
    "tags_dict = {}\n",
    "\n",
    "for col in tags_df.columns:\n",
    "    tags_dict[col] = tags_df[col].sum()\n",
    "    \n",
    "tags_freq = pd.DataFrame(tags_dict.items(), columns=['tags', 'frequency'])"
   ]
  },
  {
   "cell_type": "code",
   "execution_count": 21,
   "metadata": {},
   "outputs": [
    {
     "data": {
      "image/png": "[encoded data removed]",
      "text/plain": [
       "<Figure size 432x288 with 1 Axes>"
      ]
     },
     "metadata": {
      "needs_background": "light"
     },
     "output_type": "display_data"
    }
   ],
   "source": [
    "# Boxplot of Tags\n",
    "\n",
    "tags_freq[(tags_freq['frequency'] < 400)].plot(kind='box', figsize=(6,4), vert=False)\n",
    "plt.title('Boxplot of Tags\\n', fontsize=24)\n",
    "plt.xlabel('', fontsize=14)\n",
    "plt.yticks(fontsize=14);\n",
    "\n",
    "plt.savefig('../plots/boxplot_tags.png', dpi=235, bbox_inches='tight')"
   ]
  },
  {
   "cell_type": "markdown",
   "metadata": {},
   "source": [
    "#### Plot the `tags` Within Boxplot Whiskers\n",
    "Displayed below are the top and bottom 5 of tags that are within the boxplot whiskers (lower and upper extremes). These tags range from occuring in 0 - 400 recipes and are still easily interpretable. As we can see, they may imply the type of food, cuisine, or ingredients in a recipe."
   ]
  },
  {
   "cell_type": "code",
   "execution_count": 22,
   "metadata": {},
   "outputs": [
    {
     "data": {
      "image/png": "[encoded data removed]",
      "text/plain": [
       "<Figure size 432x576 with 1 Axes>"
      ]
     },
     "metadata": {
      "needs_background": "light"
     },
     "output_type": "display_data"
    }
   ],
   "source": [
    "plt.figure(figsize=(6,8))\n",
    "\n",
    "head_in_whisker = tags_freq[(tags_freq['frequency'] < 401)].sort_values('frequency').head(5)\n",
    "tail_in_whisker = tags_freq[(tags_freq['frequency'] < 401)].sort_values('frequency').tail(5)\n",
    "\n",
    "plt.barh(head_in_whisker.tags, head_in_whisker.frequency, label='bottom_5', color='paleturquoise')\n",
    "plt.barh(tail_in_whisker.tags, tail_in_whisker.frequency, label='top_5', color='teal')\n",
    "\n",
    "plt.title('Tags Within Whiskers\\n', fontsize=24)\n",
    "plt.xlabel('Frequency', fontsize=20)\n",
    "plt.ylabel('Tags', fontsize=20)\n",
    "plt.xticks(fontsize=14)\n",
    "plt.yticks(fontsize=14)\n",
    "plt.legend();\n",
    "\n",
    "plt.savefig('../plots/within_whiskers_tags.png', dpi=235, bbox_inches='tight')"
   ]
  },
  {
   "cell_type": "markdown",
   "metadata": {},
   "source": [
    "#### Plot Infrequent Tags\n",
    "\n",
    "However, infrequent tags would only have a small amount of recipes to compare to and recommend from in a recipe recommender. Hence, I will drop them from my data since they are invaluable.\n",
    "\n",
    "I'm dropping tags with up to 0.05% (15 or less) of recipes tagged with it."
   ]
  },
  {
   "cell_type": "code",
   "execution_count": 23,
   "metadata": {},
   "outputs": [
    {
     "data": {
      "image/png": "[encoded data removed]",
      "text/plain": [
       "<Figure size 432x576 with 1 Axes>"
      ]
     },
     "metadata": {
      "needs_background": "light"
     },
     "output_type": "display_data"
    }
   ],
   "source": [
    "least_freq_tags = tags_freq[tags_freq['frequency']<6].sample(15, random_state=42).sort_values('frequency')\n",
    "\n",
    "plt.figure(figsize=(6,8))\n",
    "\n",
    "plt.barh(least_freq_tags['tags'], least_freq_tags['frequency'],\\\n",
    "         color=('darkolivegreen'))\n",
    "\n",
    "plt.title('15 Samples of Infrequent Tags\\n', fontsize=24)\n",
    "plt.xlabel('Frequency', fontsize=20)\n",
    "plt.ylabel('Tags', fontsize=20)\n",
    "plt.xticks(fontsize=14)\n",
    "plt.yticks(fontsize=14);\n",
    "\n",
    "plt.savefig('../plots/infreq_tags.png', dpi=235, bbox_inches='tight')"
   ]
  },
  {
   "cell_type": "code",
   "execution_count": 24,
   "metadata": {},
   "outputs": [
    {
     "data": {
      "text/plain": [
       "1-day-or-more           261\n",
       "15-minutes-or-less     5662\n",
       "3-steps-or-less        5816\n",
       "30-minutes-or-less     7072\n",
       "4-hours-or-less        6443\n",
       "                       ... \n",
       "wings                    84\n",
       "winter                  950\n",
       "yams-sweet-potatoes     200\n",
       "yeast                   422\n",
       "zucchini                 22\n",
       "Length: 398, dtype: int64"
      ]
     },
     "execution_count": 24,
     "metadata": {},
     "output_type": "execute_result"
    }
   ],
   "source": [
    "tags_col = list(tags_freq[(tags_freq['frequency'] > 15)]['tags'])\n",
    "\n",
    "tags_df = tags_df[tags_col]\n",
    "\n",
    "tags_df.sum()"
   ]
  },
  {
   "cell_type": "markdown",
   "metadata": {},
   "source": [
    "#### Plot the `tags` Beyond Boxplot Whiskers\n",
    "Displayed below are the top and bottom 5 of tags that are beyond the upper boxplot whisker. These tags range from occuring in 401 -  30,000 (all data) recipes. While the bottom 5 tags are still descriptive like the tags within the boxplot whiskers, the top 5 are too generic to be of value. I will explore these generic tags more in my next step."
   ]
  },
  {
   "cell_type": "code",
   "execution_count": 25,
   "metadata": {},
   "outputs": [
    {
     "data": {
      "image/png": "[encoded data removed]",
      "text/plain": [
       "<Figure size 432x576 with 1 Axes>"
      ]
     },
     "metadata": {
      "needs_background": "light"
     },
     "output_type": "display_data"
    }
   ],
   "source": [
    "plt.figure(figsize=(6,8))\n",
    "\n",
    "head_beyond_whisker = tags_freq[(tags_freq['frequency'] > 450)].sort_values('frequency').head(5)\n",
    "tail_beyond_whisker = tags_freq[(tags_freq['frequency'] > 450)].sort_values('frequency').tail(5)\n",
    "\n",
    "plt.barh(head_beyond_whisker.tags, head_beyond_whisker.frequency, label='bottom_5', color='cornflowerblue')\n",
    "plt.barh(tail_beyond_whisker.tags, tail_beyond_whisker.frequency, label='top_5', color='blue')\n",
    "\n",
    "plt.title('Tags Beyond Upper Whisker\\n', fontsize=24)\n",
    "plt.xlabel('Frequency', fontsize=20)\n",
    "plt.ylabel('Tags', fontsize=20)\n",
    "plt.xticks(fontsize=14)\n",
    "plt.yticks(fontsize=14)\n",
    "plt.legend(loc = 'lower right');\n",
    "\n",
    "plt.savefig('../plots/beyond_upper_whisker_tags.png', dpi=235, bbox_inches='tight')"
   ]
  },
  {
   "cell_type": "markdown",
   "metadata": {},
   "source": [
    "#### Plot 15 Most Frequent Tags\n",
    "The bar graph below shows the 15 most popular tags, sorted in descending order. We can discern that, the more popular the tag, the less descriptive (more generic) it becomes. These tags are in dark green. Additionally, we start to see more interpretable tags towards the bottom 4.\n",
    "\n",
    "Because the tags in dark green don't differentiate recipes that well, they wouldn't be of value to my recipe recommender, and hence they will be removed from my data. Which will bring us to 388 tags."
   ]
  },
  {
   "cell_type": "code",
   "execution_count": 26,
   "metadata": {},
   "outputs": [
    {
     "data": {
      "image/png": "[encoded data removed]",
      "text/plain": [
       "<Figure size 432x576 with 1 Axes>"
      ]
     },
     "metadata": {
      "needs_background": "light"
     },
     "output_type": "display_data"
    }
   ],
   "source": [
    "most_freq_tags = tags_freq.sort_values('frequency').tail(15)\n",
    "\n",
    "plt.figure(figsize=(6,8))\n",
    "\n",
    "plt.barh(most_freq_tags['tags'], most_freq_tags['frequency'],\\\n",
    "         color=('yellowgreen','yellowgreen','yellowgreen','yellowgreen','darkolivegreen','darkolivegreen','darkolivegreen','darkolivegreen','darkolivegreen','yellowgreen','darkolivegreen','darkolivegreen','darkolivegreen','darkolivegreen','darkolivegreen'))\n",
    "\n",
    "plt.title('15 Most Frequent Tags\\n', fontsize=24)\n",
    "plt.xlabel('Frequency', fontsize=20)\n",
    "plt.ylabel('Tags', fontsize=20)\n",
    "plt.xticks(fontsize=14)\n",
    "plt.yticks(fontsize=14);\n",
    "\n",
    "plt.savefig('../plots/most_freq_tags.png', dpi=235, bbox_inches='tight')"
   ]
  },
  {
   "cell_type": "code",
   "execution_count": 27,
   "metadata": {},
   "outputs": [
    {
     "data": {
      "text/plain": [
       "388"
      ]
     },
     "execution_count": 27,
     "metadata": {},
     "output_type": "execute_result"
    }
   ],
   "source": [
    "tags_to_drop = ['equipment','main-dish','low-in-something','cuisine','occasion','dietary',\\\n",
    " 'main-ingredient','course','time-to-make','preparation']\n",
    "\n",
    "tags_df.drop(columns=tags_to_drop, inplace=True)\n",
    "\n",
    "tags_df.shape[1]"
   ]
  },
  {
   "cell_type": "markdown",
   "metadata": {},
   "source": [
    "#### `tags` Summary\n",
    "After examining the different tags available, I decided that I will only use the vectorized tags as vairables in my recipe recommender because they already comprise of the most relevant features:\n",
    "1. Time Requirement\n",
    "2. Level of Difficulty\n",
    "3. Main Ingredients\n",
    "4. Others (Cuisine, food type, dietary restrictions, occasions)\n",
    "\n",
    "The bar chart below summarizes the different tags available."
   ]
  },
  {
   "cell_type": "code",
   "execution_count": 28,
   "metadata": {},
   "outputs": [
    {
     "data": {
      "image/png": "[encoded data removed]",
      "text/plain": [
       "<Figure size 576x576 with 1 Axes>"
      ]
     },
     "metadata": {
      "needs_background": "light"
     },
     "output_type": "display_data"
    }
   ],
   "source": [
    "plt.figure(figsize=(8,8))\n",
    "\n",
    "ingredients = tags_df[[\n",
    "    'mango',\n",
    "    'breads',\n",
    "    'beef']]\n",
    "\n",
    "others = tags_df[[\n",
    "    'greek',\n",
    "    'thanksgiving',\n",
    "    'scones',\n",
    "    'gluten-free']]\n",
    "\n",
    "time = tags_df[[\n",
    "    '15-minutes-or-less',\n",
    "    '30-minutes-or-less',\n",
    "    '4-hours-or-less',\n",
    "    '60-minutes-or-less']]\n",
    "\n",
    "level = tags_df[[\n",
    "    '3-steps-or-less',\n",
    "    '5-ingredients-or-less',\n",
    "    'easy']]\n",
    "\n",
    "\n",
    "plt.barh(others.columns, others.sum().sort_values(), label='Others', color='orange')\n",
    "plt.barh(ingredients.columns, ingredients.sum().sort_values(), label='Main Ingredients', color='tomato')\n",
    "plt.barh(time.columns, time.sum().sort_values(), label='Time Requirement', color='gold')\n",
    "plt.barh(level.columns, level.sum().sort_values(), label='Level of Difficulty', color='crimson')\n",
    "\n",
    "plt.title('Summary of Tags', fontsize=24)\n",
    "plt.xlabel('Frequency', fontsize=20)\n",
    "plt.ylabel('Tags', fontsize=20)\n",
    "plt.xticks(fontsize=14)\n",
    "plt.yticks(fontsize=14)\n",
    "plt.legend();\n",
    "\n",
    "plt.savefig('../plots/tags_summary.png', dpi=235, bbox_inches='tight')"
   ]
  },
  {
   "cell_type": "markdown",
   "metadata": {
    "colab_type": "text",
    "id": "0z9qjAB2bk2F"
   },
   "source": [
    "<a id='outlier'></a>\n",
    "## 8. Save Data\n",
    "I'm saving two CSV files, one as the DataFrame to pull recommendation details, `cleaned_recipes.csv`, and another to build the recommender system upon, `ready.csv`. Make sure to reset the index if you have dropped row(s) of data when cleaning.\n",
    "\n",
    "**cleaned_recipes.csv**"
   ]
  },
  {
   "cell_type": "code",
   "execution_count": 29,
   "metadata": {
    "colab": {},
    "colab_type": "code",
    "id": "jV47o9u2bk2F",
    "outputId": "7843f94e-c6c3-4336-cc27-a0dfd2778423"
   },
   "outputs": [
    {
     "data": {
      "text/html": [
       "<div>\n",
       "<style scoped>\n",
       "    .dataframe tbody tr th:only-of-type {\n",
       "        vertical-align: middle;\n",
       "    }\n",
       "\n",
       "    .dataframe tbody tr th {\n",
       "        vertical-align: top;\n",
       "    }\n",
       "\n",
       "    .dataframe thead th {\n",
       "        text-align: right;\n",
       "    }\n",
       "</style>\n",
       "<table border=\"1\" class=\"dataframe\">\n",
       "  <thead>\n",
       "    <tr style=\"text-align: right;\">\n",
       "      <th></th>\n",
       "      <th>name</th>\n",
       "      <th>minutes</th>\n",
       "      <th>steps</th>\n",
       "      <th>ingredients</th>\n",
       "    </tr>\n",
       "  </thead>\n",
       "  <tbody>\n",
       "  </tbody>\n",
       "</table>\n",
       "</div>"
      ],
      "text/plain": [
       "Empty DataFrame\n",
       "Columns: [name, minutes, steps, ingredients]\n",
       "Index: []"
      ]
     },
     "execution_count": 29,
     "metadata": {},
     "output_type": "execute_result"
    }
   ],
   "source": [
    "df.drop(columns=['id','tags']).reset_index(drop = True).to_csv('../data/cleaned_recipes.csv', index = False)\n",
    "\n",
    "# Sanity Check\n",
    "pd.read_csv('../data/cleaned_recipes.csv').head(0)"
   ]
  },
  {
   "cell_type": "markdown",
   "metadata": {},
   "source": [
    "**ready.csv**"
   ]
  },
  {
   "cell_type": "code",
   "execution_count": 30,
   "metadata": {},
   "outputs": [
    {
     "data": {
      "text/html": [
       "<div>\n",
       "<style scoped>\n",
       "    .dataframe tbody tr th:only-of-type {\n",
       "        vertical-align: middle;\n",
       "    }\n",
       "\n",
       "    .dataframe tbody tr th {\n",
       "        vertical-align: top;\n",
       "    }\n",
       "\n",
       "    .dataframe thead th {\n",
       "        text-align: right;\n",
       "    }\n",
       "</style>\n",
       "<table border=\"1\" class=\"dataframe\">\n",
       "  <thead>\n",
       "    <tr style=\"text-align: right;\">\n",
       "      <th></th>\n",
       "      <th>name</th>\n",
       "      <th>1-day-or-more</th>\n",
       "      <th>15-minutes-or-less</th>\n",
       "      <th>3-steps-or-less</th>\n",
       "      <th>30-minutes-or-less</th>\n",
       "      <th>4-hours-or-less</th>\n",
       "      <th>5-ingredients-or-less</th>\n",
       "      <th>60-minutes-or-less</th>\n",
       "      <th>african</th>\n",
       "      <th>american</th>\n",
       "      <th>...</th>\n",
       "      <th>welsh</th>\n",
       "      <th>white-rice</th>\n",
       "      <th>whole-chicken</th>\n",
       "      <th>whole-turkey</th>\n",
       "      <th>wild-game</th>\n",
       "      <th>wings</th>\n",
       "      <th>winter</th>\n",
       "      <th>yams-sweet-potatoes</th>\n",
       "      <th>yeast</th>\n",
       "      <th>zucchini</th>\n",
       "    </tr>\n",
       "  </thead>\n",
       "  <tbody>\n",
       "  </tbody>\n",
       "</table>\n",
       "<p>0 rows × 389 columns</p>\n",
       "</div>"
      ],
      "text/plain": [
       "Empty DataFrame\n",
       "Columns: [name, 1-day-or-more, 15-minutes-or-less, 3-steps-or-less, 30-minutes-or-less, 4-hours-or-less, 5-ingredients-or-less, 60-minutes-or-less, african, american, amish-mennonite, appetizers, apples, argentine, asian, asparagus, australian, austrian, bacon, baja, baking, bananas, bar-cookies, barbecue, beans, beef, beef-organ-meats, beef-ribs, beef-sausage, beginner-cook, belgian, berries, beverages, birthday, biscotti, bisques-cream-soups, black-beans, blueberries, brazilian, bread-machine, breads, breakfast, british-columbian, broccoli, broil, brown-bag, brown-rice, brownies, brunch, burgers, cajun, cake-fillings-and-frostings, cakes, californian, camping, canadian, candy, canning, caribbean, carrots, casseroles, catfish, cauliflower, celebrity, central-american, chard, cheese, cheesecake, cherries, chick-peas-garbanzos, chicken, chicken-breasts, chicken-thighs-legs, chili, chinese, chocolate, chowders, christmas, chutneys, citrus, clams, clear-soups, cobblers-and-crisps, cocktails, coconut, cod, coffee-cakes, collard-greens, comfort-food, condiments-etc, cookies-and-brownies, cooking-mixes, copycat, corn, crab, creole, crock-pot-slow-cooker, crusts-pastry-dough-2, cuban, cupcakes, ...]\n",
       "Index: []\n",
       "\n",
       "[0 rows x 389 columns]"
      ]
     },
     "execution_count": 30,
     "metadata": {},
     "output_type": "execute_result"
    }
   ],
   "source": [
    "ready = pd.concat([df[['name']], tags_df], axis=1)\n",
    "\n",
    "ready.to_csv('../data/ready.csv', index = False)\n",
    "\n",
    "# Sanity Check\n",
    "pd.read_csv('../data/ready.csv').head(0)"
   ]
  }
 ],
 "metadata": {
  "accelerator": "TPU",
  "colab": {
   "name": "1.clean.ipynb",
   "provenance": []
  },
  "kernelspec": {
   "display_name": "Python 3",
   "language": "python",
   "name": "python3"
  },
  "language_info": {
   "codemirror_mode": {
    "name": "ipython",
    "version": 3
   },
   "file_extension": ".py",
   "mimetype": "text/x-python",
   "name": "python",
   "nbconvert_exporter": "python",
   "pygments_lexer": "ipython3",
   "version": "3.7.4"
  }
 },
 "nbformat": 4,
 "nbformat_minor": 4
}
