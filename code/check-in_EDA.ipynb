{
 "cells": [
  {
   "cell_type": "markdown",
   "metadata": {},
   "source": [
    "Capstone Project\n",
    "---\n",
    "DSI 11 - Dina Bahar\n",
    "\n",
    "### 1. Identify chosen proposal\n",
    "\n",
    "What recipe should you try next?\n",
    "\n",
    "### 2. Problem Statement\n",
    "\n",
    "Since the lockdown order, everyone has been cooking at home more. While it might be out of necessity for some and a blessing for others, everyone could benefit from a recipe recommender to cut down the search time for their next dinner. In this project, my goal is to build a system that **recommends users new recipes that are similar to what they've rated highly**.\n",
    "\n",
    "### 3. Outline\n",
    "\n",
    "1. Data collection: using [Food.com Recipes and Interactions](https://www.kaggle.com/shuyangli94/food-com-recipes-and-user-interactions) kaggle dataset\n",
    "2. Feature engineering: recipe's level of difficulty\n",
    "3. NLP on text variables: user reviews, recipe ingredients, and recipe steps\n",
    "4. Calculate cosine similarity on users & recipes **(NEEDS MORE PLANNING)**\n",
    "5. Deliverables:\n",
    "    - MVP: a content-based recommender system (format = data frame)\n",
    "    - Stretch goals 1: a user-based recommender system\n",
    "    - Stretch goals 2: a flask app that spits out the next recipe a user should try based on their (varying) preferences\n",
    "\n",
    "### 4. Risks & assumptions of your data\n",
    "\n",
    "- Size of data from kaggle is already 862.4 MB on its own. \n",
    "- As the project progresses, the storage requirements will grow as well. This might slow down my process if I'm just using my good ol' macbook.\n",
    "\n",
    "### 5. Goals & success criteria\n",
    "\n",
    "- Recommender system metrics???\n",
    "\n",
    "### 6. Documents your data source\n",
    "\n",
    "Dataset: [Food.com Recipes and Interactions](https://www.kaggle.com/shuyangli94/food-com-recipes-and-user-interactions)\n",
    "1. RAW_recipes.csv\n",
    "2. RAW_interactions.csv\n",
    "3. *PP_recipes.csv* (after preliminary EDA, I have concluded that this dataset is not useful)\n",
    "4. PP_users.csv\n",
    "\n",
    "Owners: Shuyang Li, Bodhisattwa Prasad Majumder\n",
    "\n",
    "##### NOTE: Datasets are not included in this repo since it's more than 100MB. Please refer to the kaggle page for the data.\n",
    "\n",
    "### 7. Performs & summarizes preliminary EDA of your data\n",
    "\n",
    "See below for preliminary EDA on all 4 datasets.\n",
    "\n",
    "### 8. Can I solve my problem statement with the dataset I have?\n",
    "\n",
    "YES"
   ]
  },
  {
   "cell_type": "code",
   "execution_count": 10,
   "metadata": {},
   "outputs": [],
   "source": [
    "import numpy as np\n",
    "import pandas as pd\n",
    "import matplotlib.pyplot as plt\n",
    "import seaborn as sns"
   ]
  },
  {
   "cell_type": "markdown",
   "metadata": {},
   "source": [
    "---\n",
    "\n",
    "I. EDA on `RAW_recipes.csv`\n",
    "---\n",
    "\n",
    "Data dictionary\n",
    "\n",
    "| Column        | Description                        |\n",
    "| ------------- | ---------------------------------- |\n",
    "|name           | Recipe name                        |\n",
    "|id             | Recipe ID                          |\n",
    "|minutes        | Minutes to prepare recipe          |\n",
    "|contributor_id | User ID who submitted this recipe  |\n",
    "|submitted      | Date recipe was submitted          |\n",
    "|tags           | Food.com tags for recipe           |\n",
    "|nutrition      | Nutrition information*             |\n",
    "|n_steps        | Number of steps in recipe          |\n",
    "|steps          | Text for recipe steps, in order    |\n",
    "|description    | User-provided description          |\n",
    "|ingredients    | List of ingredient names           |\n",
    "|n_ingredients  | Number of ingredients              |\n",
    "\n",
    "*Nutrition information: calories (#), total fat (PDV), sugar (PDV) , sodium (PDV) , protein (PDV) , saturated fat (PDV) , and carbohydrates (PDV)\n",
    "\n",
    "^ Is this a LIST? Or a VECTOR?"
   ]
  },
  {
   "cell_type": "code",
   "execution_count": 7,
   "metadata": {},
   "outputs": [
    {
     "data": {
      "text/plain": [
       "(231637, 12)"
      ]
     },
     "execution_count": 7,
     "metadata": {},
     "output_type": "execute_result"
    }
   ],
   "source": [
    "raw_recipes = pd.read_csv('../data/RAW_recipes.csv')\n",
    "raw_recipes.shape"
   ]
  },
  {
   "cell_type": "code",
   "execution_count": 3,
   "metadata": {
    "scrolled": true
   },
   "outputs": [
    {
     "data": {
      "text/html": [
       "<div>\n",
       "<style scoped>\n",
       "    .dataframe tbody tr th:only-of-type {\n",
       "        vertical-align: middle;\n",
       "    }\n",
       "\n",
       "    .dataframe tbody tr th {\n",
       "        vertical-align: top;\n",
       "    }\n",
       "\n",
       "    .dataframe thead th {\n",
       "        text-align: right;\n",
       "    }\n",
       "</style>\n",
       "<table border=\"1\" class=\"dataframe\">\n",
       "  <thead>\n",
       "    <tr style=\"text-align: right;\">\n",
       "      <th></th>\n",
       "      <th>name</th>\n",
       "      <th>id</th>\n",
       "      <th>minutes</th>\n",
       "      <th>contributor_id</th>\n",
       "      <th>submitted</th>\n",
       "      <th>tags</th>\n",
       "      <th>nutrition</th>\n",
       "      <th>n_steps</th>\n",
       "      <th>steps</th>\n",
       "      <th>description</th>\n",
       "      <th>ingredients</th>\n",
       "      <th>n_ingredients</th>\n",
       "    </tr>\n",
       "  </thead>\n",
       "  <tbody>\n",
       "    <tr>\n",
       "      <th>0</th>\n",
       "      <td>arriba   baked winter squash mexican style</td>\n",
       "      <td>137739</td>\n",
       "      <td>55</td>\n",
       "      <td>47892</td>\n",
       "      <td>2005-09-16</td>\n",
       "      <td>['60-minutes-or-less', 'time-to-make', 'course...</td>\n",
       "      <td>[51.5, 0.0, 13.0, 0.0, 2.0, 0.0, 4.0]</td>\n",
       "      <td>11</td>\n",
       "      <td>['make a choice and proceed with recipe', 'dep...</td>\n",
       "      <td>autumn is my favorite time of year to cook! th...</td>\n",
       "      <td>['winter squash', 'mexican seasoning', 'mixed ...</td>\n",
       "      <td>7</td>\n",
       "    </tr>\n",
       "    <tr>\n",
       "      <th>1</th>\n",
       "      <td>a bit different  breakfast pizza</td>\n",
       "      <td>31490</td>\n",
       "      <td>30</td>\n",
       "      <td>26278</td>\n",
       "      <td>2002-06-17</td>\n",
       "      <td>['30-minutes-or-less', 'time-to-make', 'course...</td>\n",
       "      <td>[173.4, 18.0, 0.0, 17.0, 22.0, 35.0, 1.0]</td>\n",
       "      <td>9</td>\n",
       "      <td>['preheat oven to 425 degrees f', 'press dough...</td>\n",
       "      <td>this recipe calls for the crust to be prebaked...</td>\n",
       "      <td>['prepared pizza crust', 'sausage patty', 'egg...</td>\n",
       "      <td>6</td>\n",
       "    </tr>\n",
       "    <tr>\n",
       "      <th>2</th>\n",
       "      <td>all in the kitchen  chili</td>\n",
       "      <td>112140</td>\n",
       "      <td>130</td>\n",
       "      <td>196586</td>\n",
       "      <td>2005-02-25</td>\n",
       "      <td>['time-to-make', 'course', 'preparation', 'mai...</td>\n",
       "      <td>[269.8, 22.0, 32.0, 48.0, 39.0, 27.0, 5.0]</td>\n",
       "      <td>6</td>\n",
       "      <td>['brown ground beef in large pot', 'add choppe...</td>\n",
       "      <td>this modified version of 'mom's' chili was a h...</td>\n",
       "      <td>['ground beef', 'yellow onions', 'diced tomato...</td>\n",
       "      <td>13</td>\n",
       "    </tr>\n",
       "    <tr>\n",
       "      <th>3</th>\n",
       "      <td>alouette  potatoes</td>\n",
       "      <td>59389</td>\n",
       "      <td>45</td>\n",
       "      <td>68585</td>\n",
       "      <td>2003-04-14</td>\n",
       "      <td>['60-minutes-or-less', 'time-to-make', 'course...</td>\n",
       "      <td>[368.1, 17.0, 10.0, 2.0, 14.0, 8.0, 20.0]</td>\n",
       "      <td>11</td>\n",
       "      <td>['place potatoes in a large pot of lightly sal...</td>\n",
       "      <td>this is a super easy, great tasting, make ahea...</td>\n",
       "      <td>['spreadable cheese with garlic and herbs', 'n...</td>\n",
       "      <td>11</td>\n",
       "    </tr>\n",
       "    <tr>\n",
       "      <th>4</th>\n",
       "      <td>amish  tomato ketchup  for canning</td>\n",
       "      <td>44061</td>\n",
       "      <td>190</td>\n",
       "      <td>41706</td>\n",
       "      <td>2002-10-25</td>\n",
       "      <td>['weeknight', 'time-to-make', 'course', 'main-...</td>\n",
       "      <td>[352.9, 1.0, 337.0, 23.0, 3.0, 0.0, 28.0]</td>\n",
       "      <td>5</td>\n",
       "      <td>['mix all ingredients&amp; boil for 2 1 / 2 hours ...</td>\n",
       "      <td>my dh's amish mother raised him on this recipe...</td>\n",
       "      <td>['tomato juice', 'apple cider vinegar', 'sugar...</td>\n",
       "      <td>8</td>\n",
       "    </tr>\n",
       "  </tbody>\n",
       "</table>\n",
       "</div>"
      ],
      "text/plain": [
       "                                         name      id  minutes  \\\n",
       "0  arriba   baked winter squash mexican style  137739       55   \n",
       "1            a bit different  breakfast pizza   31490       30   \n",
       "2                   all in the kitchen  chili  112140      130   \n",
       "3                          alouette  potatoes   59389       45   \n",
       "4          amish  tomato ketchup  for canning   44061      190   \n",
       "\n",
       "   contributor_id   submitted  \\\n",
       "0           47892  2005-09-16   \n",
       "1           26278  2002-06-17   \n",
       "2          196586  2005-02-25   \n",
       "3           68585  2003-04-14   \n",
       "4           41706  2002-10-25   \n",
       "\n",
       "                                                tags  \\\n",
       "0  ['60-minutes-or-less', 'time-to-make', 'course...   \n",
       "1  ['30-minutes-or-less', 'time-to-make', 'course...   \n",
       "2  ['time-to-make', 'course', 'preparation', 'mai...   \n",
       "3  ['60-minutes-or-less', 'time-to-make', 'course...   \n",
       "4  ['weeknight', 'time-to-make', 'course', 'main-...   \n",
       "\n",
       "                                    nutrition  n_steps  \\\n",
       "0       [51.5, 0.0, 13.0, 0.0, 2.0, 0.0, 4.0]       11   \n",
       "1   [173.4, 18.0, 0.0, 17.0, 22.0, 35.0, 1.0]        9   \n",
       "2  [269.8, 22.0, 32.0, 48.0, 39.0, 27.0, 5.0]        6   \n",
       "3   [368.1, 17.0, 10.0, 2.0, 14.0, 8.0, 20.0]       11   \n",
       "4   [352.9, 1.0, 337.0, 23.0, 3.0, 0.0, 28.0]        5   \n",
       "\n",
       "                                               steps  \\\n",
       "0  ['make a choice and proceed with recipe', 'dep...   \n",
       "1  ['preheat oven to 425 degrees f', 'press dough...   \n",
       "2  ['brown ground beef in large pot', 'add choppe...   \n",
       "3  ['place potatoes in a large pot of lightly sal...   \n",
       "4  ['mix all ingredients& boil for 2 1 / 2 hours ...   \n",
       "\n",
       "                                         description  \\\n",
       "0  autumn is my favorite time of year to cook! th...   \n",
       "1  this recipe calls for the crust to be prebaked...   \n",
       "2  this modified version of 'mom's' chili was a h...   \n",
       "3  this is a super easy, great tasting, make ahea...   \n",
       "4  my dh's amish mother raised him on this recipe...   \n",
       "\n",
       "                                         ingredients  n_ingredients  \n",
       "0  ['winter squash', 'mexican seasoning', 'mixed ...              7  \n",
       "1  ['prepared pizza crust', 'sausage patty', 'egg...              6  \n",
       "2  ['ground beef', 'yellow onions', 'diced tomato...             13  \n",
       "3  ['spreadable cheese with garlic and herbs', 'n...             11  \n",
       "4  ['tomato juice', 'apple cider vinegar', 'sugar...              8  "
      ]
     },
     "execution_count": 3,
     "metadata": {},
     "output_type": "execute_result"
    }
   ],
   "source": [
    "raw_recipes.head()"
   ]
  },
  {
   "cell_type": "markdown",
   "metadata": {},
   "source": [
    "#### `raw_recipes` summary statistics\n"
   ]
  },
  {
   "cell_type": "code",
   "execution_count": 4,
   "metadata": {},
   "outputs": [
    {
     "data": {
      "text/html": [
       "<div>\n",
       "<style scoped>\n",
       "    .dataframe tbody tr th:only-of-type {\n",
       "        vertical-align: middle;\n",
       "    }\n",
       "\n",
       "    .dataframe tbody tr th {\n",
       "        vertical-align: top;\n",
       "    }\n",
       "\n",
       "    .dataframe thead th {\n",
       "        text-align: right;\n",
       "    }\n",
       "</style>\n",
       "<table border=\"1\" class=\"dataframe\">\n",
       "  <thead>\n",
       "    <tr style=\"text-align: right;\">\n",
       "      <th></th>\n",
       "      <th>minutes</th>\n",
       "      <th>n_steps</th>\n",
       "      <th>n_ingredients</th>\n",
       "    </tr>\n",
       "  </thead>\n",
       "  <tbody>\n",
       "    <tr>\n",
       "      <th>count</th>\n",
       "      <td>2.316370e+05</td>\n",
       "      <td>231637.0</td>\n",
       "      <td>231637.0</td>\n",
       "    </tr>\n",
       "    <tr>\n",
       "      <th>mean</th>\n",
       "      <td>9.399000e+03</td>\n",
       "      <td>10.0</td>\n",
       "      <td>9.0</td>\n",
       "    </tr>\n",
       "    <tr>\n",
       "      <th>std</th>\n",
       "      <td>4.461963e+06</td>\n",
       "      <td>6.0</td>\n",
       "      <td>4.0</td>\n",
       "    </tr>\n",
       "    <tr>\n",
       "      <th>min</th>\n",
       "      <td>0.000000e+00</td>\n",
       "      <td>0.0</td>\n",
       "      <td>1.0</td>\n",
       "    </tr>\n",
       "    <tr>\n",
       "      <th>25%</th>\n",
       "      <td>2.000000e+01</td>\n",
       "      <td>6.0</td>\n",
       "      <td>6.0</td>\n",
       "    </tr>\n",
       "    <tr>\n",
       "      <th>50%</th>\n",
       "      <td>4.000000e+01</td>\n",
       "      <td>9.0</td>\n",
       "      <td>9.0</td>\n",
       "    </tr>\n",
       "    <tr>\n",
       "      <th>75%</th>\n",
       "      <td>6.500000e+01</td>\n",
       "      <td>12.0</td>\n",
       "      <td>11.0</td>\n",
       "    </tr>\n",
       "    <tr>\n",
       "      <th>max</th>\n",
       "      <td>2.147484e+09</td>\n",
       "      <td>145.0</td>\n",
       "      <td>43.0</td>\n",
       "    </tr>\n",
       "  </tbody>\n",
       "</table>\n",
       "</div>"
      ],
      "text/plain": [
       "            minutes   n_steps  n_ingredients\n",
       "count  2.316370e+05  231637.0       231637.0\n",
       "mean   9.399000e+03      10.0            9.0\n",
       "std    4.461963e+06       6.0            4.0\n",
       "min    0.000000e+00       0.0            1.0\n",
       "25%    2.000000e+01       6.0            6.0\n",
       "50%    4.000000e+01       9.0            9.0\n",
       "75%    6.500000e+01      12.0           11.0\n",
       "max    2.147484e+09     145.0           43.0"
      ]
     },
     "execution_count": 4,
     "metadata": {},
     "output_type": "execute_result"
    }
   ],
   "source": [
    "round(raw_recipes.drop(columns = ['id', 'contributor_id']).describe())"
   ]
  },
  {
   "cell_type": "markdown",
   "metadata": {},
   "source": [
    "##### NOTE: \n",
    "- Need to check if converting `minutes` to hours help readability.\n",
    "- Recipe with 0 n_steps seems like an outlier."
   ]
  },
  {
   "cell_type": "markdown",
   "metadata": {},
   "source": [
    "#### Investigate recipe with 0 steps"
   ]
  },
  {
   "cell_type": "code",
   "execution_count": 11,
   "metadata": {},
   "outputs": [
    {
     "data": {
      "text/html": [
       "<div>\n",
       "<style scoped>\n",
       "    .dataframe tbody tr th:only-of-type {\n",
       "        vertical-align: middle;\n",
       "    }\n",
       "\n",
       "    .dataframe tbody tr th {\n",
       "        vertical-align: top;\n",
       "    }\n",
       "\n",
       "    .dataframe thead th {\n",
       "        text-align: right;\n",
       "    }\n",
       "</style>\n",
       "<table border=\"1\" class=\"dataframe\">\n",
       "  <thead>\n",
       "    <tr style=\"text-align: right;\">\n",
       "      <th></th>\n",
       "      <th>name</th>\n",
       "      <th>id</th>\n",
       "      <th>minutes</th>\n",
       "      <th>contributor_id</th>\n",
       "      <th>submitted</th>\n",
       "      <th>tags</th>\n",
       "      <th>nutrition</th>\n",
       "      <th>n_steps</th>\n",
       "      <th>steps</th>\n",
       "      <th>description</th>\n",
       "      <th>ingredients</th>\n",
       "      <th>n_ingredients</th>\n",
       "    </tr>\n",
       "  </thead>\n",
       "  <tbody>\n",
       "    <tr>\n",
       "      <th>3381</th>\n",
       "      <td>all season bread</td>\n",
       "      <td>176767</td>\n",
       "      <td>90</td>\n",
       "      <td>331268</td>\n",
       "      <td>2006-07-10</td>\n",
       "      <td>['time-to-make', 'course', 'main-ingredient', ...</td>\n",
       "      <td>[198.8, 11.0, 70.0, 18.0, 5.0, 5.0, 10.0]</td>\n",
       "      <td>0</td>\n",
       "      <td>[]</td>\n",
       "      <td>just change the fruit/vegetable in this recipe...</td>\n",
       "      <td>['flour', 'baking soda', 'salt', 'baking powde...</td>\n",
       "      <td>12</td>\n",
       "    </tr>\n",
       "  </tbody>\n",
       "</table>\n",
       "</div>"
      ],
      "text/plain": [
       "                  name      id  minutes  contributor_id   submitted  \\\n",
       "3381  all season bread  176767       90          331268  2006-07-10   \n",
       "\n",
       "                                                   tags  \\\n",
       "3381  ['time-to-make', 'course', 'main-ingredient', ...   \n",
       "\n",
       "                                      nutrition  n_steps steps  \\\n",
       "3381  [198.8, 11.0, 70.0, 18.0, 5.0, 5.0, 10.0]        0    []   \n",
       "\n",
       "                                            description  \\\n",
       "3381  just change the fruit/vegetable in this recipe...   \n",
       "\n",
       "                                            ingredients  n_ingredients  \n",
       "3381  ['flour', 'baking soda', 'salt', 'baking powde...             12  "
      ]
     },
     "execution_count": 11,
     "metadata": {},
     "output_type": "execute_result"
    }
   ],
   "source": [
    "no_steps = raw_recipes[raw_recipes['n_steps'] == 0]\n",
    "no_steps"
   ]
  },
  {
   "cell_type": "code",
   "execution_count": 16,
   "metadata": {},
   "outputs": [
    {
     "name": "stdout",
     "output_type": "stream",
     "text": [
      "RECIPE DESCRIPTION:\n",
      "\n",
      "just change the fruit/vegetable in this recipe and make the (tender, moist, heavy dark) bread your heart desires!  try zucchini in the summer, pumpkin in the fall,  carrot-raisin in the winter, & banana-walnut in the spring. \n",
      "\n",
      "use your imagination.\n",
      "\n",
      "\n",
      "LIST OF INGREDIENTS:\n",
      "\n",
      "['flour', 'baking soda', 'salt', 'baking powder', 'cinnamon', 'eggs', 'white sugar', 'vegetable oil', 'real vanilla', 'raw carrots', 'raisins', 'walnuts']\n"
     ]
    }
   ],
   "source": [
    "print('RECIPE DESCRIPTION:')\n",
    "print()\n",
    "print(no_steps['description'][3381])\n",
    "print()\n",
    "print()\n",
    "print('LIST OF INGREDIENTS:')\n",
    "print()\n",
    "print(no_steps['ingredients'][3381])"
   ]
  },
  {
   "cell_type": "markdown",
   "metadata": {},
   "source": [
    "##### NOTE: Don't know yet which other bread recipe this is referring to. Needs more investigation."
   ]
  },
  {
   "cell_type": "markdown",
   "metadata": {},
   "source": [
    "#### Correlation between numerical variables\n",
    "\n",
    "As expected, the number of steps and ingredients of a recipe is positively correlated. This implies simplicity/difficulty of the recipe, which can be a good feature to include in my model."
   ]
  },
  {
   "cell_type": "code",
   "execution_count": 65,
   "metadata": {},
   "outputs": [
    {
     "data": {
      "image/png": "[encoded data removed]",
      "text/plain": [
       "<Figure size 576x432 with 2 Axes>"
      ]
     },
     "metadata": {
      "needs_background": "light"
     },
     "output_type": "display_data"
    }
   ],
   "source": [
    "plt.figure(figsize=(8,6))\n",
    "\n",
    "sns.heatmap(raw_recipes.drop(columns = ['id', 'contributor_id']).corr(), mask=np.triu(raw_recipes.drop(columns = ['id', 'contributor_id']).corr()), annot=True, cmap='coolwarm', vmin=-1, vmax=1)\n",
    "\n",
    "plt.title('Correlation Heatmap',  fontsize = 15);"
   ]
  },
  {
   "cell_type": "markdown",
   "metadata": {},
   "source": [
    "#### Explore recipe length of prep & cook time\n",
    "\n",
    "Convert minutes to hours for easier readibility.\n",
    "\n",
    "Lots of outliers.\n",
    "\n",
    "Needs more investigating to see if recipes are really calling for longer than 10 hours of prepping & cooking. Will probably exclude this from my data if showing to make no sense."
   ]
  },
  {
   "cell_type": "code",
   "execution_count": 70,
   "metadata": {},
   "outputs": [],
   "source": [
    "raw_recipes['hours'] = raw_recipes.minutes.apply(lambda x: x/60)"
   ]
  },
  {
   "cell_type": "code",
   "execution_count": 76,
   "metadata": {},
   "outputs": [
    {
     "data": {
      "text/plain": [
       "count      231637.00\n",
       "mean          156.64\n",
       "std         74366.05\n",
       "min             0.00\n",
       "25%             0.33\n",
       "50%             0.67\n",
       "75%             1.08\n",
       "max      35791394.12\n",
       "Name: hours, dtype: float64"
      ]
     },
     "execution_count": 76,
     "metadata": {},
     "output_type": "execute_result"
    }
   ],
   "source": [
    "round(raw_recipes['hours'].describe(),2)"
   ]
  },
  {
   "cell_type": "code",
   "execution_count": 88,
   "metadata": {},
   "outputs": [
    {
     "data": {
      "image/png": "[encoded data removed]",
      "text/plain": [
       "<Figure size 432x288 with 1 Axes>"
      ]
     },
     "metadata": {
      "needs_background": "light"
     },
     "output_type": "display_data"
    }
   ],
   "source": [
    "raw_recipes[raw_recipes['hours'] < 10]['hours'].plot(kind='hist');"
   ]
  },
  {
   "cell_type": "markdown",
   "metadata": {},
   "source": [
    "##### NOTE: Lots of outliers."
   ]
  },
  {
   "cell_type": "code",
   "execution_count": 89,
   "metadata": {
    "scrolled": true
   },
   "outputs": [
    {
     "data": {
      "text/html": [
       "<div>\n",
       "<style scoped>\n",
       "    .dataframe tbody tr th:only-of-type {\n",
       "        vertical-align: middle;\n",
       "    }\n",
       "\n",
       "    .dataframe tbody tr th {\n",
       "        vertical-align: top;\n",
       "    }\n",
       "\n",
       "    .dataframe thead th {\n",
       "        text-align: right;\n",
       "    }\n",
       "</style>\n",
       "<table border=\"1\" class=\"dataframe\">\n",
       "  <thead>\n",
       "    <tr style=\"text-align: right;\">\n",
       "      <th></th>\n",
       "      <th>name</th>\n",
       "      <th>id</th>\n",
       "      <th>minutes</th>\n",
       "      <th>contributor_id</th>\n",
       "      <th>submitted</th>\n",
       "      <th>tags</th>\n",
       "      <th>nutrition</th>\n",
       "      <th>n_steps</th>\n",
       "      <th>steps</th>\n",
       "      <th>description</th>\n",
       "      <th>ingredients</th>\n",
       "      <th>n_ingredients</th>\n",
       "      <th>hours</th>\n",
       "    </tr>\n",
       "  </thead>\n",
       "  <tbody>\n",
       "    <tr>\n",
       "      <th>11</th>\n",
       "      <td>better than sex  strawberries</td>\n",
       "      <td>42198</td>\n",
       "      <td>1460</td>\n",
       "      <td>41531</td>\n",
       "      <td>2002-10-03</td>\n",
       "      <td>['weeknight', 'time-to-make', 'course', 'main-...</td>\n",
       "      <td>[734.1, 66.0, 199.0, 10.0, 10.0, 117.0, 28.0]</td>\n",
       "      <td>8</td>\n",
       "      <td>['crush vanilla wafers into fine crumbs and li...</td>\n",
       "      <td>simple but sexy. this was in my local newspape...</td>\n",
       "      <td>['vanilla wafers', 'butter', 'powdered sugar',...</td>\n",
       "      <td>7</td>\n",
       "      <td>24.333333</td>\n",
       "    </tr>\n",
       "    <tr>\n",
       "      <th>12</th>\n",
       "      <td>better then bush s  baked beans</td>\n",
       "      <td>67547</td>\n",
       "      <td>2970</td>\n",
       "      <td>85627</td>\n",
       "      <td>2003-07-26</td>\n",
       "      <td>['weeknight', 'time-to-make', 'course', 'main-...</td>\n",
       "      <td>[462.4, 28.0, 214.0, 69.0, 14.0, 29.0, 23.0]</td>\n",
       "      <td>9</td>\n",
       "      <td>['in a very large sauce pan cover the beans an...</td>\n",
       "      <td>i'd have to say that this is a labor of love d...</td>\n",
       "      <td>['great northern bean', 'chicken bouillon cube...</td>\n",
       "      <td>13</td>\n",
       "      <td>49.500000</td>\n",
       "    </tr>\n",
       "    <tr>\n",
       "      <th>50</th>\n",
       "      <td>keep it going  german friendship cake</td>\n",
       "      <td>26995</td>\n",
       "      <td>14450</td>\n",
       "      <td>37305</td>\n",
       "      <td>2002-04-30</td>\n",
       "      <td>['weeknight', 'time-to-make', 'course', 'main-...</td>\n",
       "      <td>[724.4, 38.0, 297.0, 20.0, 18.0, 31.0, 39.0]</td>\n",
       "      <td>13</td>\n",
       "      <td>['mix starter ingredients in a bowl and let st...</td>\n",
       "      <td>yes, this sounds bizarre, but it really is tas...</td>\n",
       "      <td>['flour', 'water', 'dry yeast', 'milk', 'sugar...</td>\n",
       "      <td>17</td>\n",
       "      <td>240.833333</td>\n",
       "    </tr>\n",
       "    <tr>\n",
       "      <th>58</th>\n",
       "      <td>marijuana  vinegar</td>\n",
       "      <td>24478</td>\n",
       "      <td>20160</td>\n",
       "      <td>32692</td>\n",
       "      <td>2002-04-08</td>\n",
       "      <td>['weeknight', 'time-to-make', 'course', 'cuisi...</td>\n",
       "      <td>[3.1, 0.0, 0.0, 0.0, 0.0, 0.0, 0.0]</td>\n",
       "      <td>5</td>\n",
       "      <td>['mix the herbs and vinegar together in a jar'...</td>\n",
       "      <td>stefan and emily used to make this stuff when ...</td>\n",
       "      <td>['fresh herbs', 'cider vinegar', 'fresh herb']</td>\n",
       "      <td>3</td>\n",
       "      <td>336.000000</td>\n",
       "    </tr>\n",
       "    <tr>\n",
       "      <th>81</th>\n",
       "      <td>red  macaroni salad</td>\n",
       "      <td>64302</td>\n",
       "      <td>1470</td>\n",
       "      <td>82367</td>\n",
       "      <td>2003-06-11</td>\n",
       "      <td>['weeknight', 'time-to-make', 'course', 'main-...</td>\n",
       "      <td>[572.6, 43.0, 113.0, 11.0, 17.0, 18.0, 24.0]</td>\n",
       "      <td>7</td>\n",
       "      <td>['in large mixing bowl , combine your macaroni...</td>\n",
       "      <td>this is not your usual macaroni salad....there...</td>\n",
       "      <td>['elbow macaroni', 'green pepper', 'onion', 'c...</td>\n",
       "      <td>10</td>\n",
       "      <td>24.500000</td>\n",
       "    </tr>\n",
       "    <tr>\n",
       "      <th>...</th>\n",
       "      <td>...</td>\n",
       "      <td>...</td>\n",
       "      <td>...</td>\n",
       "      <td>...</td>\n",
       "      <td>...</td>\n",
       "      <td>...</td>\n",
       "      <td>...</td>\n",
       "      <td>...</td>\n",
       "      <td>...</td>\n",
       "      <td>...</td>\n",
       "      <td>...</td>\n",
       "      <td>...</td>\n",
       "      <td>...</td>\n",
       "    </tr>\n",
       "    <tr>\n",
       "      <th>230590</th>\n",
       "      <td>zesty slow cooker italian pot roast</td>\n",
       "      <td>151605</td>\n",
       "      <td>610</td>\n",
       "      <td>53959</td>\n",
       "      <td>2006-01-13</td>\n",
       "      <td>['time-to-make', 'course', 'main-ingredient', ...</td>\n",
       "      <td>[912.8, 85.0, 19.0, 9.0, 113.0, 112.0, 14.0]</td>\n",
       "      <td>9</td>\n",
       "      <td>['place potatoes , carrots , and celery in bot...</td>\n",
       "      <td>found in a slow cooker cookbook. update: you c...</td>\n",
       "      <td>['potatoes', 'baby carrots', 'celery', 'bonele...</td>\n",
       "      <td>7</td>\n",
       "      <td>10.166667</td>\n",
       "    </tr>\n",
       "    <tr>\n",
       "      <th>230741</th>\n",
       "      <td>zippy london broil marinade</td>\n",
       "      <td>505112</td>\n",
       "      <td>1445</td>\n",
       "      <td>1139722</td>\n",
       "      <td>2013-08-01</td>\n",
       "      <td>['time-to-make', 'course', 'preparation', 'low...</td>\n",
       "      <td>[367.5, 56.0, 15.0, 19.0, 3.0, 25.0, 3.0]</td>\n",
       "      <td>6</td>\n",
       "      <td>['mis all ingredients together in a zip lock b...</td>\n",
       "      <td>i came up with this marinade by combining two ...</td>\n",
       "      <td>['garlic', 'balsamic vinegar', 'lemon juice', ...</td>\n",
       "      <td>11</td>\n",
       "      <td>24.083333</td>\n",
       "    </tr>\n",
       "    <tr>\n",
       "      <th>230913</th>\n",
       "      <td>zucchini and cheese damper</td>\n",
       "      <td>283151</td>\n",
       "      <td>1505</td>\n",
       "      <td>422893</td>\n",
       "      <td>2008-01-31</td>\n",
       "      <td>['time-to-make', 'course', 'main-ingredient', ...</td>\n",
       "      <td>[332.7, 13.0, 2.0, 48.0, 25.0, 25.0, 16.0]</td>\n",
       "      <td>7</td>\n",
       "      <td>['sift flour , salt &amp; pepper together', 'light...</td>\n",
       "      <td>it's that time of year again when zucchinis ar...</td>\n",
       "      <td>['self-raising flour', 'salt', 'black pepper',...</td>\n",
       "      <td>8</td>\n",
       "      <td>25.083333</td>\n",
       "    </tr>\n",
       "    <tr>\n",
       "      <th>231355</th>\n",
       "      <td>zucchini salsa  canned</td>\n",
       "      <td>462992</td>\n",
       "      <td>2900</td>\n",
       "      <td>1403860</td>\n",
       "      <td>2011-08-24</td>\n",
       "      <td>['time-to-make', 'course', 'main-ingredient', ...</td>\n",
       "      <td>[64.5, 0.0, 44.0, 53.0, 3.0, 0.0, 4.0]</td>\n",
       "      <td>27</td>\n",
       "      <td>['day one: in a large bowl or stainless pan co...</td>\n",
       "      <td>this is a delicious salsa recipe that my siste...</td>\n",
       "      <td>['zucchini', 'sweet white onions', 'green bell...</td>\n",
       "      <td>17</td>\n",
       "      <td>48.333333</td>\n",
       "    </tr>\n",
       "    <tr>\n",
       "      <th>231573</th>\n",
       "      <td>zuni caf zucchini pickles</td>\n",
       "      <td>316950</td>\n",
       "      <td>2895</td>\n",
       "      <td>62264</td>\n",
       "      <td>2008-07-31</td>\n",
       "      <td>['time-to-make', 'course', 'main-ingredient', ...</td>\n",
       "      <td>[343.6, 2.0, 284.0, 194.0, 5.0, 0.0, 25.0]</td>\n",
       "      <td>13</td>\n",
       "      <td>['wash and trim the zucchini , then slice them...</td>\n",
       "      <td>refrigerator pickles for some of the zucchini ...</td>\n",
       "      <td>['zucchini', 'yellow onion', 'kosher salt', 'c...</td>\n",
       "      <td>8</td>\n",
       "      <td>48.250000</td>\n",
       "    </tr>\n",
       "  </tbody>\n",
       "</table>\n",
       "<p>3447 rows × 13 columns</p>\n",
       "</div>"
      ],
      "text/plain": [
       "                                         name      id  minutes  \\\n",
       "11              better than sex  strawberries   42198     1460   \n",
       "12            better then bush s  baked beans   67547     2970   \n",
       "50      keep it going  german friendship cake   26995    14450   \n",
       "58                         marijuana  vinegar   24478    20160   \n",
       "81                        red  macaroni salad   64302     1470   \n",
       "...                                       ...     ...      ...   \n",
       "230590    zesty slow cooker italian pot roast  151605      610   \n",
       "230741            zippy london broil marinade  505112     1445   \n",
       "230913             zucchini and cheese damper  283151     1505   \n",
       "231355                 zucchini salsa  canned  462992     2900   \n",
       "231573              zuni caf zucchini pickles  316950     2895   \n",
       "\n",
       "        contributor_id   submitted  \\\n",
       "11               41531  2002-10-03   \n",
       "12               85627  2003-07-26   \n",
       "50               37305  2002-04-30   \n",
       "58               32692  2002-04-08   \n",
       "81               82367  2003-06-11   \n",
       "...                ...         ...   \n",
       "230590           53959  2006-01-13   \n",
       "230741         1139722  2013-08-01   \n",
       "230913          422893  2008-01-31   \n",
       "231355         1403860  2011-08-24   \n",
       "231573           62264  2008-07-31   \n",
       "\n",
       "                                                     tags  \\\n",
       "11      ['weeknight', 'time-to-make', 'course', 'main-...   \n",
       "12      ['weeknight', 'time-to-make', 'course', 'main-...   \n",
       "50      ['weeknight', 'time-to-make', 'course', 'main-...   \n",
       "58      ['weeknight', 'time-to-make', 'course', 'cuisi...   \n",
       "81      ['weeknight', 'time-to-make', 'course', 'main-...   \n",
       "...                                                   ...   \n",
       "230590  ['time-to-make', 'course', 'main-ingredient', ...   \n",
       "230741  ['time-to-make', 'course', 'preparation', 'low...   \n",
       "230913  ['time-to-make', 'course', 'main-ingredient', ...   \n",
       "231355  ['time-to-make', 'course', 'main-ingredient', ...   \n",
       "231573  ['time-to-make', 'course', 'main-ingredient', ...   \n",
       "\n",
       "                                            nutrition  n_steps  \\\n",
       "11      [734.1, 66.0, 199.0, 10.0, 10.0, 117.0, 28.0]        8   \n",
       "12       [462.4, 28.0, 214.0, 69.0, 14.0, 29.0, 23.0]        9   \n",
       "50       [724.4, 38.0, 297.0, 20.0, 18.0, 31.0, 39.0]       13   \n",
       "58                [3.1, 0.0, 0.0, 0.0, 0.0, 0.0, 0.0]        5   \n",
       "81       [572.6, 43.0, 113.0, 11.0, 17.0, 18.0, 24.0]        7   \n",
       "...                                               ...      ...   \n",
       "230590   [912.8, 85.0, 19.0, 9.0, 113.0, 112.0, 14.0]        9   \n",
       "230741      [367.5, 56.0, 15.0, 19.0, 3.0, 25.0, 3.0]        6   \n",
       "230913     [332.7, 13.0, 2.0, 48.0, 25.0, 25.0, 16.0]        7   \n",
       "231355         [64.5, 0.0, 44.0, 53.0, 3.0, 0.0, 4.0]       27   \n",
       "231573     [343.6, 2.0, 284.0, 194.0, 5.0, 0.0, 25.0]       13   \n",
       "\n",
       "                                                    steps  \\\n",
       "11      ['crush vanilla wafers into fine crumbs and li...   \n",
       "12      ['in a very large sauce pan cover the beans an...   \n",
       "50      ['mix starter ingredients in a bowl and let st...   \n",
       "58      ['mix the herbs and vinegar together in a jar'...   \n",
       "81      ['in large mixing bowl , combine your macaroni...   \n",
       "...                                                   ...   \n",
       "230590  ['place potatoes , carrots , and celery in bot...   \n",
       "230741  ['mis all ingredients together in a zip lock b...   \n",
       "230913  ['sift flour , salt & pepper together', 'light...   \n",
       "231355  ['day one: in a large bowl or stainless pan co...   \n",
       "231573  ['wash and trim the zucchini , then slice them...   \n",
       "\n",
       "                                              description  \\\n",
       "11      simple but sexy. this was in my local newspape...   \n",
       "12      i'd have to say that this is a labor of love d...   \n",
       "50      yes, this sounds bizarre, but it really is tas...   \n",
       "58      stefan and emily used to make this stuff when ...   \n",
       "81      this is not your usual macaroni salad....there...   \n",
       "...                                                   ...   \n",
       "230590  found in a slow cooker cookbook. update: you c...   \n",
       "230741  i came up with this marinade by combining two ...   \n",
       "230913  it's that time of year again when zucchinis ar...   \n",
       "231355  this is a delicious salsa recipe that my siste...   \n",
       "231573  refrigerator pickles for some of the zucchini ...   \n",
       "\n",
       "                                              ingredients  n_ingredients  \\\n",
       "11      ['vanilla wafers', 'butter', 'powdered sugar',...              7   \n",
       "12      ['great northern bean', 'chicken bouillon cube...             13   \n",
       "50      ['flour', 'water', 'dry yeast', 'milk', 'sugar...             17   \n",
       "58         ['fresh herbs', 'cider vinegar', 'fresh herb']              3   \n",
       "81      ['elbow macaroni', 'green pepper', 'onion', 'c...             10   \n",
       "...                                                   ...            ...   \n",
       "230590  ['potatoes', 'baby carrots', 'celery', 'bonele...              7   \n",
       "230741  ['garlic', 'balsamic vinegar', 'lemon juice', ...             11   \n",
       "230913  ['self-raising flour', 'salt', 'black pepper',...              8   \n",
       "231355  ['zucchini', 'sweet white onions', 'green bell...             17   \n",
       "231573  ['zucchini', 'yellow onion', 'kosher salt', 'c...              8   \n",
       "\n",
       "             hours  \n",
       "11       24.333333  \n",
       "12       49.500000  \n",
       "50      240.833333  \n",
       "58      336.000000  \n",
       "81       24.500000  \n",
       "...            ...  \n",
       "230590   10.166667  \n",
       "230741   24.083333  \n",
       "230913   25.083333  \n",
       "231355   48.333333  \n",
       "231573   48.250000  \n",
       "\n",
       "[3447 rows x 13 columns]"
      ]
     },
     "execution_count": 89,
     "metadata": {},
     "output_type": "execute_result"
    }
   ],
   "source": [
    "raw_recipes[raw_recipes['hours'] > 10]"
   ]
  },
  {
   "cell_type": "markdown",
   "metadata": {},
   "source": [
    "---\n",
    "\n",
    "EDA on`RAW_interactions`\n",
    "---\n",
    "\n",
    "Data dictionary\n",
    "\n",
    "| Column   | Description        |\n",
    "| -------- | ------------------ |\n",
    "|user_id   | User ID            |\n",
    "|recipe_id | Recipe ID          |\n",
    "|date      | Date of interaction|\n",
    "|rating    | Rating given       |\n",
    "|review    | Review text        |"
   ]
  },
  {
   "cell_type": "code",
   "execution_count": 9,
   "metadata": {},
   "outputs": [
    {
     "data": {
      "text/plain": [
       "(1132367, 5)"
      ]
     },
     "execution_count": 9,
     "metadata": {},
     "output_type": "execute_result"
    }
   ],
   "source": [
    "raw_interactions = pd.read_csv('../data/RAW_interactions.csv')\n",
    "raw_interactions.shape"
   ]
  },
  {
   "cell_type": "code",
   "execution_count": 10,
   "metadata": {},
   "outputs": [
    {
     "data": {
      "text/html": [
       "<div>\n",
       "<style scoped>\n",
       "    .dataframe tbody tr th:only-of-type {\n",
       "        vertical-align: middle;\n",
       "    }\n",
       "\n",
       "    .dataframe tbody tr th {\n",
       "        vertical-align: top;\n",
       "    }\n",
       "\n",
       "    .dataframe thead th {\n",
       "        text-align: right;\n",
       "    }\n",
       "</style>\n",
       "<table border=\"1\" class=\"dataframe\">\n",
       "  <thead>\n",
       "    <tr style=\"text-align: right;\">\n",
       "      <th></th>\n",
       "      <th>user_id</th>\n",
       "      <th>recipe_id</th>\n",
       "      <th>date</th>\n",
       "      <th>rating</th>\n",
       "      <th>review</th>\n",
       "    </tr>\n",
       "  </thead>\n",
       "  <tbody>\n",
       "    <tr>\n",
       "      <th>0</th>\n",
       "      <td>38094</td>\n",
       "      <td>40893</td>\n",
       "      <td>2003-02-17</td>\n",
       "      <td>4</td>\n",
       "      <td>Great with a salad. Cooked on top of stove for...</td>\n",
       "    </tr>\n",
       "    <tr>\n",
       "      <th>1</th>\n",
       "      <td>1293707</td>\n",
       "      <td>40893</td>\n",
       "      <td>2011-12-21</td>\n",
       "      <td>5</td>\n",
       "      <td>So simple, so delicious! Great for chilly fall...</td>\n",
       "    </tr>\n",
       "    <tr>\n",
       "      <th>2</th>\n",
       "      <td>8937</td>\n",
       "      <td>44394</td>\n",
       "      <td>2002-12-01</td>\n",
       "      <td>4</td>\n",
       "      <td>This worked very well and is EASY.  I used not...</td>\n",
       "    </tr>\n",
       "    <tr>\n",
       "      <th>3</th>\n",
       "      <td>126440</td>\n",
       "      <td>85009</td>\n",
       "      <td>2010-02-27</td>\n",
       "      <td>5</td>\n",
       "      <td>I made the Mexican topping and took it to bunk...</td>\n",
       "    </tr>\n",
       "    <tr>\n",
       "      <th>4</th>\n",
       "      <td>57222</td>\n",
       "      <td>85009</td>\n",
       "      <td>2011-10-01</td>\n",
       "      <td>5</td>\n",
       "      <td>Made the cheddar bacon topping, adding a sprin...</td>\n",
       "    </tr>\n",
       "  </tbody>\n",
       "</table>\n",
       "</div>"
      ],
      "text/plain": [
       "   user_id  recipe_id        date  rating  \\\n",
       "0    38094      40893  2003-02-17       4   \n",
       "1  1293707      40893  2011-12-21       5   \n",
       "2     8937      44394  2002-12-01       4   \n",
       "3   126440      85009  2010-02-27       5   \n",
       "4    57222      85009  2011-10-01       5   \n",
       "\n",
       "                                              review  \n",
       "0  Great with a salad. Cooked on top of stove for...  \n",
       "1  So simple, so delicious! Great for chilly fall...  \n",
       "2  This worked very well and is EASY.  I used not...  \n",
       "3  I made the Mexican topping and took it to bunk...  \n",
       "4  Made the cheddar bacon topping, adding a sprin...  "
      ]
     },
     "execution_count": 10,
     "metadata": {},
     "output_type": "execute_result"
    }
   ],
   "source": [
    "raw_interactions.head()"
   ]
  },
  {
   "cell_type": "markdown",
   "metadata": {},
   "source": [
    "#### Explore relationship between recipe and user dataset (validity check)\n",
    "\n",
    "Joined on `raw_interactions.recipe_id = raw_recipes.id`"
   ]
  },
  {
   "cell_type": "code",
   "execution_count": 11,
   "metadata": {},
   "outputs": [
    {
     "data": {
      "text/html": [
       "<div>\n",
       "<style scoped>\n",
       "    .dataframe tbody tr th:only-of-type {\n",
       "        vertical-align: middle;\n",
       "    }\n",
       "\n",
       "    .dataframe tbody tr th {\n",
       "        vertical-align: top;\n",
       "    }\n",
       "\n",
       "    .dataframe thead th {\n",
       "        text-align: right;\n",
       "    }\n",
       "</style>\n",
       "<table border=\"1\" class=\"dataframe\">\n",
       "  <thead>\n",
       "    <tr style=\"text-align: right;\">\n",
       "      <th></th>\n",
       "      <th>user_id</th>\n",
       "      <th>recipe_id</th>\n",
       "      <th>date</th>\n",
       "      <th>rating</th>\n",
       "      <th>review</th>\n",
       "    </tr>\n",
       "  </thead>\n",
       "  <tbody>\n",
       "    <tr>\n",
       "      <th>927061</th>\n",
       "      <td>4470</td>\n",
       "      <td>137739</td>\n",
       "      <td>2006-02-18</td>\n",
       "      <td>5</td>\n",
       "      <td>I used an acorn squash and recipe#137681 Swee...</td>\n",
       "    </tr>\n",
       "    <tr>\n",
       "      <th>927062</th>\n",
       "      <td>593927</td>\n",
       "      <td>137739</td>\n",
       "      <td>2010-08-21</td>\n",
       "      <td>5</td>\n",
       "      <td>This was a nice change. I used butternut squas...</td>\n",
       "    </tr>\n",
       "    <tr>\n",
       "      <th>927063</th>\n",
       "      <td>178427</td>\n",
       "      <td>137739</td>\n",
       "      <td>2011-12-05</td>\n",
       "      <td>5</td>\n",
       "      <td>Excellent recipe! I used butternut squash and ...</td>\n",
       "    </tr>\n",
       "  </tbody>\n",
       "</table>\n",
       "</div>"
      ],
      "text/plain": [
       "        user_id  recipe_id        date  rating  \\\n",
       "927061     4470     137739  2006-02-18       5   \n",
       "927062   593927     137739  2010-08-21       5   \n",
       "927063   178427     137739  2011-12-05       5   \n",
       "\n",
       "                                                   review  \n",
       "927061   I used an acorn squash and recipe#137681 Swee...  \n",
       "927062  This was a nice change. I used butternut squas...  \n",
       "927063  Excellent recipe! I used butternut squash and ...  "
      ]
     },
     "execution_count": 11,
     "metadata": {},
     "output_type": "execute_result"
    }
   ],
   "source": [
    "raw_interactions[raw_interactions['recipe_id'] == 137739]"
   ]
  },
  {
   "cell_type": "markdown",
   "metadata": {},
   "source": [
    "#### Distribution of ratings\n",
    "\n",
    "\n",
    "Users generally rate higher. Not surprising, might be because they'd only try the recipe because they **are** interested in the recipe to begin with."
   ]
  },
  {
   "cell_type": "code",
   "execution_count": 14,
   "metadata": {},
   "outputs": [
    {
     "data": {
      "image/png": "[encoded data removed]",
      "text/plain": [
       "<Figure size 432x288 with 1 Axes>"
      ]
     },
     "metadata": {
      "needs_background": "light"
     },
     "output_type": "display_data"
    }
   ],
   "source": [
    "raw_interactions.rating.plot(kind='hist');"
   ]
  },
  {
   "cell_type": "markdown",
   "metadata": {},
   "source": [
    "#### Distribution of number of reviews per recipe\n",
    "\n",
    "On average, a recipe receives approx. 5 reviews each on food.com. See summary statistics and plot below."
   ]
  },
  {
   "cell_type": "code",
   "execution_count": 28,
   "metadata": {},
   "outputs": [
    {
     "data": {
      "text/plain": [
       "count    231637.000000\n",
       "mean          4.888541\n",
       "std          17.532481\n",
       "min           1.000000\n",
       "25%           1.000000\n",
       "50%           2.000000\n",
       "75%           4.000000\n",
       "max        1613.000000\n",
       "Name: user_id, dtype: float64"
      ]
     },
     "execution_count": 28,
     "metadata": {},
     "output_type": "execute_result"
    }
   ],
   "source": [
    "raw_interactions.groupby('recipe_id')['user_id'].count().describe()"
   ]
  },
  {
   "cell_type": "code",
   "execution_count": 61,
   "metadata": {},
   "outputs": [
    {
     "data": {
      "image/png": "[encoded data removed]",
      "text/plain": [
       "<Figure size 432x288 with 1 Axes>"
      ]
     },
     "metadata": {
      "needs_background": "light"
     },
     "output_type": "display_data"
    }
   ],
   "source": [
    "raw_interactions.groupby('recipe_id')['user_id'].count().plot(kind='hist');"
   ]
  },
  {
   "cell_type": "markdown",
   "metadata": {},
   "source": [
    "Not 100% confident this is the best way to code/calculate this distribution."
   ]
  },
  {
   "cell_type": "markdown",
   "metadata": {},
   "source": [
    "---\n",
    "\n",
    "EDA on `PP_recipes.csv`\n",
    "---\n",
    "\n",
    "Data documentation\n",
    "\n",
    "| Column             | Description                                    |\n",
    "| ------------------ | ---------------------------------------------- |\n",
    "| id                | Recipe ID                                       |\n",
    "| i                 | Recipe ID mapped to contiguous integers from 0  |\n",
    "| name_tokens       | BPE-tokenized recipe name                       |\n",
    "| ingredient_tokens | BPE-tokenized ingredients list (list of lists)  |\n",
    "| steps_tokens      | BPE-tokenized steps                             |\n",
    "| techniques        | List of techniques used in recipe               |\n",
    "| calorie_level     | Calorie level in ascending order                |\n",
    "| ingredient_ids    | IDs of ingredients in recipe                    |"
   ]
  },
  {
   "cell_type": "code",
   "execution_count": 56,
   "metadata": {},
   "outputs": [
    {
     "data": {
      "text/plain": [
       "(178265, 8)"
      ]
     },
     "execution_count": 56,
     "metadata": {},
     "output_type": "execute_result"
    }
   ],
   "source": [
    "pp_recipes = pd.read_csv('../data/PP_recipes.csv')\n",
    "pp_recipes.shape"
   ]
  },
  {
   "cell_type": "code",
   "execution_count": 57,
   "metadata": {
    "scrolled": true
   },
   "outputs": [
    {
     "data": {
      "text/html": [
       "<div>\n",
       "<style scoped>\n",
       "    .dataframe tbody tr th:only-of-type {\n",
       "        vertical-align: middle;\n",
       "    }\n",
       "\n",
       "    .dataframe tbody tr th {\n",
       "        vertical-align: top;\n",
       "    }\n",
       "\n",
       "    .dataframe thead th {\n",
       "        text-align: right;\n",
       "    }\n",
       "</style>\n",
       "<table border=\"1\" class=\"dataframe\">\n",
       "  <thead>\n",
       "    <tr style=\"text-align: right;\">\n",
       "      <th></th>\n",
       "      <th>id</th>\n",
       "      <th>i</th>\n",
       "      <th>name_tokens</th>\n",
       "      <th>ingredient_tokens</th>\n",
       "      <th>steps_tokens</th>\n",
       "      <th>techniques</th>\n",
       "      <th>calorie_level</th>\n",
       "      <th>ingredient_ids</th>\n",
       "    </tr>\n",
       "  </thead>\n",
       "  <tbody>\n",
       "    <tr>\n",
       "      <th>0</th>\n",
       "      <td>424415</td>\n",
       "      <td>23</td>\n",
       "      <td>[40480, 37229, 2911, 1019, 249, 6878, 6878, 28...</td>\n",
       "      <td>[[2911, 1019, 249, 6878], [1353], [6953], [153...</td>\n",
       "      <td>[40480, 40482, 21662, 481, 6878, 500, 246, 161...</td>\n",
       "      <td>[0, 0, 0, 0, 0, 0, 0, 0, 0, 1, 0, 0, 0, 0, 0, ...</td>\n",
       "      <td>0</td>\n",
       "      <td>[389, 7655, 6270, 1527, 3406]</td>\n",
       "    </tr>\n",
       "    <tr>\n",
       "      <th>1</th>\n",
       "      <td>146223</td>\n",
       "      <td>96900</td>\n",
       "      <td>[40480, 18376, 7056, 246, 1531, 2032, 40481]</td>\n",
       "      <td>[[17918], [25916], [2507, 6444], [8467, 1179],...</td>\n",
       "      <td>[40480, 40482, 729, 2525, 10906, 485, 43, 8393...</td>\n",
       "      <td>[1, 0, 0, 0, 0, 0, 0, 0, 0, 1, 0, 0, 0, 0, 0, ...</td>\n",
       "      <td>0</td>\n",
       "      <td>[2683, 4969, 800, 5298, 840, 2499, 6632, 7022,...</td>\n",
       "    </tr>\n",
       "    <tr>\n",
       "      <th>2</th>\n",
       "      <td>312329</td>\n",
       "      <td>120056</td>\n",
       "      <td>[40480, 21044, 16954, 8294, 556, 10837, 40481]</td>\n",
       "      <td>[[5867, 24176], [1353], [6953], [1301, 11332],...</td>\n",
       "      <td>[40480, 40482, 8240, 481, 24176, 296, 1353, 66...</td>\n",
       "      <td>[0, 0, 0, 0, 1, 0, 0, 0, 0, 0, 0, 1, 0, 0, 0, ...</td>\n",
       "      <td>1</td>\n",
       "      <td>[1257, 7655, 6270, 590, 5024, 1119, 4883, 6696...</td>\n",
       "    </tr>\n",
       "    <tr>\n",
       "      <th>3</th>\n",
       "      <td>74301</td>\n",
       "      <td>168258</td>\n",
       "      <td>[40480, 10025, 31156, 40481]</td>\n",
       "      <td>[[1270, 1645, 28447], [21601], [27952, 29471, ...</td>\n",
       "      <td>[40480, 40482, 5539, 21601, 1073, 903, 2324, 4...</td>\n",
       "      <td>[1, 0, 0, 0, 0, 0, 0, 0, 0, 0, 0, 0, 0, 0, 0, ...</td>\n",
       "      <td>0</td>\n",
       "      <td>[7940, 3609, 7060, 6265, 1170, 6654, 5003, 3561]</td>\n",
       "    </tr>\n",
       "    <tr>\n",
       "      <th>4</th>\n",
       "      <td>76272</td>\n",
       "      <td>109030</td>\n",
       "      <td>[40480, 17841, 252, 782, 2373, 1641, 2373, 252...</td>\n",
       "      <td>[[1430, 11434], [1430, 17027], [1615, 23, 695,...</td>\n",
       "      <td>[40480, 40482, 14046, 1430, 11434, 488, 17027,...</td>\n",
       "      <td>[0, 0, 0, 0, 0, 0, 0, 0, 0, 1, 0, 0, 0, 0, 0, ...</td>\n",
       "      <td>0</td>\n",
       "      <td>[3484, 6324, 7594, 243]</td>\n",
       "    </tr>\n",
       "  </tbody>\n",
       "</table>\n",
       "</div>"
      ],
      "text/plain": [
       "       id       i                                        name_tokens  \\\n",
       "0  424415      23  [40480, 37229, 2911, 1019, 249, 6878, 6878, 28...   \n",
       "1  146223   96900       [40480, 18376, 7056, 246, 1531, 2032, 40481]   \n",
       "2  312329  120056     [40480, 21044, 16954, 8294, 556, 10837, 40481]   \n",
       "3   74301  168258                       [40480, 10025, 31156, 40481]   \n",
       "4   76272  109030  [40480, 17841, 252, 782, 2373, 1641, 2373, 252...   \n",
       "\n",
       "                                   ingredient_tokens  \\\n",
       "0  [[2911, 1019, 249, 6878], [1353], [6953], [153...   \n",
       "1  [[17918], [25916], [2507, 6444], [8467, 1179],...   \n",
       "2  [[5867, 24176], [1353], [6953], [1301, 11332],...   \n",
       "3  [[1270, 1645, 28447], [21601], [27952, 29471, ...   \n",
       "4  [[1430, 11434], [1430, 17027], [1615, 23, 695,...   \n",
       "\n",
       "                                        steps_tokens  \\\n",
       "0  [40480, 40482, 21662, 481, 6878, 500, 246, 161...   \n",
       "1  [40480, 40482, 729, 2525, 10906, 485, 43, 8393...   \n",
       "2  [40480, 40482, 8240, 481, 24176, 296, 1353, 66...   \n",
       "3  [40480, 40482, 5539, 21601, 1073, 903, 2324, 4...   \n",
       "4  [40480, 40482, 14046, 1430, 11434, 488, 17027,...   \n",
       "\n",
       "                                          techniques  calorie_level  \\\n",
       "0  [0, 0, 0, 0, 0, 0, 0, 0, 0, 1, 0, 0, 0, 0, 0, ...              0   \n",
       "1  [1, 0, 0, 0, 0, 0, 0, 0, 0, 1, 0, 0, 0, 0, 0, ...              0   \n",
       "2  [0, 0, 0, 0, 1, 0, 0, 0, 0, 0, 0, 1, 0, 0, 0, ...              1   \n",
       "3  [1, 0, 0, 0, 0, 0, 0, 0, 0, 0, 0, 0, 0, 0, 0, ...              0   \n",
       "4  [0, 0, 0, 0, 0, 0, 0, 0, 0, 1, 0, 0, 0, 0, 0, ...              0   \n",
       "\n",
       "                                      ingredient_ids  \n",
       "0                      [389, 7655, 6270, 1527, 3406]  \n",
       "1  [2683, 4969, 800, 5298, 840, 2499, 6632, 7022,...  \n",
       "2  [1257, 7655, 6270, 590, 5024, 1119, 4883, 6696...  \n",
       "3   [7940, 3609, 7060, 6265, 1170, 6654, 5003, 3561]  \n",
       "4                            [3484, 6324, 7594, 243]  "
      ]
     },
     "execution_count": 57,
     "metadata": {},
     "output_type": "execute_result"
    }
   ],
   "source": [
    "pp_recipes.head()"
   ]
  },
  {
   "cell_type": "markdown",
   "metadata": {},
   "source": [
    "##### NOTE: Not useful. Won't be using this dataset!"
   ]
  },
  {
   "cell_type": "markdown",
   "metadata": {},
   "source": [
    "---\n",
    "\n",
    "EDA on `PP_users.csv`\n",
    "---\n",
    "\n",
    "Data documentation\n",
    "\n",
    "| Column     | Description                                          |\n",
    "| ---------- | ---------------------------------------------------- |\n",
    "| u          | User ID mapped to contiguous integer sequence from 0 |\n",
    "| techniques | Cooking techniques encountered by user               |\n",
    "| items      | Recipes interacted with, in order                    |\n",
    "| n_items    | Number of recipes reviewed                           |\n",
    "| ratings    | Ratings given to each recipe encountered by this user|\n",
    "| n_ratings  | Number of ratings in total                           |"
   ]
  },
  {
   "cell_type": "code",
   "execution_count": 29,
   "metadata": {},
   "outputs": [
    {
     "data": {
      "text/plain": [
       "(25076, 6)"
      ]
     },
     "execution_count": 29,
     "metadata": {},
     "output_type": "execute_result"
    }
   ],
   "source": [
    "pp_users = pd.read_csv('../data/PP_users.csv')\n",
    "pp_users.shape"
   ]
  },
  {
   "cell_type": "code",
   "execution_count": 30,
   "metadata": {},
   "outputs": [
    {
     "data": {
      "text/html": [
       "<div>\n",
       "<style scoped>\n",
       "    .dataframe tbody tr th:only-of-type {\n",
       "        vertical-align: middle;\n",
       "    }\n",
       "\n",
       "    .dataframe tbody tr th {\n",
       "        vertical-align: top;\n",
       "    }\n",
       "\n",
       "    .dataframe thead th {\n",
       "        text-align: right;\n",
       "    }\n",
       "</style>\n",
       "<table border=\"1\" class=\"dataframe\">\n",
       "  <thead>\n",
       "    <tr style=\"text-align: right;\">\n",
       "      <th></th>\n",
       "      <th>u</th>\n",
       "      <th>techniques</th>\n",
       "      <th>items</th>\n",
       "      <th>n_items</th>\n",
       "      <th>ratings</th>\n",
       "      <th>n_ratings</th>\n",
       "    </tr>\n",
       "  </thead>\n",
       "  <tbody>\n",
       "    <tr>\n",
       "      <th>0</th>\n",
       "      <td>0</td>\n",
       "      <td>[8, 0, 0, 5, 6, 0, 0, 1, 0, 9, 1, 0, 0, 0, 1, ...</td>\n",
       "      <td>[1118, 27680, 32541, 137353, 16428, 28815, 658...</td>\n",
       "      <td>31</td>\n",
       "      <td>[5.0, 5.0, 5.0, 5.0, 5.0, 5.0, 5.0, 4.0, 4.0, ...</td>\n",
       "      <td>31</td>\n",
       "    </tr>\n",
       "    <tr>\n",
       "      <th>1</th>\n",
       "      <td>1</td>\n",
       "      <td>[11, 0, 0, 2, 12, 0, 0, 0, 0, 14, 5, 0, 0, 0, ...</td>\n",
       "      <td>[122140, 77036, 156817, 76957, 68818, 155600, ...</td>\n",
       "      <td>39</td>\n",
       "      <td>[5.0, 5.0, 5.0, 5.0, 5.0, 5.0, 5.0, 5.0, 5.0, ...</td>\n",
       "      <td>39</td>\n",
       "    </tr>\n",
       "    <tr>\n",
       "      <th>2</th>\n",
       "      <td>2</td>\n",
       "      <td>[13, 0, 0, 7, 5, 0, 1, 2, 1, 11, 0, 1, 0, 0, 1...</td>\n",
       "      <td>[168054, 87218, 35731, 1, 20475, 9039, 124834,...</td>\n",
       "      <td>27</td>\n",
       "      <td>[3.0, 4.0, 4.0, 4.0, 4.0, 4.0, 4.0, 4.0, 5.0, ...</td>\n",
       "      <td>27</td>\n",
       "    </tr>\n",
       "    <tr>\n",
       "      <th>3</th>\n",
       "      <td>3</td>\n",
       "      <td>[498, 13, 4, 218, 376, 3, 2, 33, 16, 591, 10, ...</td>\n",
       "      <td>[163193, 156352, 102888, 19914, 169438, 55772,...</td>\n",
       "      <td>1513</td>\n",
       "      <td>[5.0, 5.0, 5.0, 5.0, 4.0, 4.0, 5.0, 5.0, 5.0, ...</td>\n",
       "      <td>1513</td>\n",
       "    </tr>\n",
       "    <tr>\n",
       "      <th>4</th>\n",
       "      <td>4</td>\n",
       "      <td>[161, 1, 1, 86, 93, 0, 0, 11, 2, 141, 0, 16, 0...</td>\n",
       "      <td>[72857, 38652, 160427, 55772, 119999, 141777, ...</td>\n",
       "      <td>376</td>\n",
       "      <td>[5.0, 5.0, 5.0, 5.0, 4.0, 4.0, 5.0, 4.0, 5.0, ...</td>\n",
       "      <td>376</td>\n",
       "    </tr>\n",
       "  </tbody>\n",
       "</table>\n",
       "</div>"
      ],
      "text/plain": [
       "   u                                         techniques  \\\n",
       "0  0  [8, 0, 0, 5, 6, 0, 0, 1, 0, 9, 1, 0, 0, 0, 1, ...   \n",
       "1  1  [11, 0, 0, 2, 12, 0, 0, 0, 0, 14, 5, 0, 0, 0, ...   \n",
       "2  2  [13, 0, 0, 7, 5, 0, 1, 2, 1, 11, 0, 1, 0, 0, 1...   \n",
       "3  3  [498, 13, 4, 218, 376, 3, 2, 33, 16, 591, 10, ...   \n",
       "4  4  [161, 1, 1, 86, 93, 0, 0, 11, 2, 141, 0, 16, 0...   \n",
       "\n",
       "                                               items  n_items  \\\n",
       "0  [1118, 27680, 32541, 137353, 16428, 28815, 658...       31   \n",
       "1  [122140, 77036, 156817, 76957, 68818, 155600, ...       39   \n",
       "2  [168054, 87218, 35731, 1, 20475, 9039, 124834,...       27   \n",
       "3  [163193, 156352, 102888, 19914, 169438, 55772,...     1513   \n",
       "4  [72857, 38652, 160427, 55772, 119999, 141777, ...      376   \n",
       "\n",
       "                                             ratings  n_ratings  \n",
       "0  [5.0, 5.0, 5.0, 5.0, 5.0, 5.0, 5.0, 4.0, 4.0, ...         31  \n",
       "1  [5.0, 5.0, 5.0, 5.0, 5.0, 5.0, 5.0, 5.0, 5.0, ...         39  \n",
       "2  [3.0, 4.0, 4.0, 4.0, 4.0, 4.0, 4.0, 4.0, 5.0, ...         27  \n",
       "3  [5.0, 5.0, 5.0, 5.0, 4.0, 4.0, 5.0, 5.0, 5.0, ...       1513  \n",
       "4  [5.0, 5.0, 5.0, 5.0, 4.0, 4.0, 5.0, 4.0, 5.0, ...        376  "
      ]
     },
     "execution_count": 30,
     "metadata": {},
     "output_type": "execute_result"
    }
   ],
   "source": [
    "pp_users.head()"
   ]
  },
  {
   "cell_type": "markdown",
   "metadata": {},
   "source": [
    "#### Distribution of number of reviews written per user\n",
    "\n",
    "On average, a user reviews approx. 28 recipes on food.com, see summary statistics & histogram below."
   ]
  },
  {
   "cell_type": "code",
   "execution_count": 54,
   "metadata": {},
   "outputs": [
    {
     "data": {
      "text/plain": [
       "count    25076.000000\n",
       "mean        27.871311\n",
       "std        122.729039\n",
       "min          2.000000\n",
       "25%          3.000000\n",
       "50%          6.000000\n",
       "75%         16.000000\n",
       "max       6437.000000\n",
       "Name: n_items, dtype: float64"
      ]
     },
     "execution_count": 54,
     "metadata": {},
     "output_type": "execute_result"
    }
   ],
   "source": [
    "pp_users['n_items'].describe()"
   ]
  },
  {
   "cell_type": "code",
   "execution_count": 58,
   "metadata": {},
   "outputs": [
    {
     "data": {
      "image/png": "[encoded data removed]",
      "text/plain": [
       "<Figure size 432x288 with 1 Axes>"
      ]
     },
     "metadata": {
      "needs_background": "light"
     },
     "output_type": "display_data"
    }
   ],
   "source": [
    "pp_users[pp_users['n_items'] < 50]['n_items'].plot(kind='hist', bins=20);"
   ]
  },
  {
   "cell_type": "markdown",
   "metadata": {},
   "source": [
    "---"
   ]
  }
 ],
 "metadata": {
  "kernelspec": {
   "display_name": "Python 3",
   "language": "python",
   "name": "python3"
  },
  "language_info": {
   "codemirror_mode": {
    "name": "ipython",
    "version": 3
   },
   "file_extension": ".py",
   "mimetype": "text/x-python",
   "name": "python",
   "nbconvert_exporter": "python",
   "pygments_lexer": "ipython3",
   "version": "3.7.4"
  }
 },
 "nbformat": 4,
 "nbformat_minor": 4
}
