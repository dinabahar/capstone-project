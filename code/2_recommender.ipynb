{
  "nbformat": 4,
  "nbformat_minor": 0,
  "metadata": {
    "kernelspec": {
      "display_name": "Python 3",
      "language": "python",
      "name": "python3"
    },
    "language_info": {
      "codemirror_mode": {
        "name": "ipython",
        "version": 3
      },
      "file_extension": ".py",
      "mimetype": "text/x-python",
      "name": "python",
      "nbconvert_exporter": "python",
      "pygments_lexer": "ipython3",
      "version": "3.7.4"
    },
    "colab": {
      "name": "2.recommender.ipynb",
      "provenance": [],
      "collapsed_sections": [],
      "machine_shape": "hm",
      "include_colab_link": true
    },
    "accelerator": "GPU"
  },
  "cells": [
    {
      "cell_type": "markdown",
      "metadata": {
        "id": "view-in-github",
        "colab_type": "text"
      },
      "source": [
        "<a href=\"https://colab.research.google.com/github/dinabahar/recipe-recommender/blob/master/code/2_recommender.ipynb\" target=\"_parent\"><img src=\"https://colab.research.google.com/assets/colab-badge.svg\" alt=\"Open In Colab\"/></a>"
      ]
    },
    {
      "cell_type": "markdown",
      "metadata": {
        "id": "PlDYU5ZmGdLh",
        "colab_type": "text"
      },
      "source": [
        "# Recipe Recommender\n",
        "In this notebook I built the the recommender system using the pre-processed data, `ready.csv`. \n",
        "\n",
        "Calculating pairwise distances for 30,000 data was too demanding on Jupyter. Hence, I ran my codes on Google Colab Pro with `GPU` and `High-RAM` runtime settings. \n",
        "\n",
        "If you are running this notebook with limited RAM, I recommend sampling the data even smaller.\n",
        "\n",
        "---\n",
        "## DIRECTORY\n",
        "1. [Import Libraries](#import)\n",
        "2. [Read Data](#read)\n",
        "3. [Preprocessing](#preprocessing)\n",
        "4. [Calculate Pairwise Distance](#pairwise)\n",
        "5. [RECiPE ROULETTE: Recommender System](#system)"
      ]
    },
    {
      "cell_type": "markdown",
      "metadata": {
        "id": "oqMyA3C2GdLi",
        "colab_type": "text"
      },
      "source": [
        "---\n",
        "<a id='import'></a>\n",
        "## 1. Import Libraries\n",
        "Along with Pandas, Numpy and Matplotlib, we are going to import,\n",
        "- `sparse` from SciPy to convert our data into CSR matrix which will be a more efficient way to store matrices. \n",
        "- `pairwise_distances` method from Scikit-learn to calculate pairwise distances.\n",
        "- `random` to pick 1 of 5 recommendation with lowest pairwise distances.\n",
        "- `colored` method from [termcolor](https://pypi.org/project/termcolor/), a python module for ANSII Color formatting for output in terminal."
      ]
    },
    {
      "cell_type": "code",
      "metadata": {
        "id": "f6kXMIPMGdLj",
        "colab_type": "code",
        "outputId": "9ae85310-3f9f-4203-d028-6b6b41c8e38f",
        "colab": {
          "base_uri": "https://localhost:8080/",
          "height": 54
        }
      },
      "source": [
        "import pandas as pd\n",
        "import numpy as np\n",
        "import matplotlib.pyplot as plt\n",
        "\n",
        "from scipy import sparse\n",
        "from sklearn.metrics.pairwise import pairwise_distances\n",
        "import random\n",
        "from termcolor import colored\n",
        "\n",
        "# Using Google Colab\n",
        "from google.colab import drive\n",
        "drive.mount('/content/drive')"
      ],
      "execution_count": 9,
      "outputs": [
        {
          "output_type": "stream",
          "text": [
            "Drive already mounted at /content/drive; to attempt to forcibly remount, call drive.mount(\"/content/drive\", force_remount=True).\n"
          ],
          "name": "stdout"
        }
      ]
    },
    {
      "cell_type": "markdown",
      "metadata": {
        "id": "soCsu5QSGdLm",
        "colab_type": "text"
      },
      "source": [
        "<a id='read'></a>\n",
        "## 2. Read Data\n",
        "I'm reading `cleaned_recipes.csv` to pull recipe information when outputing recommendation. As well as `ready.csv` for calculating the pairwise distance.\n",
        "\n",
        "**Read `cleaned_recipes.csv`**"
      ]
    },
    {
      "cell_type": "code",
      "metadata": {
        "id": "LgLry09Kh2La",
        "colab_type": "code",
        "outputId": "dc844c82-0dd5-4596-cfc4-0f7d84830d28",
        "colab": {
          "base_uri": "https://localhost:8080/",
          "height": 255
        }
      },
      "source": [
        "path = \"/content/drive/My Drive/recipe-recommender/cleaned_recipes.csv\"\n",
        "recipe_df = pd.read_csv(path)\n",
        "recipe_df.head()"
      ],
      "execution_count": 2,
      "outputs": [
        {
          "output_type": "execute_result",
          "data": {
            "text/html": [
              "<div>\n",
              "<style scoped>\n",
              "    .dataframe tbody tr th:only-of-type {\n",
              "        vertical-align: middle;\n",
              "    }\n",
              "\n",
              "    .dataframe tbody tr th {\n",
              "        vertical-align: top;\n",
              "    }\n",
              "\n",
              "    .dataframe thead th {\n",
              "        text-align: right;\n",
              "    }\n",
              "</style>\n",
              "<table border=\"1\" class=\"dataframe\">\n",
              "  <thead>\n",
              "    <tr style=\"text-align: right;\">\n",
              "      <th></th>\n",
              "      <th>name</th>\n",
              "      <th>minutes</th>\n",
              "      <th>steps</th>\n",
              "      <th>ingredients</th>\n",
              "    </tr>\n",
              "  </thead>\n",
              "  <tbody>\n",
              "    <tr>\n",
              "      <th>0</th>\n",
              "      <td>crab filled crescent snacks</td>\n",
              "      <td>70</td>\n",
              "      <td>['heat over to 375 degrees', 'spray large cook...</td>\n",
              "      <td>['crabmeat', 'cream cheese', 'green onions', '...</td>\n",
              "    </tr>\n",
              "    <tr>\n",
              "      <th>1</th>\n",
              "      <td>curried bean salad</td>\n",
              "      <td>20</td>\n",
              "      <td>['drain &amp; rinse beans', 'stir all ingredients ...</td>\n",
              "      <td>['garbanzo beans', 'black beans', 'onion', 'gi...</td>\n",
              "    </tr>\n",
              "    <tr>\n",
              "      <th>2</th>\n",
              "      <td>delicious steak with onion marinade</td>\n",
              "      <td>25</td>\n",
              "      <td>['heat the oil in a heavy-based pan and cook t...</td>\n",
              "      <td>['olive oil', 'red onion', 'light brown sugar'...</td>\n",
              "    </tr>\n",
              "    <tr>\n",
              "      <th>3</th>\n",
              "      <td>pork tenderloin with hoisin</td>\n",
              "      <td>15</td>\n",
              "      <td>['cut pork into 1 / 4-inch slices', 'in a larg...</td>\n",
              "      <td>['pork tenderloin', 'soy sauce', 'hoisin sauce...</td>\n",
              "    </tr>\n",
              "    <tr>\n",
              "      <th>4</th>\n",
              "      <td>mixed baby greens with oranges  grapefruit and...</td>\n",
              "      <td>15</td>\n",
              "      <td>['in a salad bowl combine the lettuce with the...</td>\n",
              "      <td>['mixed baby greens', 'oranges', 'grapefruit',...</td>\n",
              "    </tr>\n",
              "  </tbody>\n",
              "</table>\n",
              "</div>"
            ],
            "text/plain": [
              "                                                name  ...                                        ingredients\n",
              "0                        crab filled crescent snacks  ...  ['crabmeat', 'cream cheese', 'green onions', '...\n",
              "1                                 curried bean salad  ...  ['garbanzo beans', 'black beans', 'onion', 'gi...\n",
              "2                delicious steak with onion marinade  ...  ['olive oil', 'red onion', 'light brown sugar'...\n",
              "3                        pork tenderloin with hoisin  ...  ['pork tenderloin', 'soy sauce', 'hoisin sauce...\n",
              "4  mixed baby greens with oranges  grapefruit and...  ...  ['mixed baby greens', 'oranges', 'grapefruit',...\n",
              "\n",
              "[5 rows x 4 columns]"
            ]
          },
          "metadata": {
            "tags": []
          },
          "execution_count": 2
        }
      ]
    },
    {
      "cell_type": "markdown",
      "metadata": {
        "id": "6WOJyLmmU6aX",
        "colab_type": "text"
      },
      "source": [
        "**Read `ready.csv`**"
      ]
    },
    {
      "cell_type": "code",
      "metadata": {
        "id": "HFtgSc7PGdLn",
        "colab_type": "code",
        "outputId": "fbf92ff7-d9ac-49ed-e0c8-66d382187968",
        "colab": {
          "base_uri": "https://localhost:8080/",
          "height": 231
        }
      },
      "source": [
        "#df = pd.read_csv('../data/ready.csv')\n",
        "#df.head(1)\n",
        "\n",
        "# Using Google Colab\n",
        "\n",
        "path = \"/content/drive/My Drive/recipe-recommender/ready.csv\"\n",
        "df = pd.read_csv(path)\n",
        "df.head(1)"
      ],
      "execution_count": 3,
      "outputs": [
        {
          "output_type": "execute_result",
          "data": {
            "text/html": [
              "<div>\n",
              "<style scoped>\n",
              "    .dataframe tbody tr th:only-of-type {\n",
              "        vertical-align: middle;\n",
              "    }\n",
              "\n",
              "    .dataframe tbody tr th {\n",
              "        vertical-align: top;\n",
              "    }\n",
              "\n",
              "    .dataframe thead th {\n",
              "        text-align: right;\n",
              "    }\n",
              "</style>\n",
              "<table border=\"1\" class=\"dataframe\">\n",
              "  <thead>\n",
              "    <tr style=\"text-align: right;\">\n",
              "      <th></th>\n",
              "      <th>name</th>\n",
              "      <th>1-day-or-more</th>\n",
              "      <th>15-minutes-or-less</th>\n",
              "      <th>3-steps-or-less</th>\n",
              "      <th>30-minutes-or-less</th>\n",
              "      <th>4-hours-or-less</th>\n",
              "      <th>5-ingredients-or-less</th>\n",
              "      <th>60-minutes-or-less</th>\n",
              "      <th>african</th>\n",
              "      <th>american</th>\n",
              "      <th>amish-mennonite</th>\n",
              "      <th>appetizers</th>\n",
              "      <th>apples</th>\n",
              "      <th>argentine</th>\n",
              "      <th>asian</th>\n",
              "      <th>asparagus</th>\n",
              "      <th>australian</th>\n",
              "      <th>austrian</th>\n",
              "      <th>bacon</th>\n",
              "      <th>baja</th>\n",
              "      <th>baking</th>\n",
              "      <th>bananas</th>\n",
              "      <th>bar-cookies</th>\n",
              "      <th>barbecue</th>\n",
              "      <th>beans</th>\n",
              "      <th>beef</th>\n",
              "      <th>beef-organ-meats</th>\n",
              "      <th>beef-ribs</th>\n",
              "      <th>beef-sausage</th>\n",
              "      <th>beginner-cook</th>\n",
              "      <th>belgian</th>\n",
              "      <th>berries</th>\n",
              "      <th>beverages</th>\n",
              "      <th>birthday</th>\n",
              "      <th>biscotti</th>\n",
              "      <th>bisques-cream-soups</th>\n",
              "      <th>black-beans</th>\n",
              "      <th>blueberries</th>\n",
              "      <th>brazilian</th>\n",
              "      <th>bread-machine</th>\n",
              "      <th>...</th>\n",
              "      <th>superbowl</th>\n",
              "      <th>swedish</th>\n",
              "      <th>sweet</th>\n",
              "      <th>sweet-sauces</th>\n",
              "      <th>swiss</th>\n",
              "      <th>tarts</th>\n",
              "      <th>taste-mood</th>\n",
              "      <th>technique</th>\n",
              "      <th>tex-mex</th>\n",
              "      <th>thai</th>\n",
              "      <th>thanksgiving</th>\n",
              "      <th>tilapia</th>\n",
              "      <th>to-go</th>\n",
              "      <th>toddler-friendly</th>\n",
              "      <th>tomatoes</th>\n",
              "      <th>tropical-fruit</th>\n",
              "      <th>tuna</th>\n",
              "      <th>turkey</th>\n",
              "      <th>turkey-breasts</th>\n",
              "      <th>turkish</th>\n",
              "      <th>valentines-day</th>\n",
              "      <th>veal</th>\n",
              "      <th>vegan</th>\n",
              "      <th>vegetables</th>\n",
              "      <th>vegetarian</th>\n",
              "      <th>very-low-carbs</th>\n",
              "      <th>vietnamese</th>\n",
              "      <th>water-bath</th>\n",
              "      <th>wedding</th>\n",
              "      <th>weeknight</th>\n",
              "      <th>welsh</th>\n",
              "      <th>white-rice</th>\n",
              "      <th>whole-chicken</th>\n",
              "      <th>whole-turkey</th>\n",
              "      <th>wild-game</th>\n",
              "      <th>wings</th>\n",
              "      <th>winter</th>\n",
              "      <th>yams-sweet-potatoes</th>\n",
              "      <th>yeast</th>\n",
              "      <th>zucchini</th>\n",
              "    </tr>\n",
              "  </thead>\n",
              "  <tbody>\n",
              "    <tr>\n",
              "      <th>0</th>\n",
              "      <td>crab filled crescent snacks</td>\n",
              "      <td>0</td>\n",
              "      <td>0</td>\n",
              "      <td>0</td>\n",
              "      <td>0</td>\n",
              "      <td>1</td>\n",
              "      <td>0</td>\n",
              "      <td>0</td>\n",
              "      <td>0</td>\n",
              "      <td>0</td>\n",
              "      <td>0</td>\n",
              "      <td>0</td>\n",
              "      <td>0</td>\n",
              "      <td>0</td>\n",
              "      <td>0</td>\n",
              "      <td>0</td>\n",
              "      <td>0</td>\n",
              "      <td>0</td>\n",
              "      <td>0</td>\n",
              "      <td>0</td>\n",
              "      <td>0</td>\n",
              "      <td>0</td>\n",
              "      <td>0</td>\n",
              "      <td>0</td>\n",
              "      <td>0</td>\n",
              "      <td>0</td>\n",
              "      <td>0</td>\n",
              "      <td>0</td>\n",
              "      <td>0</td>\n",
              "      <td>0</td>\n",
              "      <td>0</td>\n",
              "      <td>0</td>\n",
              "      <td>0</td>\n",
              "      <td>0</td>\n",
              "      <td>0</td>\n",
              "      <td>0</td>\n",
              "      <td>0</td>\n",
              "      <td>0</td>\n",
              "      <td>0</td>\n",
              "      <td>0</td>\n",
              "      <td>...</td>\n",
              "      <td>0</td>\n",
              "      <td>0</td>\n",
              "      <td>0</td>\n",
              "      <td>0</td>\n",
              "      <td>0</td>\n",
              "      <td>0</td>\n",
              "      <td>0</td>\n",
              "      <td>0</td>\n",
              "      <td>0</td>\n",
              "      <td>0</td>\n",
              "      <td>0</td>\n",
              "      <td>0</td>\n",
              "      <td>1</td>\n",
              "      <td>0</td>\n",
              "      <td>0</td>\n",
              "      <td>0</td>\n",
              "      <td>0</td>\n",
              "      <td>0</td>\n",
              "      <td>0</td>\n",
              "      <td>0</td>\n",
              "      <td>0</td>\n",
              "      <td>0</td>\n",
              "      <td>0</td>\n",
              "      <td>0</td>\n",
              "      <td>0</td>\n",
              "      <td>0</td>\n",
              "      <td>0</td>\n",
              "      <td>0</td>\n",
              "      <td>0</td>\n",
              "      <td>0</td>\n",
              "      <td>0</td>\n",
              "      <td>0</td>\n",
              "      <td>0</td>\n",
              "      <td>0</td>\n",
              "      <td>0</td>\n",
              "      <td>0</td>\n",
              "      <td>0</td>\n",
              "      <td>0</td>\n",
              "      <td>0</td>\n",
              "      <td>0</td>\n",
              "    </tr>\n",
              "  </tbody>\n",
              "</table>\n",
              "<p>1 rows × 389 columns</p>\n",
              "</div>"
            ],
            "text/plain": [
              "                          name  1-day-or-more  ...  yeast  zucchini\n",
              "0  crab filled crescent snacks              0  ...      0         0\n",
              "\n",
              "[1 rows x 389 columns]"
            ]
          },
          "metadata": {
            "tags": []
          },
          "execution_count": 3
        }
      ]
    },
    {
      "cell_type": "markdown",
      "metadata": {
        "id": "AuxeiHvZVP5c",
        "colab_type": "text"
      },
      "source": [
        "<a id='preprocessing'></a>\n",
        "## 3. Preprocessing\n",
        "Before calculating the pairwise distances of 30,000 recipes, I need to set the `name` column as index and convert data into a CSR matrix.\n",
        "\n",
        "Note that I did not scale my data because everything is in binary. However, you should always scale your data if you are building a recommender system using non-binary values to control for differences in measurements."
      ]
    },
    {
      "cell_type": "code",
      "metadata": {
        "id": "3C3jzarnGdL7",
        "colab_type": "code",
        "outputId": "5c80067a-2adb-437c-fe5d-beaf6100e9a8",
        "colab": {
          "base_uri": "https://localhost:8080/",
          "height": 34
        }
      },
      "source": [
        "name_as_index = df.set_index('name')\n",
        "\n",
        "df_sparse = sparse.csr_matrix(name_as_index.fillna(0))\n",
        "\n",
        "df_sparse.shape"
      ],
      "execution_count": 4,
      "outputs": [
        {
          "output_type": "execute_result",
          "data": {
            "text/plain": [
              "(30000, 388)"
            ]
          },
          "metadata": {
            "tags": []
          },
          "execution_count": 4
        }
      ]
    },
    {
      "cell_type": "markdown",
      "metadata": {
        "id": "PwRQG1noPPLo",
        "colab_type": "text"
      },
      "source": [
        "<a id='pairwise'></a>\n",
        "## 4. Calculate Pairwise Distance\n",
        "Using Scikit-learn's `pairwise_distances` method and setting the metric to `cosine` to evaluate all pairs of sequences and transform the differences into a distance.\n",
        "\n",
        "The data is stored in the format of a `DataFrame`."
      ]
    },
    {
      "cell_type": "code",
      "metadata": {
        "id": "3fQaQ8tcbohe",
        "colab_type": "code",
        "colab": {}
      },
      "source": [
        "recommender = pairwise_distances(df_sparse, metric='cosine')"
      ],
      "execution_count": 0,
      "outputs": []
    },
    {
      "cell_type": "code",
      "metadata": {
        "id": "-9DWxVruGdMC",
        "colab_type": "code",
        "outputId": "59dc89bc-a9bf-4079-d199-fda114c8e997",
        "colab": {
          "base_uri": "https://localhost:8080/",
          "height": 51
        }
      },
      "source": [
        "%%time\n",
        "\n",
        "recommender_df = pd.DataFrame(recommender, \n",
        "                              columns=name_as_index.index,\n",
        "                              index=name_as_index.index)\n",
        "recommender_df.head()"
      ],
      "execution_count": 6,
      "outputs": [
        {
          "output_type": "stream",
          "text": [
            "CPU times: user 2.35 ms, sys: 0 ns, total: 2.35 ms\n",
            "Wall time: 1.61 ms\n"
          ],
          "name": "stdout"
        }
      ]
    },
    {
      "cell_type": "markdown",
      "metadata": {
        "id": "5cYMDtY_Pbjh",
        "colab_type": "text"
      },
      "source": [
        "<a id='system'></a>\n",
        "## 5. RECiPE ROULETTE: Recommender System\n",
        "Now, it's time to try out the recommender system!\n",
        "\n",
        "Since you must input the exact name of the recipe that's included in the recommender, here are 10 examples of the recipes you can choose from."
      ]
    },
    {
      "cell_type": "code",
      "metadata": {
        "id": "gtzomA2bbEmy",
        "colab_type": "code",
        "colab": {
          "base_uri": "https://localhost:8080/",
          "height": 359
        },
        "outputId": "188e9240-a300-4f3a-82d0-8c2e4af55870"
      },
      "source": [
        "df.sample(10, random_state=55)[['name']]"
      ],
      "execution_count": 7,
      "outputs": [
        {
          "output_type": "execute_result",
          "data": {
            "text/html": [
              "<div>\n",
              "<style scoped>\n",
              "    .dataframe tbody tr th:only-of-type {\n",
              "        vertical-align: middle;\n",
              "    }\n",
              "\n",
              "    .dataframe tbody tr th {\n",
              "        vertical-align: top;\n",
              "    }\n",
              "\n",
              "    .dataframe thead th {\n",
              "        text-align: right;\n",
              "    }\n",
              "</style>\n",
              "<table border=\"1\" class=\"dataframe\">\n",
              "  <thead>\n",
              "    <tr style=\"text-align: right;\">\n",
              "      <th></th>\n",
              "      <th>name</th>\n",
              "    </tr>\n",
              "  </thead>\n",
              "  <tbody>\n",
              "    <tr>\n",
              "      <th>24525</th>\n",
              "      <td>pizza swirls</td>\n",
              "    </tr>\n",
              "    <tr>\n",
              "      <th>21205</th>\n",
              "      <td>almost unsweetened applesauce   homemade</td>\n",
              "    </tr>\n",
              "    <tr>\n",
              "      <th>29812</th>\n",
              "      <td>cauliflower and coriander soup</td>\n",
              "    </tr>\n",
              "    <tr>\n",
              "      <th>3932</th>\n",
              "      <td>mango pineapple cobbler</td>\n",
              "    </tr>\n",
              "    <tr>\n",
              "      <th>19204</th>\n",
              "      <td>sangria chicken</td>\n",
              "    </tr>\n",
              "    <tr>\n",
              "      <th>9581</th>\n",
              "      <td>lamb stew with tomatoes  chickpeas and spices</td>\n",
              "    </tr>\n",
              "    <tr>\n",
              "      <th>19906</th>\n",
              "      <td>traditional tourtiere</td>\n",
              "    </tr>\n",
              "    <tr>\n",
              "      <th>13239</th>\n",
              "      <td>spicy peanut yogurt dip</td>\n",
              "    </tr>\n",
              "    <tr>\n",
              "      <th>1364</th>\n",
              "      <td>orange soda ice cream  electric ice cream maker</td>\n",
              "    </tr>\n",
              "    <tr>\n",
              "      <th>4317</th>\n",
              "      <td>thai corn chowder</td>\n",
              "    </tr>\n",
              "  </tbody>\n",
              "</table>\n",
              "</div>"
            ],
            "text/plain": [
              "                                                  name\n",
              "24525                                     pizza swirls\n",
              "21205         almost unsweetened applesauce   homemade\n",
              "29812                   cauliflower and coriander soup\n",
              "3932                           mango pineapple cobbler\n",
              "19204                                  sangria chicken\n",
              "9581     lamb stew with tomatoes  chickpeas and spices\n",
              "19906                            traditional tourtiere\n",
              "13239                          spicy peanut yogurt dip\n",
              "1364   orange soda ice cream  electric ice cream maker\n",
              "4317                                 thai corn chowder"
            ]
          },
          "metadata": {
            "tags": []
          },
          "execution_count": 7
        }
      ]
    },
    {
      "cell_type": "markdown",
      "metadata": {
        "id": "a2jQDhNxhTUh",
        "colab_type": "text"
      },
      "source": [
        "**Try RECiPE ROULETTE!**"
      ]
    },
    {
      "cell_type": "code",
      "metadata": {
        "id": "r35nFmIy7A2b",
        "colab_type": "code",
        "outputId": "2f793c78-33f4-41ce-dfe3-81e7c6d15201",
        "colab": {
          "base_uri": "https://localhost:8080/",
          "height": 530
        }
      },
      "source": [
        "x = input(\"Name the recipe you've rated highly: \").lower()\n",
        "\n",
        "i = random.randint(0,4)\n",
        "\n",
        "find = recommender_df[x].sort_values()[1:6].reset_index(drop=False).loc[i,'name']\n",
        "\n",
        "recommendation = recipe_df[recipe_df['name']==find].reset_index(drop=True)\n",
        "\n",
        "recipe = recommendation.loc[0, 'name']\n",
        "minutes = recommendation.loc[0, 'minutes']\n",
        "ingredients = recommendation.loc[0, 'ingredients']\n",
        "steps = recommendation.loc[0, 'steps']\n",
        "\n",
        "print()\n",
        "print(colored(\"RECiPE ROULETTE recommends:\", attrs=['bold']))\n",
        "print(colored(recipe.title(), 'white', 'on_magenta'))\n",
        "print()\n",
        "print(\"It takes \"+colored(minutes, 'magenta', attrs=['bold'])+\" minute(s).\")\n",
        "print()\n",
        "print(colored(\"You will need:\", attrs=['bold']))\n",
        "print(colored(\"- \"+ingredients[2:-2].replace(\"', '\", \"\\n- \"), 'magenta'))\n",
        "print()\n",
        "print(colored(\"And this is how:\", attrs=['bold']))\n",
        "print(colored(\"- \"+steps[2:-2].replace(\"', '\", \"\\n- \"), 'magenta'))"
      ],
      "execution_count": 10,
      "outputs": [
        {
          "output_type": "stream",
          "text": [
            "Name the recipe you've rated highly: thai corn chowder\n",
            "\n",
            "\u001b[1mRECiPE ROULETTE recommends:\u001b[0m\n",
            "\u001b[45m\u001b[37mStrawberries Jubilee   Fat Free\u001b[0m\n",
            "\n",
            "It takes \u001b[1m\u001b[35m20\u001b[0m minute(s).\n",
            "\n",
            "\u001b[1mYou will need:\u001b[0m\n",
            "\u001b[35m- orange rind\n",
            "- orange juice\n",
            "- granulated sugar\n",
            "- real vanilla\n",
            "- cornstarch\n",
            "- fresh strawberries\n",
            "- brandy\u001b[0m\n",
            "\n",
            "\u001b[1mAnd this is how:\u001b[0m\n",
            "\u001b[35m- in large skillet over medium heat , stir together orange rind strips , orange juice , sugar and vanilla until sugar is dissolved , about 4 minutes\n",
            "- bring to boil over medium-high heat\n",
            "- whisk cornstarch with 3 tbsp water\n",
            "- whisk into pan and boil , whisking constantly , until slightly thickened and glossy , about 1 minute\n",
            "- discard orange rind strips\n",
            "- add strawberries\n",
            "- cook just until softened , about 2 minutes\n",
            "- in small saucepan , heat brandy over medium heat\n",
            "- remove from heat\n",
            "- with long match , ignite brandy and pour , still flaming , over warm berries\n",
            "- when flame dies , serve immediately\n",
            "- if you are serving berries over ice cream or cake , do that first and then add the sauce\u001b[0m\n"
          ],
          "name": "stdout"
        }
      ]
    }
  ]
}