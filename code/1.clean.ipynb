{
 "cells": [
  {
   "cell_type": "markdown",
   "metadata": {},
   "source": [
    "Table of content\n",
    "---\n"
   ]
  },
  {
   "cell_type": "markdown",
   "metadata": {},
   "source": [
    "Import libraries\n",
    "---"
   ]
  },
  {
   "cell_type": "code",
   "execution_count": 1,
   "metadata": {},
   "outputs": [
    {
     "name": "stderr",
     "output_type": "stream",
     "text": [
      "/opt/anaconda3/lib/python3.7/site-packages/statsmodels/tools/_testing.py:19: FutureWarning: pandas.util.testing is deprecated. Use the functions in the public API at pandas.testing instead.\n",
      "  import pandas.util.testing as tm\n"
     ]
    }
   ],
   "source": [
    "import pandas as pd\n",
    "import numpy as np\n",
    "import matplotlib.pyplot as plt\n",
    "import seaborn as sns"
   ]
  },
  {
   "cell_type": "markdown",
   "metadata": {},
   "source": [
    "Read data\n",
    "---"
   ]
  },
  {
   "cell_type": "code",
   "execution_count": 2,
   "metadata": {},
   "outputs": [
    {
     "data": {
      "text/plain": [
       "(231637, 12)"
      ]
     },
     "execution_count": 2,
     "metadata": {},
     "output_type": "execute_result"
    }
   ],
   "source": [
    "df = pd.read_csv('../data/RAW_recipes.csv')\n",
    "df.shape"
   ]
  },
  {
   "cell_type": "code",
   "execution_count": 3,
   "metadata": {},
   "outputs": [
    {
     "data": {
      "text/html": [
       "<div>\n",
       "<style scoped>\n",
       "    .dataframe tbody tr th:only-of-type {\n",
       "        vertical-align: middle;\n",
       "    }\n",
       "\n",
       "    .dataframe tbody tr th {\n",
       "        vertical-align: top;\n",
       "    }\n",
       "\n",
       "    .dataframe thead th {\n",
       "        text-align: right;\n",
       "    }\n",
       "</style>\n",
       "<table border=\"1\" class=\"dataframe\">\n",
       "  <thead>\n",
       "    <tr style=\"text-align: right;\">\n",
       "      <th></th>\n",
       "      <th>name</th>\n",
       "      <th>id</th>\n",
       "      <th>minutes</th>\n",
       "      <th>contributor_id</th>\n",
       "      <th>submitted</th>\n",
       "      <th>tags</th>\n",
       "      <th>nutrition</th>\n",
       "      <th>n_steps</th>\n",
       "      <th>steps</th>\n",
       "      <th>description</th>\n",
       "      <th>ingredients</th>\n",
       "      <th>n_ingredients</th>\n",
       "    </tr>\n",
       "  </thead>\n",
       "  <tbody>\n",
       "    <tr>\n",
       "      <th>0</th>\n",
       "      <td>arriba   baked winter squash mexican style</td>\n",
       "      <td>137739</td>\n",
       "      <td>55</td>\n",
       "      <td>47892</td>\n",
       "      <td>2005-09-16</td>\n",
       "      <td>['60-minutes-or-less', 'time-to-make', 'course...</td>\n",
       "      <td>[51.5, 0.0, 13.0, 0.0, 2.0, 0.0, 4.0]</td>\n",
       "      <td>11</td>\n",
       "      <td>['make a choice and proceed with recipe', 'dep...</td>\n",
       "      <td>autumn is my favorite time of year to cook! th...</td>\n",
       "      <td>['winter squash', 'mexican seasoning', 'mixed ...</td>\n",
       "      <td>7</td>\n",
       "    </tr>\n",
       "    <tr>\n",
       "      <th>1</th>\n",
       "      <td>a bit different  breakfast pizza</td>\n",
       "      <td>31490</td>\n",
       "      <td>30</td>\n",
       "      <td>26278</td>\n",
       "      <td>2002-06-17</td>\n",
       "      <td>['30-minutes-or-less', 'time-to-make', 'course...</td>\n",
       "      <td>[173.4, 18.0, 0.0, 17.0, 22.0, 35.0, 1.0]</td>\n",
       "      <td>9</td>\n",
       "      <td>['preheat oven to 425 degrees f', 'press dough...</td>\n",
       "      <td>this recipe calls for the crust to be prebaked...</td>\n",
       "      <td>['prepared pizza crust', 'sausage patty', 'egg...</td>\n",
       "      <td>6</td>\n",
       "    </tr>\n",
       "  </tbody>\n",
       "</table>\n",
       "</div>"
      ],
      "text/plain": [
       "                                         name      id  minutes  \\\n",
       "0  arriba   baked winter squash mexican style  137739       55   \n",
       "1            a bit different  breakfast pizza   31490       30   \n",
       "\n",
       "   contributor_id   submitted  \\\n",
       "0           47892  2005-09-16   \n",
       "1           26278  2002-06-17   \n",
       "\n",
       "                                                tags  \\\n",
       "0  ['60-minutes-or-less', 'time-to-make', 'course...   \n",
       "1  ['30-minutes-or-less', 'time-to-make', 'course...   \n",
       "\n",
       "                                   nutrition  n_steps  \\\n",
       "0      [51.5, 0.0, 13.0, 0.0, 2.0, 0.0, 4.0]       11   \n",
       "1  [173.4, 18.0, 0.0, 17.0, 22.0, 35.0, 1.0]        9   \n",
       "\n",
       "                                               steps  \\\n",
       "0  ['make a choice and proceed with recipe', 'dep...   \n",
       "1  ['preheat oven to 425 degrees f', 'press dough...   \n",
       "\n",
       "                                         description  \\\n",
       "0  autumn is my favorite time of year to cook! th...   \n",
       "1  this recipe calls for the crust to be prebaked...   \n",
       "\n",
       "                                         ingredients  n_ingredients  \n",
       "0  ['winter squash', 'mexican seasoning', 'mixed ...              7  \n",
       "1  ['prepared pizza crust', 'sausage patty', 'egg...              6  "
      ]
     },
     "execution_count": 3,
     "metadata": {},
     "output_type": "execute_result"
    }
   ],
   "source": [
    "df.head(2)"
   ]
  },
  {
   "cell_type": "markdown",
   "metadata": {},
   "source": [
    "Check for missing values\n",
    "---\n",
    "The data is predominantly complete, except for 1 missing `name` and 4979 missing `description`s."
   ]
  },
  {
   "cell_type": "code",
   "execution_count": 4,
   "metadata": {},
   "outputs": [
    {
     "data": {
      "text/plain": [
       "name                 1\n",
       "id                   0\n",
       "minutes              0\n",
       "contributor_id       0\n",
       "submitted            0\n",
       "tags                 0\n",
       "nutrition            0\n",
       "n_steps              0\n",
       "steps                0\n",
       "description       4979\n",
       "ingredients          0\n",
       "n_ingredients        0\n",
       "dtype: int64"
      ]
     },
     "execution_count": 4,
     "metadata": {},
     "output_type": "execute_result"
    }
   ],
   "source": [
    "df.isna().sum()"
   ]
  },
  {
   "cell_type": "markdown",
   "metadata": {},
   "source": [
    "#### Missing `name`\n",
    "I found 1 recipe without a name, `id = 368257`. I'm dropping this from my data since it won't serve any good to my final product."
   ]
  },
  {
   "cell_type": "code",
   "execution_count": 5,
   "metadata": {},
   "outputs": [
    {
     "data": {
      "text/html": [
       "<div>\n",
       "<style scoped>\n",
       "    .dataframe tbody tr th:only-of-type {\n",
       "        vertical-align: middle;\n",
       "    }\n",
       "\n",
       "    .dataframe tbody tr th {\n",
       "        vertical-align: top;\n",
       "    }\n",
       "\n",
       "    .dataframe thead th {\n",
       "        text-align: right;\n",
       "    }\n",
       "</style>\n",
       "<table border=\"1\" class=\"dataframe\">\n",
       "  <thead>\n",
       "    <tr style=\"text-align: right;\">\n",
       "      <th></th>\n",
       "      <th>name</th>\n",
       "      <th>id</th>\n",
       "      <th>minutes</th>\n",
       "      <th>contributor_id</th>\n",
       "      <th>submitted</th>\n",
       "      <th>tags</th>\n",
       "      <th>nutrition</th>\n",
       "      <th>n_steps</th>\n",
       "      <th>steps</th>\n",
       "      <th>description</th>\n",
       "      <th>ingredients</th>\n",
       "      <th>n_ingredients</th>\n",
       "    </tr>\n",
       "  </thead>\n",
       "  <tbody>\n",
       "    <tr>\n",
       "      <th>721</th>\n",
       "      <td>NaN</td>\n",
       "      <td>368257</td>\n",
       "      <td>10</td>\n",
       "      <td>779451</td>\n",
       "      <td>2009-04-27</td>\n",
       "      <td>['15-minutes-or-less', 'time-to-make', 'course...</td>\n",
       "      <td>[1596.2, 249.0, 155.0, 0.0, 2.0, 112.0, 14.0]</td>\n",
       "      <td>6</td>\n",
       "      <td>['in a bowl , combine ingredients except for o...</td>\n",
       "      <td>-------------</td>\n",
       "      <td>['lemon', 'honey', 'horseradish mustard', 'gar...</td>\n",
       "      <td>10</td>\n",
       "    </tr>\n",
       "  </tbody>\n",
       "</table>\n",
       "</div>"
      ],
      "text/plain": [
       "    name      id  minutes  contributor_id   submitted  \\\n",
       "721  NaN  368257       10          779451  2009-04-27   \n",
       "\n",
       "                                                  tags  \\\n",
       "721  ['15-minutes-or-less', 'time-to-make', 'course...   \n",
       "\n",
       "                                         nutrition  n_steps  \\\n",
       "721  [1596.2, 249.0, 155.0, 0.0, 2.0, 112.0, 14.0]        6   \n",
       "\n",
       "                                                 steps    description  \\\n",
       "721  ['in a bowl , combine ingredients except for o...  -------------   \n",
       "\n",
       "                                           ingredients  n_ingredients  \n",
       "721  ['lemon', 'honey', 'horseradish mustard', 'gar...             10  "
      ]
     },
     "execution_count": 5,
     "metadata": {},
     "output_type": "execute_result"
    }
   ],
   "source": [
    "df[df.name.isna() == True]"
   ]
  },
  {
   "cell_type": "markdown",
   "metadata": {},
   "source": [
    "**Remove** `id = 368257` **from data**"
   ]
  },
  {
   "cell_type": "code",
   "execution_count": 6,
   "metadata": {},
   "outputs": [],
   "source": [
    "df.drop(index=721, inplace=True)"
   ]
  },
  {
   "cell_type": "markdown",
   "metadata": {},
   "source": [
    "**Sanity check**"
   ]
  },
  {
   "cell_type": "code",
   "execution_count": 7,
   "metadata": {},
   "outputs": [
    {
     "data": {
      "text/html": [
       "<div>\n",
       "<style scoped>\n",
       "    .dataframe tbody tr th:only-of-type {\n",
       "        vertical-align: middle;\n",
       "    }\n",
       "\n",
       "    .dataframe tbody tr th {\n",
       "        vertical-align: top;\n",
       "    }\n",
       "\n",
       "    .dataframe thead th {\n",
       "        text-align: right;\n",
       "    }\n",
       "</style>\n",
       "<table border=\"1\" class=\"dataframe\">\n",
       "  <thead>\n",
       "    <tr style=\"text-align: right;\">\n",
       "      <th></th>\n",
       "      <th>name</th>\n",
       "      <th>id</th>\n",
       "      <th>minutes</th>\n",
       "      <th>contributor_id</th>\n",
       "      <th>submitted</th>\n",
       "      <th>tags</th>\n",
       "      <th>nutrition</th>\n",
       "      <th>n_steps</th>\n",
       "      <th>steps</th>\n",
       "      <th>description</th>\n",
       "      <th>ingredients</th>\n",
       "      <th>n_ingredients</th>\n",
       "    </tr>\n",
       "  </thead>\n",
       "  <tbody>\n",
       "  </tbody>\n",
       "</table>\n",
       "</div>"
      ],
      "text/plain": [
       "Empty DataFrame\n",
       "Columns: [name, id, minutes, contributor_id, submitted, tags, nutrition, n_steps, steps, description, ingredients, n_ingredients]\n",
       "Index: []"
      ]
     },
     "execution_count": 7,
     "metadata": {},
     "output_type": "execute_result"
    }
   ],
   "source": [
    "df[df.name.isna() == True]"
   ]
  },
  {
   "cell_type": "markdown",
   "metadata": {},
   "source": [
    "#### Missing `description`s\n",
    "There are 4979 recipes without a descriptions. Descriptions are short introductions to a recipe from the contributors. Below is a description of recipe *! Arriba ! Baked Winter Squash Mexican-Style* as an example,\n",
    "> Autumn is my favorite time of year to cook! This recipe can be prepared either spicy or sweet, your choice! Two of my posted Mexican-inspired seasoning mix recipes are offered as suggestions.\n",
    "\n",
    "Source: [Food.com](https://www.food.com/recipe/arriba-baked-winter-squash-mexican-style-137739)\n",
    "\n",
    "Missing recipe descriptions are acceptable, so I will let this be (for now)."
   ]
  },
  {
   "cell_type": "code",
   "execution_count": 8,
   "metadata": {},
   "outputs": [
    {
     "data": {
      "text/html": [
       "<div>\n",
       "<style scoped>\n",
       "    .dataframe tbody tr th:only-of-type {\n",
       "        vertical-align: middle;\n",
       "    }\n",
       "\n",
       "    .dataframe tbody tr th {\n",
       "        vertical-align: top;\n",
       "    }\n",
       "\n",
       "    .dataframe thead th {\n",
       "        text-align: right;\n",
       "    }\n",
       "</style>\n",
       "<table border=\"1\" class=\"dataframe\">\n",
       "  <thead>\n",
       "    <tr style=\"text-align: right;\">\n",
       "      <th></th>\n",
       "      <th>name</th>\n",
       "      <th>id</th>\n",
       "      <th>minutes</th>\n",
       "      <th>contributor_id</th>\n",
       "      <th>submitted</th>\n",
       "      <th>tags</th>\n",
       "      <th>nutrition</th>\n",
       "      <th>n_steps</th>\n",
       "      <th>steps</th>\n",
       "      <th>description</th>\n",
       "      <th>ingredients</th>\n",
       "      <th>n_ingredients</th>\n",
       "    </tr>\n",
       "  </thead>\n",
       "  <tbody>\n",
       "    <tr>\n",
       "      <th>5</th>\n",
       "      <td>apple a day  milk shake</td>\n",
       "      <td>5289</td>\n",
       "      <td>0</td>\n",
       "      <td>1533</td>\n",
       "      <td>1999-12-06</td>\n",
       "      <td>['15-minutes-or-less', 'time-to-make', 'course...</td>\n",
       "      <td>[160.2, 10.0, 55.0, 3.0, 9.0, 20.0, 7.0]</td>\n",
       "      <td>4</td>\n",
       "      <td>['combine ingredients in blender', 'cover and ...</td>\n",
       "      <td>NaN</td>\n",
       "      <td>['milk', 'vanilla ice cream', 'frozen apple ju...</td>\n",
       "      <td>4</td>\n",
       "    </tr>\n",
       "    <tr>\n",
       "      <th>8</th>\n",
       "      <td>bananas 4 ice cream  pie</td>\n",
       "      <td>70971</td>\n",
       "      <td>180</td>\n",
       "      <td>102353</td>\n",
       "      <td>2003-09-10</td>\n",
       "      <td>['weeknight', 'time-to-make', 'course', 'main-...</td>\n",
       "      <td>[4270.8, 254.0, 1306.0, 111.0, 127.0, 431.0, 2...</td>\n",
       "      <td>8</td>\n",
       "      <td>['crumble cookies into a 9-inch pie plate , or...</td>\n",
       "      <td>NaN</td>\n",
       "      <td>['chocolate sandwich style cookies', 'chocolat...</td>\n",
       "      <td>6</td>\n",
       "    </tr>\n",
       "    <tr>\n",
       "      <th>74</th>\n",
       "      <td>philly  waldorf salad</td>\n",
       "      <td>5060</td>\n",
       "      <td>60</td>\n",
       "      <td>1534</td>\n",
       "      <td>1999-12-01</td>\n",
       "      <td>['60-minutes-or-less', 'time-to-make', 'course...</td>\n",
       "      <td>[180.7, 22.0, 29.0, 3.0, 6.0, 33.0, 3.0]</td>\n",
       "      <td>4</td>\n",
       "      <td>['combine softened cream cheese , orange juice...</td>\n",
       "      <td>NaN</td>\n",
       "      <td>['philadelphia cream cheese', 'orange juice', ...</td>\n",
       "      <td>7</td>\n",
       "    </tr>\n",
       "    <tr>\n",
       "      <th>76</th>\n",
       "      <td>pizza  stuffed potato</td>\n",
       "      <td>52443</td>\n",
       "      <td>25</td>\n",
       "      <td>1533</td>\n",
       "      <td>2003-01-28</td>\n",
       "      <td>['30-minutes-or-less', 'time-to-make', 'course...</td>\n",
       "      <td>[183.3, 12.0, 9.0, 15.0, 21.0, 23.0, 6.0]</td>\n",
       "      <td>8</td>\n",
       "      <td>['preheat oven to 450 degrees', 'cut potato in...</td>\n",
       "      <td>NaN</td>\n",
       "      <td>['baking potato', 'mozzarella cheese', 'tomato...</td>\n",
       "      <td>7</td>\n",
       "    </tr>\n",
       "    <tr>\n",
       "      <th>99</th>\n",
       "      <td>the woiks  dilly burgers</td>\n",
       "      <td>34930</td>\n",
       "      <td>32</td>\n",
       "      <td>23302</td>\n",
       "      <td>2002-07-24</td>\n",
       "      <td>['bacon', '60-minutes-or-less', 'time-to-make'...</td>\n",
       "      <td>[449.2, 50.0, 16.0, 19.0, 58.0, 67.0, 2.0]</td>\n",
       "      <td>8</td>\n",
       "      <td>['in a bowl , mix together the ground beef , m...</td>\n",
       "      <td>NaN</td>\n",
       "      <td>[\"mccormick's montreal brand steak seasoning\",...</td>\n",
       "      <td>9</td>\n",
       "    </tr>\n",
       "  </tbody>\n",
       "</table>\n",
       "</div>"
      ],
      "text/plain": [
       "                        name     id  minutes  contributor_id   submitted  \\\n",
       "5    apple a day  milk shake   5289        0            1533  1999-12-06   \n",
       "8   bananas 4 ice cream  pie  70971      180          102353  2003-09-10   \n",
       "74     philly  waldorf salad   5060       60            1534  1999-12-01   \n",
       "76     pizza  stuffed potato  52443       25            1533  2003-01-28   \n",
       "99  the woiks  dilly burgers  34930       32           23302  2002-07-24   \n",
       "\n",
       "                                                 tags  \\\n",
       "5   ['15-minutes-or-less', 'time-to-make', 'course...   \n",
       "8   ['weeknight', 'time-to-make', 'course', 'main-...   \n",
       "74  ['60-minutes-or-less', 'time-to-make', 'course...   \n",
       "76  ['30-minutes-or-less', 'time-to-make', 'course...   \n",
       "99  ['bacon', '60-minutes-or-less', 'time-to-make'...   \n",
       "\n",
       "                                            nutrition  n_steps  \\\n",
       "5            [160.2, 10.0, 55.0, 3.0, 9.0, 20.0, 7.0]        4   \n",
       "8   [4270.8, 254.0, 1306.0, 111.0, 127.0, 431.0, 2...        8   \n",
       "74           [180.7, 22.0, 29.0, 3.0, 6.0, 33.0, 3.0]        4   \n",
       "76          [183.3, 12.0, 9.0, 15.0, 21.0, 23.0, 6.0]        8   \n",
       "99         [449.2, 50.0, 16.0, 19.0, 58.0, 67.0, 2.0]        8   \n",
       "\n",
       "                                                steps description  \\\n",
       "5   ['combine ingredients in blender', 'cover and ...         NaN   \n",
       "8   ['crumble cookies into a 9-inch pie plate , or...         NaN   \n",
       "74  ['combine softened cream cheese , orange juice...         NaN   \n",
       "76  ['preheat oven to 450 degrees', 'cut potato in...         NaN   \n",
       "99  ['in a bowl , mix together the ground beef , m...         NaN   \n",
       "\n",
       "                                          ingredients  n_ingredients  \n",
       "5   ['milk', 'vanilla ice cream', 'frozen apple ju...              4  \n",
       "8   ['chocolate sandwich style cookies', 'chocolat...              6  \n",
       "74  ['philadelphia cream cheese', 'orange juice', ...              7  \n",
       "76  ['baking potato', 'mozzarella cheese', 'tomato...              7  \n",
       "99  [\"mccormick's montreal brand steak seasoning\",...              9  "
      ]
     },
     "execution_count": 8,
     "metadata": {},
     "output_type": "execute_result"
    }
   ],
   "source": [
    "df[df.description.isna() == True].head()"
   ]
  },
  {
   "cell_type": "markdown",
   "metadata": {},
   "source": [
    "Data types\n",
    "---\n",
    "I expected the `tags`, `nutrition`, `steps`, and `ingredients` columns to be list objects, not strings. I need to convert them into lists to dummy them later."
   ]
  },
  {
   "cell_type": "code",
   "execution_count": 9,
   "metadata": {},
   "outputs": [
    {
     "data": {
      "text/plain": [
       "name              object\n",
       "id                 int64\n",
       "minutes            int64\n",
       "contributor_id     int64\n",
       "submitted         object\n",
       "tags              object\n",
       "nutrition         object\n",
       "n_steps            int64\n",
       "steps             object\n",
       "description       object\n",
       "ingredients       object\n",
       "n_ingredients      int64\n",
       "dtype: object"
      ]
     },
     "execution_count": 9,
     "metadata": {},
     "output_type": "execute_result"
    }
   ],
   "source": [
    "df.dtypes"
   ]
  },
  {
   "cell_type": "markdown",
   "metadata": {},
   "source": [
    "Check for duplicates\n",
    "---\n",
    "No ducplicate recipes found."
   ]
  },
  {
   "cell_type": "code",
   "execution_count": 10,
   "metadata": {},
   "outputs": [
    {
     "data": {
      "text/html": [
       "<div>\n",
       "<style scoped>\n",
       "    .dataframe tbody tr th:only-of-type {\n",
       "        vertical-align: middle;\n",
       "    }\n",
       "\n",
       "    .dataframe tbody tr th {\n",
       "        vertical-align: top;\n",
       "    }\n",
       "\n",
       "    .dataframe thead th {\n",
       "        text-align: right;\n",
       "    }\n",
       "</style>\n",
       "<table border=\"1\" class=\"dataframe\">\n",
       "  <thead>\n",
       "    <tr style=\"text-align: right;\">\n",
       "      <th></th>\n",
       "      <th>name</th>\n",
       "      <th>id</th>\n",
       "      <th>minutes</th>\n",
       "      <th>contributor_id</th>\n",
       "      <th>submitted</th>\n",
       "      <th>tags</th>\n",
       "      <th>nutrition</th>\n",
       "      <th>n_steps</th>\n",
       "      <th>steps</th>\n",
       "      <th>description</th>\n",
       "      <th>ingredients</th>\n",
       "      <th>n_ingredients</th>\n",
       "    </tr>\n",
       "  </thead>\n",
       "  <tbody>\n",
       "  </tbody>\n",
       "</table>\n",
       "</div>"
      ],
      "text/plain": [
       "Empty DataFrame\n",
       "Columns: [name, id, minutes, contributor_id, submitted, tags, nutrition, n_steps, steps, description, ingredients, n_ingredients]\n",
       "Index: []"
      ]
     },
     "execution_count": 10,
     "metadata": {},
     "output_type": "execute_result"
    }
   ],
   "source": [
    "df[df.duplicated()]"
   ]
  },
  {
   "cell_type": "markdown",
   "metadata": {},
   "source": [
    "Check for outliers\n",
    "---\n",
    "I'm checking the distribution of cooking time, `minutes` column, to see if there are outliers. \n",
    "\n",
    "Recipes that require more than 2 hours to cook are considered outliers because they are beyond the upper extremes (upper whisker) as seen on the boxplot below.\n",
    "\n",
    "0.11 out of the 200,000+ recipe data are considered outliers. I will investigate further recipes that require longer than 2 hours to cook to find an explaination."
   ]
  },
  {
   "cell_type": "code",
   "execution_count": 11,
   "metadata": {},
   "outputs": [
    {
     "data": {
      "image/png": "[encoded data removed]",
      "text/plain": [
       "<Figure size 360x576 with 1 Axes>"
      ]
     },
     "metadata": {
      "needs_background": "light"
     },
     "output_type": "display_data"
    }
   ],
   "source": [
    "plt.figure(figsize=(5,8))\n",
    "plt.title('Boxplot of Cooking Time')\n",
    "df[df.minutes < 120]['minutes'].plot(kind='box');"
   ]
  },
  {
   "cell_type": "code",
   "execution_count": 12,
   "metadata": {},
   "outputs": [
    {
     "name": "stdout",
     "output_type": "stream",
     "text": [
      "0.11 out of the 200,000+ recipe data are considered outliers.\n"
     ]
    }
   ],
   "source": [
    "print(f\"{round(df[df.minutes > 120].shape[0]/df.shape[0],2)} out of the 200,000+ recipe data are considered outliers.\")"
   ]
  },
  {
   "cell_type": "markdown",
   "metadata": {},
   "source": [
    "#### Investigating outliers\n",
    "I dug into recipes that takes (approx.) 12 hours, 1 day, 1 month, 6 months and 1 year.\n",
    "\n",
    "I found that most time-consuming recipes involves fermenting or freezing, which explains the time requirement. The following are a few quotes from recipe instructions (`steps`) to support,\n",
    "\n",
    "| Recipe Name                    | Cooking Time | Quote                                                                                                                      |\n",
    "|--------------------------------|--------------|----------------------------------------------------------------------------------------------------------------------------|\n",
    "| Chocolate Banana Pudding Pops  | 12.0 hour    | Pour into ice pop molds and freeze 12 hours.                                                                               |\n",
    "| Artisan Sourdough Garlic Bread | 1.0 day      | Combine the sponge ingredients in a large plastic bowl , cover with plastic wrap and keep in a warm place for 18-20 hours. |\n",
    "| Lemon Vinegar                  | 1.0 month    | Cover and leave to go cold ... leave for 4 weeks.                                                                          |\n",
    "| Homemade Fruit Liquers         | 7.0 month    | Cap and store in a cool , dark place , stir once a week for 2 - 4 weeks.                                                   |\n",
    "\n",
    "More, the truly odd cases are the two recipes that takes longer than a year.\n",
    "\n",
    "| Recipe Name               | Cooking Time |\n",
    "|---------------------------|--------------|\n",
    "| How to Preserve a Husband | 2.0 year     |\n",
    "| No Bake Granola Balls     | 41 Century   |\n",
    "\n",
    "Firstly, the [How to Preserve a Husband](https://www.food.com/recipe/how-to-preserve-a-husband-447963) recipe takes 2 years and is obviously, judging from the name, a (good-intended) joke. While gauging from the comments section, it is well received by the Food.com community, it is irrelevant to my recommender system and hence it's removed from my data.\n",
    "\n",
    "Lastly, the [No Bake Granola Balls](https://www.food.com/recipe/no-bake-granola-balls-261647) takes centuries, 41 to be exact, is intuitively impossible given the name that says \"No Bake\". The recipe is imputed with the correct value that's listed on the website."
   ]
  },
  {
   "cell_type": "markdown",
   "metadata": {},
   "source": [
    "**Define a function that fetches time-consuming recipe details**"
   ]
  },
  {
   "cell_type": "code",
   "execution_count": 13,
   "metadata": {},
   "outputs": [],
   "source": [
    "def get_deets(index, unit):\n",
    "    \"\"\"\n",
    "    index = index of recipe in DataFrame\n",
    "    unit  = desired time unit\n",
    "    \"\"\"\n",
    "    \n",
    "    unit_conversions = {'hour': 60,\n",
    "                        'day':1440,\n",
    "                        'month':43800}\n",
    "    \n",
    "    name = df.loc[index]['name']\n",
    "    time = df.loc[index]['minutes']\n",
    "    recipe = df.loc[index]['steps'][2:-2].split(\"', '\")\n",
    "    \n",
    "    print(f'Name: {name.title() }')\n",
    "    print('Cooking Time: '+str(round(time/unit_conversions[unit]))+' '+ unit)\n",
    "    print(f'Recipe Steps: {recipe}')"
   ]
  },
  {
   "cell_type": "markdown",
   "metadata": {},
   "source": [
    "**Recipe that requires 12 hours**"
   ]
  },
  {
   "cell_type": "code",
   "execution_count": 14,
   "metadata": {},
   "outputs": [
    {
     "name": "stdout",
     "output_type": "stream",
     "text": [
      "Name: Chocolate Banana Pudding Pops\n",
      "Cooking Time: 12.0 hour\n",
      "Recipe Steps: ['combine all ingredients in a blender', 'puree until smooth', 'pour into ice pop molds and freeze 12 hours']\n"
     ]
    }
   ],
   "source": [
    "get_deets(49371, 'hour')"
   ]
  },
  {
   "cell_type": "markdown",
   "metadata": {},
   "source": [
    "**Recipe that requires 1 day**"
   ]
  },
  {
   "cell_type": "code",
   "execution_count": 15,
   "metadata": {},
   "outputs": [
    {
     "name": "stdout",
     "output_type": "stream",
     "text": [
      "Name: Artisan Sourdough Garlic Bread\n",
      "Cooking Time: 1.0 day\n",
      "Recipe Steps: ['the sponge: combine the sponge ingredients in a large plastic bowl , cover with plastic wrap and keep in a warm place for 18-20 hours', 'when ready the sponge should have expanded and smell pleasantly sour and bubbling', 'bread: place sponge and all other ingredients except garlic in mixing bowl , mix well and let rest 20-30 minutes', 'mix again for 5-10 minutes , then cover and allow to rise 2-3 hours', 'turn out onto lightly greased surface and flatten like you would cinnamon rolls', 'sprinkle the garlic cloves evenly over the dough and roll up in cinnamon roll fashion pinching the sides in as you make a long oblong shaped loaf', 'allow the loaf to rise covered with a towel for 2 hours or till almost doubled in size', 'preheat oven to 475f', 'slash the top of the loaf 4 times with a sharp knife', 'spritz loaf and oven with water', 'bake in 475f oven for 3 minutes spraying 2 more times', 'turn the oven down to 375f', 'spray often with the water and watch for the bread turning brown too fast', 'if it does , cover with a foil tent', 'bake approx 30-40 minutes or till nicely browned and bottom thumps hollow', 'this bread can be a little temperamental , just watch the coloring and adjust temp and cook time as needed']\n"
     ]
    }
   ],
   "source": [
    "get_deets(8966, 'day')"
   ]
  },
  {
   "cell_type": "markdown",
   "metadata": {},
   "source": [
    "**Recipe that requires 1 month**"
   ]
  },
  {
   "cell_type": "code",
   "execution_count": 16,
   "metadata": {},
   "outputs": [
    {
     "name": "stdout",
     "output_type": "stream",
     "text": [
      "Name: Lemon Vinegar\n",
      "Cooking Time: 1.0 month\n",
      "Recipe Steps: ['pour the vinegar into a stainless steel pan', 'wash the lemons and pare the rind from them with a potato peeler', 'add the peel to the pan with the bay leaves and boil for 5 minutes', 'cover and leave to go cold', 'bottle , including the peel and the bay', 'leave for 4 weeks', 'the vinegar can then either be strained and bottled or used as it is , depending on the strength you require']\n"
     ]
    }
   ],
   "source": [
    "get_deets(122419, 'month')"
   ]
  },
  {
   "cell_type": "markdown",
   "metadata": {},
   "source": [
    "**Recipe that requires more than 6 months**"
   ]
  },
  {
   "cell_type": "code",
   "execution_count": 17,
   "metadata": {},
   "outputs": [
    {
     "name": "stdout",
     "output_type": "stream",
     "text": [
      "Name: Homemade Fruit Liquers\n",
      "Cooking Time: 7.0 month\n",
      "Recipe Steps: ['rinse the fruit or berries , fruit must be cut into small pieces', 'place berries or fruit in a container , add vodka', 'cap and store in a cool , dark place , stir once a week for 2 - 4 weeks', 'strain through metal colander', 'transfer the unsweetened liqueur to an aging container', 'to 3 cups ml unsweetened liqueur add 1 1 / 4 cup granulated sugar', 'let age for at least three months', 'pour carefully the clear liqueur to a new bottle', 'add more sugar if necessary', 'the flavor of almost all liqueurs improves during storage', 'fruit and berry liqueurs should be stored for at least 6 months for maximum taste', 'some lemon liqueurs should not be stored for a long time']\n"
     ]
    }
   ],
   "source": [
    "get_deets(106563, 'month')"
   ]
  },
  {
   "cell_type": "markdown",
   "metadata": {},
   "source": [
    "**Recipes that require more than a year (525600 minutes)**\n",
    "\n",
    "The masked DataFrame below shows that there aren't a lot of time-consuming recipes beyond the 7-month mark. While the *Homemade Fruit Liquers* recipe is justified considering fermentations takes time, the recipe for *How to Preserve a Husband* and *No Bake Granola Balls* aren't.\n",
    "\n",
    "Firstly, the *How to Preserve a Husband* recipe takes 288,000 minutes (approx. 2 years) and is obviously, judging from the name, a (good-intended) joke. While gauging from the comments section, it is well received by the Food.com community, it is irrelevant to my recommender system and hence it's removed from my data.\n",
    "\n",
    "Lastly, the No Bake Granola Balls takes 2,147,483,647 minutes (approx. 41 centuries), is intuitively impossible given the name that says \"No Bake\". The recipe actually only takes 25 minutes when I checked the recipe on Food.com. The recipe is imputed with the correct value before moving forward."
   ]
  },
  {
   "cell_type": "code",
   "execution_count": 18,
   "metadata": {},
   "outputs": [
    {
     "data": {
      "text/html": [
       "<div>\n",
       "<style scoped>\n",
       "    .dataframe tbody tr th:only-of-type {\n",
       "        vertical-align: middle;\n",
       "    }\n",
       "\n",
       "    .dataframe tbody tr th {\n",
       "        vertical-align: top;\n",
       "    }\n",
       "\n",
       "    .dataframe thead th {\n",
       "        text-align: right;\n",
       "    }\n",
       "</style>\n",
       "<table border=\"1\" class=\"dataframe\">\n",
       "  <thead>\n",
       "    <tr style=\"text-align: right;\">\n",
       "      <th></th>\n",
       "      <th>name</th>\n",
       "      <th>id</th>\n",
       "      <th>minutes</th>\n",
       "      <th>contributor_id</th>\n",
       "      <th>submitted</th>\n",
       "      <th>tags</th>\n",
       "      <th>nutrition</th>\n",
       "      <th>n_steps</th>\n",
       "      <th>steps</th>\n",
       "      <th>description</th>\n",
       "      <th>ingredients</th>\n",
       "      <th>n_ingredients</th>\n",
       "    </tr>\n",
       "  </thead>\n",
       "  <tbody>\n",
       "    <tr>\n",
       "      <th>106563</th>\n",
       "      <td>homemade fruit liquers</td>\n",
       "      <td>291571</td>\n",
       "      <td>288000</td>\n",
       "      <td>553251</td>\n",
       "      <td>2008-03-12</td>\n",
       "      <td>['time-to-make', 'course', 'main-ingredient', ...</td>\n",
       "      <td>[836.2, 0.0, 333.0, 0.0, 0.0, 0.0, 27.0]</td>\n",
       "      <td>12</td>\n",
       "      <td>['rinse the fruit or berries , fruit must be c...</td>\n",
       "      <td>this should be a nice easy project for those w...</td>\n",
       "      <td>['berries', 'vodka', 'granulated sugar']</td>\n",
       "      <td>3</td>\n",
       "    </tr>\n",
       "    <tr>\n",
       "      <th>109624</th>\n",
       "      <td>how to preserve a husband</td>\n",
       "      <td>447963</td>\n",
       "      <td>1051200</td>\n",
       "      <td>576273</td>\n",
       "      <td>2011-02-01</td>\n",
       "      <td>['time-to-make', 'course', 'preparation', 'for...</td>\n",
       "      <td>[407.4, 57.0, 50.0, 1.0, 7.0, 115.0, 5.0]</td>\n",
       "      <td>9</td>\n",
       "      <td>['be careful in your selection', \"don't choose...</td>\n",
       "      <td>found this in a local wyoming cookbook \"a coll...</td>\n",
       "      <td>['cream', 'peach']</td>\n",
       "      <td>2</td>\n",
       "    </tr>\n",
       "    <tr>\n",
       "      <th>144074</th>\n",
       "      <td>no bake granola balls</td>\n",
       "      <td>261647</td>\n",
       "      <td>2147483647</td>\n",
       "      <td>464080</td>\n",
       "      <td>2007-10-26</td>\n",
       "      <td>['60-minutes-or-less', 'time-to-make', 'course...</td>\n",
       "      <td>[330.3, 23.0, 110.0, 4.0, 15.0, 24.0, 15.0]</td>\n",
       "      <td>9</td>\n",
       "      <td>['preheat the oven to 350 degrees', 'spread oa...</td>\n",
       "      <td>healthy snacks that kids (and grown ups) will ...</td>\n",
       "      <td>['rolled oats', 'unsweetened dried shredded co...</td>\n",
       "      <td>8</td>\n",
       "    </tr>\n",
       "  </tbody>\n",
       "</table>\n",
       "</div>"
      ],
      "text/plain": [
       "                             name      id     minutes  contributor_id  \\\n",
       "106563     homemade fruit liquers  291571      288000          553251   \n",
       "109624  how to preserve a husband  447963     1051200          576273   \n",
       "144074      no bake granola balls  261647  2147483647          464080   \n",
       "\n",
       "         submitted                                               tags  \\\n",
       "106563  2008-03-12  ['time-to-make', 'course', 'main-ingredient', ...   \n",
       "109624  2011-02-01  ['time-to-make', 'course', 'preparation', 'for...   \n",
       "144074  2007-10-26  ['60-minutes-or-less', 'time-to-make', 'course...   \n",
       "\n",
       "                                          nutrition  n_steps  \\\n",
       "106563     [836.2, 0.0, 333.0, 0.0, 0.0, 0.0, 27.0]       12   \n",
       "109624    [407.4, 57.0, 50.0, 1.0, 7.0, 115.0, 5.0]        9   \n",
       "144074  [330.3, 23.0, 110.0, 4.0, 15.0, 24.0, 15.0]        9   \n",
       "\n",
       "                                                    steps  \\\n",
       "106563  ['rinse the fruit or berries , fruit must be c...   \n",
       "109624  ['be careful in your selection', \"don't choose...   \n",
       "144074  ['preheat the oven to 350 degrees', 'spread oa...   \n",
       "\n",
       "                                              description  \\\n",
       "106563  this should be a nice easy project for those w...   \n",
       "109624  found this in a local wyoming cookbook \"a coll...   \n",
       "144074  healthy snacks that kids (and grown ups) will ...   \n",
       "\n",
       "                                              ingredients  n_ingredients  \n",
       "106563           ['berries', 'vodka', 'granulated sugar']              3  \n",
       "109624                                 ['cream', 'peach']              2  \n",
       "144074  ['rolled oats', 'unsweetened dried shredded co...              8  "
      ]
     },
     "execution_count": 18,
     "metadata": {},
     "output_type": "execute_result"
    }
   ],
   "source": [
    "df[df.minutes > 262800]"
   ]
  },
  {
   "cell_type": "markdown",
   "metadata": {},
   "source": [
    "**1. Removing How to Preserve a Husband from my data**"
   ]
  },
  {
   "cell_type": "code",
   "execution_count": 19,
   "metadata": {},
   "outputs": [
    {
     "data": {
      "text/html": [
       "<div>\n",
       "<style scoped>\n",
       "    .dataframe tbody tr th:only-of-type {\n",
       "        vertical-align: middle;\n",
       "    }\n",
       "\n",
       "    .dataframe tbody tr th {\n",
       "        vertical-align: top;\n",
       "    }\n",
       "\n",
       "    .dataframe thead th {\n",
       "        text-align: right;\n",
       "    }\n",
       "</style>\n",
       "<table border=\"1\" class=\"dataframe\">\n",
       "  <thead>\n",
       "    <tr style=\"text-align: right;\">\n",
       "      <th></th>\n",
       "      <th>name</th>\n",
       "      <th>id</th>\n",
       "      <th>minutes</th>\n",
       "      <th>contributor_id</th>\n",
       "      <th>submitted</th>\n",
       "      <th>tags</th>\n",
       "      <th>nutrition</th>\n",
       "      <th>n_steps</th>\n",
       "      <th>steps</th>\n",
       "      <th>description</th>\n",
       "      <th>ingredients</th>\n",
       "      <th>n_ingredients</th>\n",
       "    </tr>\n",
       "  </thead>\n",
       "  <tbody>\n",
       "    <tr>\n",
       "      <th>144074</th>\n",
       "      <td>no bake granola balls</td>\n",
       "      <td>261647</td>\n",
       "      <td>2147483647</td>\n",
       "      <td>464080</td>\n",
       "      <td>2007-10-26</td>\n",
       "      <td>['60-minutes-or-less', 'time-to-make', 'course...</td>\n",
       "      <td>[330.3, 23.0, 110.0, 4.0, 15.0, 24.0, 15.0]</td>\n",
       "      <td>9</td>\n",
       "      <td>['preheat the oven to 350 degrees', 'spread oa...</td>\n",
       "      <td>healthy snacks that kids (and grown ups) will ...</td>\n",
       "      <td>['rolled oats', 'unsweetened dried shredded co...</td>\n",
       "      <td>8</td>\n",
       "    </tr>\n",
       "  </tbody>\n",
       "</table>\n",
       "</div>"
      ],
      "text/plain": [
       "                         name      id     minutes  contributor_id   submitted  \\\n",
       "144074  no bake granola balls  261647  2147483647          464080  2007-10-26   \n",
       "\n",
       "                                                     tags  \\\n",
       "144074  ['60-minutes-or-less', 'time-to-make', 'course...   \n",
       "\n",
       "                                          nutrition  n_steps  \\\n",
       "144074  [330.3, 23.0, 110.0, 4.0, 15.0, 24.0, 15.0]        9   \n",
       "\n",
       "                                                    steps  \\\n",
       "144074  ['preheat the oven to 350 degrees', 'spread oa...   \n",
       "\n",
       "                                              description  \\\n",
       "144074  healthy snacks that kids (and grown ups) will ...   \n",
       "\n",
       "                                              ingredients  n_ingredients  \n",
       "144074  ['rolled oats', 'unsweetened dried shredded co...              8  "
      ]
     },
     "execution_count": 19,
     "metadata": {},
     "output_type": "execute_result"
    }
   ],
   "source": [
    "df.drop(index=109624, inplace=True)\n",
    "df[df.minutes > 525600]"
   ]
  },
  {
   "cell_type": "markdown",
   "metadata": {},
   "source": [
    "**2. Imputing No Bake Granola Balls with the correct value**"
   ]
  },
  {
   "cell_type": "code",
   "execution_count": 20,
   "metadata": {},
   "outputs": [
    {
     "data": {
      "text/plain": [
       "25"
      ]
     },
     "execution_count": 20,
     "metadata": {},
     "output_type": "execute_result"
    }
   ],
   "source": [
    "df.loc[144074, 'minutes'] = 25\n",
    "df.loc[144074, 'minutes']"
   ]
  },
  {
   "cell_type": "markdown",
   "metadata": {},
   "source": [
    "Reset index\n",
    "---"
   ]
  },
  {
   "cell_type": "code",
   "execution_count": 21,
   "metadata": {},
   "outputs": [
    {
     "data": {
      "text/html": [
       "<div>\n",
       "<style scoped>\n",
       "    .dataframe tbody tr th:only-of-type {\n",
       "        vertical-align: middle;\n",
       "    }\n",
       "\n",
       "    .dataframe tbody tr th {\n",
       "        vertical-align: top;\n",
       "    }\n",
       "\n",
       "    .dataframe thead th {\n",
       "        text-align: right;\n",
       "    }\n",
       "</style>\n",
       "<table border=\"1\" class=\"dataframe\">\n",
       "  <thead>\n",
       "    <tr style=\"text-align: right;\">\n",
       "      <th></th>\n",
       "      <th>name</th>\n",
       "      <th>id</th>\n",
       "      <th>minutes</th>\n",
       "      <th>contributor_id</th>\n",
       "      <th>submitted</th>\n",
       "      <th>tags</th>\n",
       "      <th>nutrition</th>\n",
       "      <th>n_steps</th>\n",
       "      <th>steps</th>\n",
       "      <th>description</th>\n",
       "      <th>ingredients</th>\n",
       "      <th>n_ingredients</th>\n",
       "    </tr>\n",
       "  </thead>\n",
       "  <tbody>\n",
       "    <tr>\n",
       "      <th>0</th>\n",
       "      <td>arriba   baked winter squash mexican style</td>\n",
       "      <td>137739</td>\n",
       "      <td>55</td>\n",
       "      <td>47892</td>\n",
       "      <td>2005-09-16</td>\n",
       "      <td>['60-minutes-or-less', 'time-to-make', 'course...</td>\n",
       "      <td>[51.5, 0.0, 13.0, 0.0, 2.0, 0.0, 4.0]</td>\n",
       "      <td>11</td>\n",
       "      <td>['make a choice and proceed with recipe', 'dep...</td>\n",
       "      <td>autumn is my favorite time of year to cook! th...</td>\n",
       "      <td>['winter squash', 'mexican seasoning', 'mixed ...</td>\n",
       "      <td>7</td>\n",
       "    </tr>\n",
       "    <tr>\n",
       "      <th>1</th>\n",
       "      <td>a bit different  breakfast pizza</td>\n",
       "      <td>31490</td>\n",
       "      <td>30</td>\n",
       "      <td>26278</td>\n",
       "      <td>2002-06-17</td>\n",
       "      <td>['30-minutes-or-less', 'time-to-make', 'course...</td>\n",
       "      <td>[173.4, 18.0, 0.0, 17.0, 22.0, 35.0, 1.0]</td>\n",
       "      <td>9</td>\n",
       "      <td>['preheat oven to 425 degrees f', 'press dough...</td>\n",
       "      <td>this recipe calls for the crust to be prebaked...</td>\n",
       "      <td>['prepared pizza crust', 'sausage patty', 'egg...</td>\n",
       "      <td>6</td>\n",
       "    </tr>\n",
       "    <tr>\n",
       "      <th>2</th>\n",
       "      <td>all in the kitchen  chili</td>\n",
       "      <td>112140</td>\n",
       "      <td>130</td>\n",
       "      <td>196586</td>\n",
       "      <td>2005-02-25</td>\n",
       "      <td>['time-to-make', 'course', 'preparation', 'mai...</td>\n",
       "      <td>[269.8, 22.0, 32.0, 48.0, 39.0, 27.0, 5.0]</td>\n",
       "      <td>6</td>\n",
       "      <td>['brown ground beef in large pot', 'add choppe...</td>\n",
       "      <td>this modified version of 'mom's' chili was a h...</td>\n",
       "      <td>['ground beef', 'yellow onions', 'diced tomato...</td>\n",
       "      <td>13</td>\n",
       "    </tr>\n",
       "    <tr>\n",
       "      <th>3</th>\n",
       "      <td>alouette  potatoes</td>\n",
       "      <td>59389</td>\n",
       "      <td>45</td>\n",
       "      <td>68585</td>\n",
       "      <td>2003-04-14</td>\n",
       "      <td>['60-minutes-or-less', 'time-to-make', 'course...</td>\n",
       "      <td>[368.1, 17.0, 10.0, 2.0, 14.0, 8.0, 20.0]</td>\n",
       "      <td>11</td>\n",
       "      <td>['place potatoes in a large pot of lightly sal...</td>\n",
       "      <td>this is a super easy, great tasting, make ahea...</td>\n",
       "      <td>['spreadable cheese with garlic and herbs', 'n...</td>\n",
       "      <td>11</td>\n",
       "    </tr>\n",
       "    <tr>\n",
       "      <th>4</th>\n",
       "      <td>amish  tomato ketchup  for canning</td>\n",
       "      <td>44061</td>\n",
       "      <td>190</td>\n",
       "      <td>41706</td>\n",
       "      <td>2002-10-25</td>\n",
       "      <td>['weeknight', 'time-to-make', 'course', 'main-...</td>\n",
       "      <td>[352.9, 1.0, 337.0, 23.0, 3.0, 0.0, 28.0]</td>\n",
       "      <td>5</td>\n",
       "      <td>['mix all ingredients&amp; boil for 2 1 / 2 hours ...</td>\n",
       "      <td>my dh's amish mother raised him on this recipe...</td>\n",
       "      <td>['tomato juice', 'apple cider vinegar', 'sugar...</td>\n",
       "      <td>8</td>\n",
       "    </tr>\n",
       "    <tr>\n",
       "      <th>...</th>\n",
       "      <td>...</td>\n",
       "      <td>...</td>\n",
       "      <td>...</td>\n",
       "      <td>...</td>\n",
       "      <td>...</td>\n",
       "      <td>...</td>\n",
       "      <td>...</td>\n",
       "      <td>...</td>\n",
       "      <td>...</td>\n",
       "      <td>...</td>\n",
       "      <td>...</td>\n",
       "      <td>...</td>\n",
       "    </tr>\n",
       "    <tr>\n",
       "      <th>231630</th>\n",
       "      <td>zydeco soup</td>\n",
       "      <td>486161</td>\n",
       "      <td>60</td>\n",
       "      <td>227978</td>\n",
       "      <td>2012-08-29</td>\n",
       "      <td>['ham', '60-minutes-or-less', 'time-to-make', ...</td>\n",
       "      <td>[415.2, 26.0, 34.0, 26.0, 44.0, 21.0, 15.0]</td>\n",
       "      <td>7</td>\n",
       "      <td>['heat oil in a 4-quart dutch oven', 'add cele...</td>\n",
       "      <td>this is a delicious soup that i originally fou...</td>\n",
       "      <td>['celery', 'onion', 'green sweet pepper', 'gar...</td>\n",
       "      <td>22</td>\n",
       "    </tr>\n",
       "    <tr>\n",
       "      <th>231631</th>\n",
       "      <td>zydeco spice mix</td>\n",
       "      <td>493372</td>\n",
       "      <td>5</td>\n",
       "      <td>1500678</td>\n",
       "      <td>2013-01-09</td>\n",
       "      <td>['15-minutes-or-less', 'time-to-make', 'course...</td>\n",
       "      <td>[14.8, 0.0, 2.0, 58.0, 1.0, 0.0, 1.0]</td>\n",
       "      <td>1</td>\n",
       "      <td>['mix all ingredients together thoroughly']</td>\n",
       "      <td>this spice mix will make your taste buds dance!</td>\n",
       "      <td>['paprika', 'salt', 'garlic powder', 'onion po...</td>\n",
       "      <td>13</td>\n",
       "    </tr>\n",
       "    <tr>\n",
       "      <th>231632</th>\n",
       "      <td>zydeco ya ya deviled eggs</td>\n",
       "      <td>308080</td>\n",
       "      <td>40</td>\n",
       "      <td>37779</td>\n",
       "      <td>2008-06-07</td>\n",
       "      <td>['60-minutes-or-less', 'time-to-make', 'course...</td>\n",
       "      <td>[59.2, 6.0, 2.0, 3.0, 6.0, 5.0, 0.0]</td>\n",
       "      <td>7</td>\n",
       "      <td>['in a bowl , combine the mashed yolks and may...</td>\n",
       "      <td>deviled eggs, cajun-style</td>\n",
       "      <td>['hard-cooked eggs', 'mayonnaise', 'dijon must...</td>\n",
       "      <td>8</td>\n",
       "    </tr>\n",
       "    <tr>\n",
       "      <th>231633</th>\n",
       "      <td>cookies by design   cookies on a stick</td>\n",
       "      <td>298512</td>\n",
       "      <td>29</td>\n",
       "      <td>506822</td>\n",
       "      <td>2008-04-15</td>\n",
       "      <td>['30-minutes-or-less', 'time-to-make', 'course...</td>\n",
       "      <td>[188.0, 11.0, 57.0, 11.0, 7.0, 21.0, 9.0]</td>\n",
       "      <td>9</td>\n",
       "      <td>['place melted butter in a large mixing bowl a...</td>\n",
       "      <td>i've heard of the 'cookies by design' company,...</td>\n",
       "      <td>['butter', 'eagle brand condensed milk', 'ligh...</td>\n",
       "      <td>10</td>\n",
       "    </tr>\n",
       "    <tr>\n",
       "      <th>231634</th>\n",
       "      <td>cookies by design   sugar shortbread cookies</td>\n",
       "      <td>298509</td>\n",
       "      <td>20</td>\n",
       "      <td>506822</td>\n",
       "      <td>2008-04-15</td>\n",
       "      <td>['30-minutes-or-less', 'time-to-make', 'course...</td>\n",
       "      <td>[174.9, 14.0, 33.0, 4.0, 4.0, 11.0, 6.0]</td>\n",
       "      <td>5</td>\n",
       "      <td>['whip sugar and shortening in a large bowl , ...</td>\n",
       "      <td>i've heard of the 'cookies by design' company,...</td>\n",
       "      <td>['granulated sugar', 'shortening', 'eggs', 'fl...</td>\n",
       "      <td>7</td>\n",
       "    </tr>\n",
       "  </tbody>\n",
       "</table>\n",
       "<p>231635 rows × 12 columns</p>\n",
       "</div>"
      ],
      "text/plain": [
       "                                                name      id  minutes  \\\n",
       "0         arriba   baked winter squash mexican style  137739       55   \n",
       "1                   a bit different  breakfast pizza   31490       30   \n",
       "2                          all in the kitchen  chili  112140      130   \n",
       "3                                 alouette  potatoes   59389       45   \n",
       "4                 amish  tomato ketchup  for canning   44061      190   \n",
       "...                                              ...     ...      ...   \n",
       "231630                                   zydeco soup  486161       60   \n",
       "231631                              zydeco spice mix  493372        5   \n",
       "231632                     zydeco ya ya deviled eggs  308080       40   \n",
       "231633        cookies by design   cookies on a stick  298512       29   \n",
       "231634  cookies by design   sugar shortbread cookies  298509       20   \n",
       "\n",
       "        contributor_id   submitted  \\\n",
       "0                47892  2005-09-16   \n",
       "1                26278  2002-06-17   \n",
       "2               196586  2005-02-25   \n",
       "3                68585  2003-04-14   \n",
       "4                41706  2002-10-25   \n",
       "...                ...         ...   \n",
       "231630          227978  2012-08-29   \n",
       "231631         1500678  2013-01-09   \n",
       "231632           37779  2008-06-07   \n",
       "231633          506822  2008-04-15   \n",
       "231634          506822  2008-04-15   \n",
       "\n",
       "                                                     tags  \\\n",
       "0       ['60-minutes-or-less', 'time-to-make', 'course...   \n",
       "1       ['30-minutes-or-less', 'time-to-make', 'course...   \n",
       "2       ['time-to-make', 'course', 'preparation', 'mai...   \n",
       "3       ['60-minutes-or-less', 'time-to-make', 'course...   \n",
       "4       ['weeknight', 'time-to-make', 'course', 'main-...   \n",
       "...                                                   ...   \n",
       "231630  ['ham', '60-minutes-or-less', 'time-to-make', ...   \n",
       "231631  ['15-minutes-or-less', 'time-to-make', 'course...   \n",
       "231632  ['60-minutes-or-less', 'time-to-make', 'course...   \n",
       "231633  ['30-minutes-or-less', 'time-to-make', 'course...   \n",
       "231634  ['30-minutes-or-less', 'time-to-make', 'course...   \n",
       "\n",
       "                                          nutrition  n_steps  \\\n",
       "0             [51.5, 0.0, 13.0, 0.0, 2.0, 0.0, 4.0]       11   \n",
       "1         [173.4, 18.0, 0.0, 17.0, 22.0, 35.0, 1.0]        9   \n",
       "2        [269.8, 22.0, 32.0, 48.0, 39.0, 27.0, 5.0]        6   \n",
       "3         [368.1, 17.0, 10.0, 2.0, 14.0, 8.0, 20.0]       11   \n",
       "4         [352.9, 1.0, 337.0, 23.0, 3.0, 0.0, 28.0]        5   \n",
       "...                                             ...      ...   \n",
       "231630  [415.2, 26.0, 34.0, 26.0, 44.0, 21.0, 15.0]        7   \n",
       "231631        [14.8, 0.0, 2.0, 58.0, 1.0, 0.0, 1.0]        1   \n",
       "231632         [59.2, 6.0, 2.0, 3.0, 6.0, 5.0, 0.0]        7   \n",
       "231633    [188.0, 11.0, 57.0, 11.0, 7.0, 21.0, 9.0]        9   \n",
       "231634     [174.9, 14.0, 33.0, 4.0, 4.0, 11.0, 6.0]        5   \n",
       "\n",
       "                                                    steps  \\\n",
       "0       ['make a choice and proceed with recipe', 'dep...   \n",
       "1       ['preheat oven to 425 degrees f', 'press dough...   \n",
       "2       ['brown ground beef in large pot', 'add choppe...   \n",
       "3       ['place potatoes in a large pot of lightly sal...   \n",
       "4       ['mix all ingredients& boil for 2 1 / 2 hours ...   \n",
       "...                                                   ...   \n",
       "231630  ['heat oil in a 4-quart dutch oven', 'add cele...   \n",
       "231631        ['mix all ingredients together thoroughly']   \n",
       "231632  ['in a bowl , combine the mashed yolks and may...   \n",
       "231633  ['place melted butter in a large mixing bowl a...   \n",
       "231634  ['whip sugar and shortening in a large bowl , ...   \n",
       "\n",
       "                                              description  \\\n",
       "0       autumn is my favorite time of year to cook! th...   \n",
       "1       this recipe calls for the crust to be prebaked...   \n",
       "2       this modified version of 'mom's' chili was a h...   \n",
       "3       this is a super easy, great tasting, make ahea...   \n",
       "4       my dh's amish mother raised him on this recipe...   \n",
       "...                                                   ...   \n",
       "231630  this is a delicious soup that i originally fou...   \n",
       "231631    this spice mix will make your taste buds dance!   \n",
       "231632                          deviled eggs, cajun-style   \n",
       "231633  i've heard of the 'cookies by design' company,...   \n",
       "231634  i've heard of the 'cookies by design' company,...   \n",
       "\n",
       "                                              ingredients  n_ingredients  \n",
       "0       ['winter squash', 'mexican seasoning', 'mixed ...              7  \n",
       "1       ['prepared pizza crust', 'sausage patty', 'egg...              6  \n",
       "2       ['ground beef', 'yellow onions', 'diced tomato...             13  \n",
       "3       ['spreadable cheese with garlic and herbs', 'n...             11  \n",
       "4       ['tomato juice', 'apple cider vinegar', 'sugar...              8  \n",
       "...                                                   ...            ...  \n",
       "231630  ['celery', 'onion', 'green sweet pepper', 'gar...             22  \n",
       "231631  ['paprika', 'salt', 'garlic powder', 'onion po...             13  \n",
       "231632  ['hard-cooked eggs', 'mayonnaise', 'dijon must...              8  \n",
       "231633  ['butter', 'eagle brand condensed milk', 'ligh...             10  \n",
       "231634  ['granulated sugar', 'shortening', 'eggs', 'fl...              7  \n",
       "\n",
       "[231635 rows x 12 columns]"
      ]
     },
     "execution_count": 21,
     "metadata": {},
     "output_type": "execute_result"
    }
   ],
   "source": [
    "df = df.reset_index(drop=True)\n",
    "df"
   ]
  },
  {
   "cell_type": "markdown",
   "metadata": {},
   "source": [
    "Save to CSV\n",
    "---"
   ]
  },
  {
   "cell_type": "code",
   "execution_count": 23,
   "metadata": {},
   "outputs": [
    {
     "data": {
      "text/html": [
       "<div>\n",
       "<style scoped>\n",
       "    .dataframe tbody tr th:only-of-type {\n",
       "        vertical-align: middle;\n",
       "    }\n",
       "\n",
       "    .dataframe tbody tr th {\n",
       "        vertical-align: top;\n",
       "    }\n",
       "\n",
       "    .dataframe thead th {\n",
       "        text-align: right;\n",
       "    }\n",
       "</style>\n",
       "<table border=\"1\" class=\"dataframe\">\n",
       "  <thead>\n",
       "    <tr style=\"text-align: right;\">\n",
       "      <th></th>\n",
       "      <th>name</th>\n",
       "      <th>id</th>\n",
       "      <th>minutes</th>\n",
       "      <th>contributor_id</th>\n",
       "      <th>submitted</th>\n",
       "      <th>tags</th>\n",
       "      <th>nutrition</th>\n",
       "      <th>n_steps</th>\n",
       "      <th>steps</th>\n",
       "      <th>description</th>\n",
       "      <th>ingredients</th>\n",
       "      <th>n_ingredients</th>\n",
       "    </tr>\n",
       "  </thead>\n",
       "  <tbody>\n",
       "    <tr>\n",
       "      <th>0</th>\n",
       "      <td>arriba   baked winter squash mexican style</td>\n",
       "      <td>137739</td>\n",
       "      <td>55</td>\n",
       "      <td>47892</td>\n",
       "      <td>2005-09-16</td>\n",
       "      <td>['60-minutes-or-less', 'time-to-make', 'course...</td>\n",
       "      <td>[51.5, 0.0, 13.0, 0.0, 2.0, 0.0, 4.0]</td>\n",
       "      <td>11</td>\n",
       "      <td>['make a choice and proceed with recipe', 'dep...</td>\n",
       "      <td>autumn is my favorite time of year to cook! th...</td>\n",
       "      <td>['winter squash', 'mexican seasoning', 'mixed ...</td>\n",
       "      <td>7</td>\n",
       "    </tr>\n",
       "    <tr>\n",
       "      <th>1</th>\n",
       "      <td>a bit different  breakfast pizza</td>\n",
       "      <td>31490</td>\n",
       "      <td>30</td>\n",
       "      <td>26278</td>\n",
       "      <td>2002-06-17</td>\n",
       "      <td>['30-minutes-or-less', 'time-to-make', 'course...</td>\n",
       "      <td>[173.4, 18.0, 0.0, 17.0, 22.0, 35.0, 1.0]</td>\n",
       "      <td>9</td>\n",
       "      <td>['preheat oven to 425 degrees f', 'press dough...</td>\n",
       "      <td>this recipe calls for the crust to be prebaked...</td>\n",
       "      <td>['prepared pizza crust', 'sausage patty', 'egg...</td>\n",
       "      <td>6</td>\n",
       "    </tr>\n",
       "    <tr>\n",
       "      <th>2</th>\n",
       "      <td>all in the kitchen  chili</td>\n",
       "      <td>112140</td>\n",
       "      <td>130</td>\n",
       "      <td>196586</td>\n",
       "      <td>2005-02-25</td>\n",
       "      <td>['time-to-make', 'course', 'preparation', 'mai...</td>\n",
       "      <td>[269.8, 22.0, 32.0, 48.0, 39.0, 27.0, 5.0]</td>\n",
       "      <td>6</td>\n",
       "      <td>['brown ground beef in large pot', 'add choppe...</td>\n",
       "      <td>this modified version of 'mom's' chili was a h...</td>\n",
       "      <td>['ground beef', 'yellow onions', 'diced tomato...</td>\n",
       "      <td>13</td>\n",
       "    </tr>\n",
       "    <tr>\n",
       "      <th>3</th>\n",
       "      <td>alouette  potatoes</td>\n",
       "      <td>59389</td>\n",
       "      <td>45</td>\n",
       "      <td>68585</td>\n",
       "      <td>2003-04-14</td>\n",
       "      <td>['60-minutes-or-less', 'time-to-make', 'course...</td>\n",
       "      <td>[368.1, 17.0, 10.0, 2.0, 14.0, 8.0, 20.0]</td>\n",
       "      <td>11</td>\n",
       "      <td>['place potatoes in a large pot of lightly sal...</td>\n",
       "      <td>this is a super easy, great tasting, make ahea...</td>\n",
       "      <td>['spreadable cheese with garlic and herbs', 'n...</td>\n",
       "      <td>11</td>\n",
       "    </tr>\n",
       "    <tr>\n",
       "      <th>4</th>\n",
       "      <td>amish  tomato ketchup  for canning</td>\n",
       "      <td>44061</td>\n",
       "      <td>190</td>\n",
       "      <td>41706</td>\n",
       "      <td>2002-10-25</td>\n",
       "      <td>['weeknight', 'time-to-make', 'course', 'main-...</td>\n",
       "      <td>[352.9, 1.0, 337.0, 23.0, 3.0, 0.0, 28.0]</td>\n",
       "      <td>5</td>\n",
       "      <td>['mix all ingredients&amp; boil for 2 1 / 2 hours ...</td>\n",
       "      <td>my dh's amish mother raised him on this recipe...</td>\n",
       "      <td>['tomato juice', 'apple cider vinegar', 'sugar...</td>\n",
       "      <td>8</td>\n",
       "    </tr>\n",
       "  </tbody>\n",
       "</table>\n",
       "</div>"
      ],
      "text/plain": [
       "                                         name      id  minutes  \\\n",
       "0  arriba   baked winter squash mexican style  137739       55   \n",
       "1            a bit different  breakfast pizza   31490       30   \n",
       "2                   all in the kitchen  chili  112140      130   \n",
       "3                          alouette  potatoes   59389       45   \n",
       "4          amish  tomato ketchup  for canning   44061      190   \n",
       "\n",
       "   contributor_id   submitted  \\\n",
       "0           47892  2005-09-16   \n",
       "1           26278  2002-06-17   \n",
       "2          196586  2005-02-25   \n",
       "3           68585  2003-04-14   \n",
       "4           41706  2002-10-25   \n",
       "\n",
       "                                                tags  \\\n",
       "0  ['60-minutes-or-less', 'time-to-make', 'course...   \n",
       "1  ['30-minutes-or-less', 'time-to-make', 'course...   \n",
       "2  ['time-to-make', 'course', 'preparation', 'mai...   \n",
       "3  ['60-minutes-or-less', 'time-to-make', 'course...   \n",
       "4  ['weeknight', 'time-to-make', 'course', 'main-...   \n",
       "\n",
       "                                    nutrition  n_steps  \\\n",
       "0       [51.5, 0.0, 13.0, 0.0, 2.0, 0.0, 4.0]       11   \n",
       "1   [173.4, 18.0, 0.0, 17.0, 22.0, 35.0, 1.0]        9   \n",
       "2  [269.8, 22.0, 32.0, 48.0, 39.0, 27.0, 5.0]        6   \n",
       "3   [368.1, 17.0, 10.0, 2.0, 14.0, 8.0, 20.0]       11   \n",
       "4   [352.9, 1.0, 337.0, 23.0, 3.0, 0.0, 28.0]        5   \n",
       "\n",
       "                                               steps  \\\n",
       "0  ['make a choice and proceed with recipe', 'dep...   \n",
       "1  ['preheat oven to 425 degrees f', 'press dough...   \n",
       "2  ['brown ground beef in large pot', 'add choppe...   \n",
       "3  ['place potatoes in a large pot of lightly sal...   \n",
       "4  ['mix all ingredients& boil for 2 1 / 2 hours ...   \n",
       "\n",
       "                                         description  \\\n",
       "0  autumn is my favorite time of year to cook! th...   \n",
       "1  this recipe calls for the crust to be prebaked...   \n",
       "2  this modified version of 'mom's' chili was a h...   \n",
       "3  this is a super easy, great tasting, make ahea...   \n",
       "4  my dh's amish mother raised him on this recipe...   \n",
       "\n",
       "                                         ingredients  n_ingredients  \n",
       "0  ['winter squash', 'mexican seasoning', 'mixed ...              7  \n",
       "1  ['prepared pizza crust', 'sausage patty', 'egg...              6  \n",
       "2  ['ground beef', 'yellow onions', 'diced tomato...             13  \n",
       "3  ['spreadable cheese with garlic and herbs', 'n...             11  \n",
       "4  ['tomato juice', 'apple cider vinegar', 'sugar...              8  "
      ]
     },
     "execution_count": 23,
     "metadata": {},
     "output_type": "execute_result"
    }
   ],
   "source": [
    "df.to_csv('../data/cleaned_recipes.csv', index = False)\n",
    "pd.read_csv('../data/cleaned_recipes.csv').head(0)"
   ]
  },
  {
   "cell_type": "code",
   "execution_count": null,
   "metadata": {},
   "outputs": [],
   "source": []
  }
 ],
 "metadata": {
  "kernelspec": {
   "display_name": "Python 3",
   "language": "python",
   "name": "python3"
  },
  "language_info": {
   "codemirror_mode": {
    "name": "ipython",
    "version": 3
   },
   "file_extension": ".py",
   "mimetype": "text/x-python",
   "name": "python",
   "nbconvert_exporter": "python",
   "pygments_lexer": "ipython3",
   "version": "3.7.4"
  }
 },
 "nbformat": 4,
 "nbformat_minor": 4
}
